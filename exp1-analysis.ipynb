{
 "cells": [
  {
   "cell_type": "code",
   "execution_count": 1,
   "id": "cdcf9027-4a32-4cdc-b958-a6dd03e08797",
   "metadata": {},
   "outputs": [],
   "source": [
    "import hashlib\n",
    "import numpy as np\n",
    "import pandas as pd\n",
    "import json\n",
    "import seaborn as sns\n",
    "import matplotlib.pylab as plt\n",
    "\n",
    "from sklearn.metrics import r2_score\n",
    "\n",
    "\n",
    "import importlib\n",
    "\n",
    "%load_ext autoreload\n",
    "%autoreload 2"
   ]
  },
  {
   "cell_type": "code",
   "execution_count": 2,
   "id": "622d4dba-7c4a-4b28-afca-9254dacf8a7b",
   "metadata": {},
   "outputs": [],
   "source": [
    "read_data_path = \"experiment/raw-exp-data/exp1/\"\n",
    "write_data_path = \"experiment/\""
   ]
  },
  {
   "cell_type": "markdown",
   "id": "c3d69daf-cd50-43d4-84e1-7f134bc03434",
   "metadata": {},
   "source": [
    "# Loading Data\n",
    "## Read participant info from questions"
   ]
  },
  {
   "cell_type": "code",
   "execution_count": 3,
   "id": "2a8be91a-0a53-4e70-aa01-0b665940a023",
   "metadata": {},
   "outputs": [],
   "source": [
    "questions = pd.read_csv(read_data_path + \"questiondata.csv\")"
   ]
  },
  {
   "cell_type": "code",
   "execution_count": null,
   "id": "2079144d-52dd-44d5-8866-52fbc1fc5e4c",
   "metadata": {},
   "outputs": [],
   "source": [
    "def get_objective_from_string(json_string):\n",
    "    \n",
    "    results_dict = json.loads(json_string)\n",
    "    return results_dict.get(\"objective\", \"unknown\")\n",
    "    \n",
    "def get_trial_type_from_string(json_string):\n",
    "\n",
    "    results_dict = json.loads(json_string)\n",
    "    return results_dict.get(\"trial_type\", \"unknown\")\n",
    "\n",
    "def get_horizon_from_string(json_string):\n",
    "\n",
    "    results_dict = json.loads(json_string)\n",
    "    return results_dict.get(\"horizon\", \"unknown\")\n",
    "    \n",
    "conditions = questions[questions.key == 'condition']\n",
    "conditions[\"objective\"] = conditions[\"value\"].apply(lambda x: get_objective_from_string(x))\n",
    "conditions[\"horizon\"] = conditions[\"value\"].apply(lambda x: get_horizon_from_string(x))\n",
    "conditions[\"message_type\"] = conditions[\"value\"].apply(lambda x: get_trial_type_from_string(x))\n",
    "\n",
    "participant_objectives = conditions.set_index(\"workerid\")[[\"message_type\", \"objective\", \"horizon\"]]"
   ]
  },
  {
   "cell_type": "code",
   "execution_count": 57,
   "id": "030e6727-a11f-43a1-b9cb-6e39e9b97f63",
   "metadata": {},
   "outputs": [
    {
     "data": {
      "text/plain": [
       "message_type  objective  horizon  \n",
       "select        ambiguous  ambiguous    101\n",
       "              belief     ambiguous    100\n",
       "              utility    ambiguous    100\n",
       "dtype: int64"
      ]
     },
     "execution_count": 57,
     "metadata": {},
     "output_type": "execute_result"
    }
   ],
   "source": [
    "conditions.groupby([\"message_type\", \"objective\", \"horizon\"]).size()"
   ]
  },
  {
   "cell_type": "code",
   "execution_count": 58,
   "id": "69825411-7931-43d6-8ff6-b780df177e35",
   "metadata": {},
   "outputs": [
    {
     "data": {
      "text/plain": [
       "select    301\n",
       "Name: message_type, dtype: int64"
      ]
     },
     "execution_count": 58,
     "metadata": {},
     "output_type": "execute_result"
    }
   ],
   "source": [
    "conditions[\"message_type\"].value_counts()"
   ]
  },
  {
   "cell_type": "code",
   "execution_count": 59,
   "id": "86c5c8e8-7596-4948-8081-f6b544bc0591",
   "metadata": {},
   "outputs": [
    {
     "name": "stdout",
     "output_type": "stream",
     "text": [
      "\n",
      "Log message counts:\n",
      "startTime               330\n",
      "condition               301\n",
      "trialDataFile           301\n",
      "featureRandomization    301\n",
      "quizAttempt-1           301\n",
      "quizPassed              285\n",
      "bonus                   285\n",
      "quizAttempt-2           138\n",
      "quizAttempt-3            40\n",
      "quizFailed               16\n",
      "Name: key, dtype: int64\n",
      "\n",
      "Full condition messages:\n",
      "{\"objective\":\"ambiguous\",\"trial_type\":\"select\",\"horizon\":\"ambiguous\"}    101\n",
      "{\"objective\":\"utility\",\"trial_type\":\"select\",\"horizon\":\"ambiguous\"}      100\n",
      "{\"objective\":\"belief\",\"trial_type\":\"select\",\"horizon\":\"ambiguous\"}       100\n",
      "Name: value, dtype: int64\n",
      "\n",
      "Trial data files used:\n",
      "exp1_split3    109\n",
      "exp1_split2     96\n",
      "exp1_split1     96\n",
      "Name: value, dtype: int64\n",
      "\n",
      "Feature randomizations:\n",
      "Striped    58\n",
      "Solid      53\n",
      "Red        50\n",
      "Blue       49\n",
      "Spotted    48\n",
      "Green      43\n",
      "Name: Green, dtype: int64\n",
      "Spotted    60\n",
      "Green      53\n",
      "Striped    50\n",
      "Solid      49\n",
      "Blue       48\n",
      "Red        41\n",
      "Name: Red, dtype: int64\n",
      "Solid      57\n",
      "Red        51\n",
      "Striped    51\n",
      "Spotted    51\n",
      "Green      46\n",
      "Blue       45\n",
      "Name: Blue, dtype: int64\n",
      "Red        59\n",
      "Solid      59\n",
      "Green      50\n",
      "Blue       50\n",
      "Striped    46\n",
      "Spotted    37\n",
      "Name: Spotted, dtype: int64\n",
      "Red        54\n",
      "Green      53\n",
      "Blue       52\n",
      "Striped    51\n",
      "Spotted    49\n",
      "Solid      42\n",
      "Name: Solid, dtype: int64\n",
      "Blue       57\n",
      "Green      56\n",
      "Spotted    56\n",
      "Red        46\n",
      "Striped    45\n",
      "Solid      41\n",
      "Name: Striped, dtype: int64\n"
     ]
    }
   ],
   "source": [
    "# Sanity check other randomizations\n",
    "\n",
    "if True:\n",
    "    print(\"\\nLog message counts:\")\n",
    "    print(questions.key.value_counts())\n",
    "    \n",
    "    print(\"\\nFull condition messages:\")\n",
    "    print(questions[questions.key == \"condition\"].value.value_counts())\n",
    "    \n",
    "    print(\"\\nTrial data files used:\")\n",
    "    print(questions[questions.key == \"trialDataFile\"].value.value_counts())\n",
    "\n",
    "    print(\"\\nFeature randomizations:\")\n",
    "    feature_randomizations = questions[questions.key == \"featureRandomization\"].value\n",
    "    feature_randomizations = feature_randomizations.apply(lambda x: json.loads(x))\n",
    "    feature_randomizations = pd.DataFrame(list(feature_randomizations.values))\n",
    "    for feature in [\"Green\", \"Red\", \"Blue\", \"Spotted\", \"Solid\", \"Striped\"]:\n",
    "        print(feature_randomizations[feature].value_counts())"
   ]
  },
  {
   "cell_type": "markdown",
   "id": "c70a16d9-3b68-4e62-afc5-45800991044e",
   "metadata": {},
   "source": [
    "## Read in trial data"
   ]
  },
  {
   "cell_type": "code",
   "execution_count": 60,
   "id": "5eb0dc83-890c-4569-a3e2-53bff364fd6d",
   "metadata": {},
   "outputs": [],
   "source": [
    "from datetime import datetime\n",
    "\n",
    "trials = pd.read_csv(read_data_path + \"trialdata.csv\")\n",
    "trials = trials[~trials.workerid.str.contains(\"debug\")]"
   ]
  },
  {
   "cell_type": "code",
   "execution_count": 61,
   "id": "845a502b-7d51-455b-be4a-d7f32d18d6ef",
   "metadata": {},
   "outputs": [],
   "source": [
    "# Read JSON data into Python objects\n",
    "trials[\"data\"] = trials.value.apply(lambda x: json.loads(x))\n",
    "\n",
    "for field in [\"rt\", \"trial_type\", \"action_context\"]:\n",
    "    trials[field] = trials.data.apply(lambda x: x.get(field))\n",
    "    \n",
    "trials.trial_type.value_counts()\n",
    "trials = trials.set_index(\"workerid\").join(participant_objectives, how=\"left\").reset_index()"
   ]
  },
  {
   "cell_type": "code",
   "execution_count": 62,
   "id": "2262201b-12cc-40a2-8a52-c97198b77236",
   "metadata": {},
   "outputs": [
    {
     "name": "stdout",
     "output_type": "stream",
     "text": [
      "objective\n",
      "ambiguous    101\n",
      "belief       100\n",
      "utility      100\n",
      "Name: workerid, dtype: int64\n"
     ]
    }
   ],
   "source": [
    "print(trials.groupby(\"objective\").workerid.nunique())"
   ]
  },
  {
   "cell_type": "code",
   "execution_count": 63,
   "id": "cf15af50-684c-4f4a-a32e-7245c073e760",
   "metadata": {},
   "outputs": [
    {
     "data": {
      "text/plain": [
       "ambiguous    15460\n",
       "Name: horizon, dtype: int64"
      ]
     },
     "execution_count": 63,
     "metadata": {},
     "output_type": "execute_result"
    }
   ],
   "source": [
    "trials[\"horizon\"] = trials.horizon.apply(lambda x: 1 if x == 'single' else x)\n",
    "trials[\"horizon\"].value_counts()"
   ]
  },
  {
   "cell_type": "code",
   "execution_count": 64,
   "id": "055a2357-e96e-41b6-9396-be47d65f75a9",
   "metadata": {},
   "outputs": [
    {
     "name": "stdout",
     "output_type": "stream",
     "text": [
      "Pre-Quiz Counts\n"
     ]
    },
    {
     "data": {
      "text/plain": [
       "message_type\n",
       "select    301\n",
       "Name: workerid, dtype: int64"
      ]
     },
     "execution_count": 64,
     "metadata": {},
     "output_type": "execute_result"
    }
   ],
   "source": [
    "print(\"Pre-Quiz Counts\")\n",
    "trials.groupby(\"message_type\").workerid.nunique()"
   ]
  },
  {
   "cell_type": "code",
   "execution_count": 66,
   "id": "2d891f6b-64f2-4f98-a496-d9cb8acd1137",
   "metadata": {},
   "outputs": [
    {
     "name": "stdout",
     "output_type": "stream",
     "text": [
      "\n",
      "         ====== ambiguous ======\n",
      "\n",
      "Experiment Objective:\n",
      "\n",
      "['To give information about the mushroom types and which are the tastiest'\n",
      " 'To tell the person the features of the mushroom'\n",
      " 'To teach the tourists about mushrooms'\n",
      " 'help people learn which is the best mushroom'\n",
      " 'help visitors find the tastiest mushrooms'\n",
      " 'To teach people about mushrooms and selecting the best one for eating.'\n",
      " 'To teach visitors about mushrooms' 'T tell people about the fungi'\n",
      " 'To maximise the tastiness of the recommended mushroom'\n",
      " 'Help tourists get the most points' 'Help tourists pick mushrooms'\n",
      " 'Recommend mushroom features for best tasting mushrooms'\n",
      " 'keep tourists from eating bad mushrooms'\n",
      " 'To Help advise the best mushroom of 3 each person picked'\n",
      " 'To try and upsell the best mushroom to pick.'\n",
      " 'Guiding tourists to pick the tastiest mushroom.'\n",
      " 'Tell people which mushroom was best'\n",
      " 'For tourists to pick the tastiest mushrooms'\n",
      " 'Give information about mushrooms ' 'To choose the best mushrooms'\n",
      " 'To highlight the best mushroom to pick'\n",
      " 'to tell the people which was the best mushroom'\n",
      " 'Talk to the visitors about the mushrooms' 'Provide info on mushrooms'\n",
      " 'To tell the tourist about one feature'\n",
      " 'To try and tell the tourists which is the best tasting mushroom to pick'\n",
      " 'to advise tourists about mushrooms'\n",
      " 'To guide tourists to the most valuable mushrooms.'\n",
      " 'guide the tourists to pick the tastiest mushroom'\n",
      " 'To show tourists around and advise which mushrooms are tastiest.'\n",
      " 'To teach tourists about mushrooms.'\n",
      " 'tell tourists about mushroom flavor'\n",
      " 'to help inform the tourists about the attributes'\n",
      " 'teach tastiness of mushrooms' 'to tell them about the mushrooms'\n",
      " 'advise best mushroom' 'Tell tourist about mushroom features'\n",
      " 'To show tourists features of mushrooms'\n",
      " 'To inform the tourist an element of the mushrooms they see that impacts their tastiness score'\n",
      " 'teach tourist about mushrooms'\n",
      " 'to help tourists pick the tastiest mushroom'\n",
      " 'to help the tourist to pick mushroom'\n",
      " 'to show tourists what mushrooms are better'\n",
      " 'To get the tourist to choose the tastiest possible mushroom'\n",
      " 'To help them figure out the best mushroom by colour'\n",
      " 'To inform the tourists of the tastiest mushrooms'\n",
      " 'to guide them about mushrooms'\n",
      " 'Tell a single fact about the current mushroom patch so that the tourist can pick the best mushroom.'\n",
      " 'recommend the mushroom'\n",
      " 'To guide tourists and teach them about mushrooms '\n",
      " 'To help customers choose the best mushroom'\n",
      " 'To help tourists pick the best mushroom'\n",
      " 'to advise which mushrooms are tasier than others'\n",
      " 'teach the tourists about the mushrooms and get them to choose the best one'\n",
      " 'Teach tourists about Mushrooms' 'To teach visitors about mushrooms'\n",
      " 'Teach tourists about mushroom features'\n",
      " 'To help them choose the tastiest muchroom'\n",
      " 'Trying to hint at the mushrooms with the highest point scores'\n",
      " 'To state the most advantageous feature' 'educate tourirts'\n",
      " 'to teach the value of mushrooms taste wise '\n",
      " 'To advise on a single mushroom feature'\n",
      " 'To advise visitors on the best mushrooms'\n",
      " 'To understand the different mushroom values'\n",
      " 'get them to pick the tastiest mushroom'\n",
      " 'get people to pick the best mushroom' 'to teach people about mushrooms'\n",
      " 'Find the best tasting mushroom' 'Teach the tourists about mushrooms'\n",
      " 'To give information on which mushrooms are tastiest'\n",
      " 'to guide the client towards the mushroom with the highest value'\n",
      " 'to help tourists pick mushrooms'\n",
      " 'To point out the most valuable attribute in each patch'\n",
      " 'To point them to the best tasting mushrooms'\n",
      " 'To guide tourists around the mushrooms'\n",
      " 'To advise visitors on which mushroom to eat' 'mmm tasty mushrooms'\n",
      " 'To give the most accurate description.' 'Tell visitors about mushrooms.'\n",
      " 'explain 1 feature to the visitor'\n",
      " 'Teach tourists about which were the most flavoursome mushrooms'\n",
      " 'to pick the tastiest mushroom' 'Show the tastiest muchroom'\n",
      " 'provide information on different mushroom values'\n",
      " 'to give information that would help pick the nicest mushrooms'\n",
      " 'to teach the tourists about the different mushrooms and the values of certain characteristics each possessed (ie. striped mushroom was -1 to the value of it)'\n",
      " 'to advise people on what mushroom to choose'\n",
      " 'Tell people about the best mushroom to eat' 'Explain the best mushrooms'\n",
      " 'To tell the tourosts the best mushrooms to pick'\n",
      " 'teach tourists the best mushrooms'\n",
      " 'To guide the tourists towards choosing the tastiest musshroom from the choice of 3'\n",
      " 'To teach the tourists about mushrooms - help them choose the best ones.'\n",
      " 'To suggest the tastiest mushrooms to tourists' 'to choose good mushroom'\n",
      " 'to help them find the tastiest mushrooms'\n",
      " 'To explain the relative values of the mushrooms.']\n",
      "\n",
      "Participant Strategies:\n",
      "\n",
      "['I was trying to suggest the one which would be worth the most points'\n",
      " 'I picked the best ones.'\n",
      " 'To maximise the score that the tourist could select with their mushroom'\n",
      " 'remember the objectives' 'teach the differences'\n",
      " 'I identified the mushroom that would be the tastiest and determined which quality differed from the others that gave it the most points '\n",
      " 'To  learn about the different types of mushrooms to be informed and give the best advice'\n",
      " 'I just told themwhat I thought I was supposed to, highest value mushroom'\n",
      " 'To try to steer the person towards choosing the highest point mushroom'\n",
      " 'Point out distinctive traits to guide them to highest scoring mushroom'\n",
      " \"Identify what made the most valuable mushroom unique within the bunch and form a statement that'll encourage the tourist to pick it\"\n",
      " 'chose the feature with the highest sum' 'let them know which is good'\n",
      " 'remembering the value of the 3 types of texture and 3 colours and trying to tally up the value to select the best '\n",
      " 'I tried to offer the best mushroom. So the green spotted was the highest i could offer them. '\n",
      " \"Give them relevant information according to the mushroom's properties..\"\n",
      " 'Add/subtract values' 'Inform then of highest scoring characteristic '\n",
      " 'To determine the nicest mushroom by its features ' 'Using the values'\n",
      " 'To mention a unique feature that the most valuable mushroom contained'\n",
      " 'go for the highest number' 'Using memory' 'Get the tastier ones'\n",
      " 'tell the tourist about the most common feature'\n",
      " 'If there is a red, always choose red. If there is none available, avoid the negative blue'\n",
      " 'to give the best advise I know of'\n",
      " 'Finding the unique characteristic that would guide the tourist to the most valuable mushroom or away from the least valuable.'\n",
      " 'lie if necessary to steer the tourist towards the higher valued mushrooms'\n",
      " 'I looked at telling them the best things about their patch - so if it had a solid mushroom I would tell them about that, if not then I would tell them about a blue mushroom, then striped, then spotted.'\n",
      " 'To input the correct values the mushroom in question.'\n",
      " 'pick the one with the best flavor / highest positive value'\n",
      " 'give them the fact most likely to push them towards the highest value mushroom'\n",
      " 'just remembering the values' 'Calculate the value ' 'Pick the highest'\n",
      " 'Tell them about the best mushrooms or the ones to avoid'\n",
      " 'Remember the grid showing colours and texture'\n",
      " 'to give the piece of info that would push them towards the tastiest choice, or if there is more than one, the information that would make them avoid the least tasty'\n",
      " 'pass test' 'try and indicate the highest taste score '\n",
      " 'tried level best '\n",
      " 'process of elimination of the bad feature to describe'\n",
      " \"Slightly complicated. I first worked out if I wanted them to pick the tastiest or avoid the worst. If they were picking the tastiest I'd find the difference with the greatest possible value whether that was colour or pattern and point that out. If I was getting them to avoid the worst I'd do the same for worst negative value.\"\n",
      " 'I gave them clues about what they had in front of them'\n",
      " 'pick the ones with the most points' 'learn the patterns'\n",
      " 'Reveal the highest value of the mushroom in the current patch to the tourist to aid them in their picking.'\n",
      " 'to see which  one was the highest value'\n",
      " 'Pick the ones with the most positive ratings '\n",
      " 'choose the highest value mushroom and describe its highest rated unique trait'\n",
      " 'Encourage them to pick the tastiest, or steer them away from what would be unpleasant'\n",
      " 'know the colurs and textures'\n",
      " 'chose the highest score and then tried to think which combo would make them choose it'\n",
      " 'Recommend the tastiest  Mushroom based on color and pattern'\n",
      " 'I memorised the colours and pattern values of the mushrooms'\n",
      " 'Make sure to read through the information - about the mushrooms. '\n",
      " 'make sure they pick good ones by telling them the best feature'\n",
      " 'would try to find a way to get them to infer what colour or pattern is a better choice.'\n",
      " 'Compare the relevant numbers and select the highest' 'Na'\n",
      " 'i just tried to remember the values  '\n",
      " 'either them highest value feature or the one that made the difference'\n",
      " 'Give the most positive characteristic of the tastiest mushroom which was unique to that mushroom'\n",
      " 'to try to remember the value of colours and patterns'\n",
      " 'point them towards the tastiest one'\n",
      " 'encourage them with what was the best option'\n",
      " 'to remember as much as possible'\n",
      " 'try and establish which is best only using one description'\n",
      " 'Tell them about the most relevant characterisitic'\n",
      " 'Direct the person which mushroom to choose by picking the most positive option'\n",
      " 'to eliminate the lowest scoring of the 3 at least by indicating the highest scoring characteristic even if 2 shared that characteristic'\n",
      " 'to pick the best ones i can with an more positive number'\n",
      " 'remembering point score for attributes'\n",
      " 'Let them know the best or worst'\n",
      " 'Try to tell the tourist the information about what there is more of'\n",
      " 'Look for the defining characteristic of the highest value mushroom'\n",
      " 'to avoid the worst choice , and indicate the best choice where possible'\n",
      " 'Evaluate color that was unique.'\n",
      " 'I tried to ensure they would pick the best mushroom.'\n",
      " 'suggest the tastiest mushroom'\n",
      " 'always give the best result ineach section'\n",
      " 'choose the one that has striped markings'\n",
      " 'Judge the worst and direct upward'\n",
      " 'advise the visitors on the worst ones to look out for'\n",
      " 'try to either give a clue which would identify the best or worst'\n",
      " 'I let them know which mushroom characteristic was the highest bonus value (e.g. green=+2)'\n",
      " 'pick the best tasting mushroom to describe'\n",
      " 'Tell them defining feature about best mushroom'\n",
      " 'Describe the value of the mushrooms'\n",
      " 'choosing the mushrooms with higher point offers nad avoiding the less tasty ones '\n",
      " 'I tried to pick the characteristic that would help the tourist pick the best mushroom'\n",
      " 'To try and choose the feature unique to the tastiest mushroom where possible, or the least tastiest (ie warn against) where not'\n",
      " 'To pick the key feature that made the choice the most obvious'\n",
      " 'To point them towards the mushrooms with the highest score'\n",
      " 'point value'\n",
      " 'I tried to help tourists identify the most and least tasty options to help them make a good choice'\n",
      " 'To try and indicate the most valuable.']\n",
      "\n",
      "Anything Confusing:\n",
      "\n",
      "['Nothing confusing' 'none' 'No' 'no' 'no'\n",
      " 'I thought I was trying to teach them which were the tastiest, but I seemed to be choosing the same thing over and over, and worried about whether I had misunderstood the directions.'\n",
      " 'I would have liked a little more information about how to choose the best mushroom from those that were displayed'\n",
      " 'Why there were so many spotted ones' 'No' 'No' 'No' 'N/A' 'no' 'none'\n",
      " 'Duel meaning. So the Blue might be worth-1, but in the context of the patch, the blue mushroom might actually worth +1 if it were a spotted blue one. '\n",
      " \"Something didn't feel right, but I can't put my finger on what.\"\n",
      " 'The fact that there was 6 options - i.e., striped/spotted/solid/green/red/blue - but only one option for which was better '\n",
      " 'No' 'Nope, all was clear ' 'No' 'No' 'no' 'No'\n",
      " 'No +3 for the red spotty mushrooms' 'no' 'no' 'no' 'no' 'no' 'No'\n",
      " 'No, everything was crystal clear.'\n",
      " 'was i supposed to make the most accurate statement selection or the closest positive flavor rating statement?'\n",
      " 'no' 'no' 'no' 'no' 'All good' 'It was easy' 'no, everything is clear'\n",
      " 'No' 'no' 'none' 'all very clearly explained!'\n",
      " 'Trying to explain my strategy!' 'nope'\n",
      " 'I thought it was confusing that there was only a choice of value of + 2 to  -2-2'\n",
      " 'nope' 'No.' 'no' 'No nothing ' 'No'\n",
      " \"I didn't notice the negative sign during the intro, sometimes that was slightly confusing.  I did wonder if the tourists were told the score of each mushroom, but I suppose they didn't or they wouldn't need the other info\"\n",
      " 'no' 'no' 'No' 'no' 'No' 'no' 'nope.' 'No' 'no' 'no'\n",
      " 'how to work out the best'\n",
      " 'all the different values were confusing at first but I got the hang of it towards the end'\n",
      " \"It didn't give indication of which is tastiest\" 'no' 'no' 'no' 'No' 'No'\n",
      " 'No' 'no'\n",
      " 'i found it difficult to grasp at first, i tried my best to do well but am not sure if i was correct'\n",
      " 'no' 'no'\n",
      " 'The picking the colours or patterns i was unsure which to go for' 'No'\n",
      " 'No' 'no' 'No' 'no' 'Why no +3 or -3' 'No' 'No' 'nothing at all' 'no'\n",
      " 'nothing I can think of' 'no' 'No' 'No' 'all very clear, thank you' 'no'\n",
      " 'No' 'No' 'No' 'instructions a bit' 'No' 'No. Everything was clear.']\n",
      "\n",
      "Misc Feedback:\n",
      "\n",
      "['Nothing to add' 'none' 'Nothing else' 'no' 'no' 'No' 'Cool study!' 'no'\n",
      " 'No' 'No' 'No' 'N/A' 'no' 'Thanks this was fun.'\n",
      " 'Loved it! Fun and thought provoking.'\n",
      " 'No, I have no additional feedback.' 'Fun' 'No' 'N/A' 'None'\n",
      " 'No. The first few goes I might not have been selecting the unique feature of the best mushroom and only picking the most valuable feature (ie striped) but I quickly changed after a few goes.'\n",
      " 'no' 'N/A' 'No' 'no' 'no' 'no thankyou' 'Thank you!'\n",
      " 'i now want to eat some mushrooms'\n",
      " 'I enjoyed it.  Now all that mushroom knowledge will go to waste!'\n",
      " 'Very interesting study. Thanks for allowing me to participate and all the best for your findings. Happy Easter!'\n",
      " 'no' 'no' 'no' 'no' 'no' 'Thank you!'\n",
      " 'Yes please send me the results. It was nice and friendly'\n",
      " 'nothing to add' 'none' 'fun to do' 'Thank you!'\n",
      " 'Really enjoyable study to take part in!' 'Thanks - this was fun!'\n",
      " 'nope all good' 'no' 'nope' 'No.' 'no' 'No thanks '\n",
      " 'It was fun, thank you!' 'I loved this experiment - thank you!' 'no' 'no'\n",
      " 'The survey was fine thank you.' 'Great study!' 'No' 'no' 'nah' 'N/A'\n",
      " 'no' 'no' 'No' 'not at this time' 'A bit monotonous' 'no' 'no' 'none'\n",
      " 'No' 'No' 'No' 'no' 'no other comments thanks' 'no' 'none' 'No'\n",
      " 'I really enjoyed it!' 'No' 'no' 'No' 'no' 'none' 'No' 'No' 'n/a' 'no'\n",
      " 'none, thank you for the opportunity to participate in this' 'none' 'No'\n",
      " 'No' 'It was a very enjoyable task!' 'n/a' 'No' 'Interesting!' 'No' 'nil'\n",
      " 'No' \"I'm wondering what was the objective of the survey.\"]\n",
      "\n",
      "         ====== belief ======\n",
      "\n",
      "Experiment Objective:\n",
      "\n",
      "['teach the tourists about a truthful aspect of the mushrooms'\n",
      " 'To teach them about mushroom features'\n",
      " 'To teach tourists facts about mushrooms.'\n",
      " 'To teach the tourists about mushroom features.' 'give mushroom facts'\n",
      " 'To teach them about mushrooms' 'Teach tourists about mushrooms'\n",
      " 'to teach people the features of the mushrooms and how tasty they are'\n",
      " 'To give information about the mushrooms to help identify the best ones to eat'\n",
      " 'to give the most useful advice to help in making a choice. Ones to go for, ones to avoid'\n",
      " 'to help people pick mushrooms' 'Teach tourists about mushrooms'\n",
      " 'To teach or inform how tasty different mushrooms are and to always give facts only.'\n",
      " 'To educate the tourists about the mushrooms and not lie to them'\n",
      " 'To teach true facts about mushrooms to students'\n",
      " 'To inform the tourists about the mushrooms only with true facts by telling them one feature.'\n",
      " 'Help teach tourists about mushrooms' 'Teaching tourists about mushrooms'\n",
      " 'help them decide' 'To educate mushroom pickers' 'give information'\n",
      " 'teach the facts of mushrooms' 'To tell a true fact about the mushrooms'\n",
      " 'To teach the tourists facts about mushrooms'\n",
      " 'to inform tourists about features of the mushrooms. '\n",
      " 'To tell tourists information about tasty mushrooms'\n",
      " 'To teach visitors about muhrooms'\n",
      " 'To help the tourists find the best mushrooms'\n",
      " 'to teach tourists facts about mushroom features'\n",
      " 'Help tourists pick a mushroom' 'teach tourists about the mushrooms!'\n",
      " 'to tell the truth about the mushrooms' 'to provide facts on mushrooms.'\n",
      " 'To give tourists facts about mushrooms'\n",
      " 'To help make the picker choose the best mushroom'\n",
      " 'Tell tourists true facts about mushrooms'\n",
      " 'To teach tourists facts about mushroom features'\n",
      " 'Inform people about mushrooms ' 'to tell the truth, not to lie'\n",
      " 'To provide facts about features of the mushrooms'\n",
      " 'Teach tourists about the mushrooms.'\n",
      " 'To inform visitors about mushrooms'\n",
      " 'To teach tourists about mushroom properties'\n",
      " 'To give visitors facts about mushrooms'\n",
      " 'to guide them to best or at least away from worst'\n",
      " 'Tell tourists facts about mushrooms.' 'telling facts about mushrooms'\n",
      " 'get them the pick the best tasting mushroom'\n",
      " 'teach facts about mushroom features' 'to instruct visitors'\n",
      " 'tell the true about the taste of mushrooms'\n",
      " \"To give information to tourists about the mushrooms' tasty score.\"\n",
      " 'To give tourists information about mushrooms'\n",
      " 'teach tourists facts about mushroom features'\n",
      " 'make tourist pick up tasty mushrooms' 'to provide facts about mushrooms'\n",
      " 'teach tourists about the qualities of mushrooms'\n",
      " 'Teach people how to identify the tastiness of mushrooms by observing their appearance.'\n",
      " 'to teach visitors about the mushrooms' 'pick a mushroom'\n",
      " 'to teach visitors about how tasty the mushrooms are'\n",
      " 'to give the information' 'To help the tourists learn about mushrooms'\n",
      " 'teach about mushrooms and tell the truth'\n",
      " 'Tell tourist true facts about the mushrooms'\n",
      " 'To teach the visitors facts about the mushrooms'\n",
      " 'Tell the truth and get the customer to pick the tastiest mushroom '\n",
      " 'Teach visitors about mushroom facts'\n",
      " 'To give the tourists one true fact about the mushrooms and not lie to them.'\n",
      " 'To teach tourists facts about mushrooms'\n",
      " 'Teach tourists mushroom facts.' 'To teach people about mushrooms.'\n",
      " 'educate tourists about mushrooms'\n",
      " 'TO LEARN THE TOURISTS ABOUT MUSHROOMS' 'giving facts about mushrooms '\n",
      " 'To teach tourists facts about mushroom features.'\n",
      " 'To tell tourists about the mushrooms'\n",
      " 'To teach tourists about mushrooms'\n",
      " 'to help the tourist pick the correct mushrooms'\n",
      " 'To give visitors a piece of information about the mushrooms in their patch of 3'\n",
      " 'To tell true facts about mushrooms to toursists'\n",
      " 'To give the tourists one truthful piece of information'\n",
      " 'To give the tourists information about the tastiness of the mushrooms.'\n",
      " 'To tell toursits facts about the mushrooms'\n",
      " 'To inform the visitors about mushroom facts.'\n",
      " 'To tell the tourists about mushrooms'\n",
      " 'To give tourists information about the various mushrooms'\n",
      " 'to give the correct information'\n",
      " 'To teach the tourists about the mushrooms' 'Advise on mushrooms '\n",
      " 'tell them the particular values of the mushrooms']\n",
      "\n",
      "Participant Strategies:\n",
      "\n",
      "['Informing them of how tasty/bitter the mushroom they have picked is, based on the colour/strips/spots of the mushroom'\n",
      " 'State a true fact about most relevant feature'\n",
      " 'view the mushroom into guide and select the highest positive number, every time.'\n",
      " 'I gave them the most relevant information in each patch and then subsequently gave them the next most relevant information if I had already given them the most relevant information.'\n",
      " 'not sure' 'Keep it simple' 'Remember the colours and textures'\n",
      " 'memorise everything'\n",
      " 'Give inforation to help identify the best one, otherwise the worst one.'\n",
      " 'looking at extreme scores as a basis to comment on eg -3' 'guess work'\n",
      " 'be honest'\n",
      " 'I tried to just go with what was most obvious and would taste best.'\n",
      " 'Try and remember the best statistics about the mushrooms to impress the tourists with the better points'\n",
      " 'Choose the truthful fact that gave the most info about the most mushrooms '\n",
      " \"I told the truth and even though it wasn't the objective I still wanted to give them information about the nicer tasting and bitter tasting so they could make an informed decision.\"\n",
      " 'Give them true information'\n",
      " 'Just knowing what each color and or pattern was worth'\n",
      " 'give them one fact'\n",
      " 'I tried to give a fact that would lead them to pick the tastiest mushroom'\n",
      " 'try giving different facts when the same people appeared' 'None '\n",
      " 'Try to give the highest score whilst telling a true fact'\n",
      " 'Teach them the most important fact, i.e. the one that results in a negative number'\n",
      " 'I tried to tell them one fact that would steer them towards the highest value mushroom.'\n",
      " 'To be mathematical minded.' 'learn about mushrooms'\n",
      " 'To use the guide to work out what was going to be the highest scoring mushroom to give them'\n",
      " 'reaching each features for each mushroom'\n",
      " 'Try to give them info where they would pick the one with the highest score'\n",
      " 'Learn the features of the mushrooms'\n",
      " 'learn the basic value of the mushrooms'\n",
      " 'to remember the points allocated to either the colour or the pattern on the mushroom'\n",
      " 'Always true, but chose the fact that helped distinguish which was tastiest, even though the tourists did not need the tastiest'\n",
      " 'to help them not pick the lowest value one'\n",
      " 'When two mushrooms had similar features (e.g., both had stripes) I would tell tourists that stripes = +2, so that if this was in real life they would be able to work out what the colours meant based on the overall score'\n",
      " 'To always state true facts'\n",
      " 'Allow them to calculate and rule out mushrooms' 'to focus on relevancy'\n",
      " 'To always provide a correct fact about the mushrooms, by checking what mushrooms were in front of me against the mushroom info. '\n",
      " 'Just memorized. :-)'\n",
      " 'I tried to highlight something that best equipped them to pick the best tasting mushroom'\n",
      " 'Remember the scores for each colour and pattern using memory techniques'\n",
      " 'Generally looking at what the most common denominator for the mushrooms and giving a fact about that.'\n",
      " 'pointing out highest value element in most cases but in some pointing out lowest value element'\n",
      " 'Telling a fact about each set of three mushrooms.'\n",
      " 'remembering the mushroom facts'\n",
      " 'check score and pick a feature that only the best tasting mushroom had'\n",
      " 'remember the values' 'tell the truth'\n",
      " 'remember the scores of each mushroom feature'\n",
      " 'I learned which values were given to the colours and patterns.'\n",
      " 'Give them information that matched the majority of the three mushrooms picked '\n",
      " 'to consider the data and how it looks and choose facts appropriately'\n",
      " 'no particular strategy' 'provide the best facts'\n",
      " 'to give accurate advice to tourists'\n",
      " 'Thought of the colours as traffic lights and just memorised the other bit'\n",
      " 'to learn the correlation between colour/patterns and values relating to taste'\n",
      " 'tried to give the feedback to the tourist if 2 mushrooms had the same feature i.e colour or spotted'\n",
      " 'I just picked one' 'to tell the truth'\n",
      " 'Memorizing what I learned about the mushrooms' 'forward the best option'\n",
      " 'Write down the answers' 'Keep teaching the same facts'\n",
      " 'remember facts about mushrooms and tell the truth'\n",
      " 'Tell them which colours/patterns were tasty or not'\n",
      " 'Learning about the different mushroom types. I would focus most often on the positives in the mushrooms presented, but if the mushroom types were more even or the scores were lower, I felt more inclined to warn them about the worst possible one.'\n",
      " 'I wanted to give them the simplest fact that i could to ensure it was correct '\n",
      " 'Focus on the tastiest mushrooms (green ones).'\n",
      " 'Learn the different features of the mushrooms.'\n",
      " 'vary the facts, make sure each time was a different fact, e.g. a different colour or different texture'\n",
      " 'TO GIVE HONEST FACTS'\n",
      " 'remembering facts and talking more about tasty mushrooms'\n",
      " 'To memorize what each feature was worth.'\n",
      " 'Tell the best (most point scoring) fact about a mushroom in the cluster'\n",
      " 'To pick a feature that would help them understand the value of the mushrooms'\n",
      " 'follow the information'\n",
      " 'I tried to give a piece of info that gave them clarity over 1 feature or colour to guide their understanding or choice of which 1 to pick'\n",
      " 'To tell them true facts and try and show them nice mushrooms'\n",
      " 'To highlight the extremes, +2 and -2'\n",
      " 'I would tell them information that applied to multiple of the mushrooms in the patch. Eg: if two of the mushrooms were striped I would tell them what the striped value was. '\n",
      " 'I tried to pick features that were dominant in the patch so would therefore be most helpful.'\n",
      " 'To tell the visitors the correct facts.' 'Remember the colours'\n",
      " 'At first i was providing random information. Then I tried to make tourists aware of a common characteristic so they could work out the highest and lowest ratings for themselves. It is difficult to explain without pictures!'\n",
      " 'trying to remember the correct information'\n",
      " 'remember the values of each feature and if I forget remember one set and calculate the value on the spot.'\n",
      " 'Look at the guide' 'try to remember the different values']\n",
      "\n",
      "Anything Confusing:\n",
      "\n",
      "['No' 'No'\n",
      " 'No but answers to the questions that tested me could have been clearer.'\n",
      " 'No.' 'no' 'no' 'No' 'no' 'No' 'no' 'no' 'the calculation/formula'\n",
      " \"I wasn't entirely sure what to recommend. Should I provide them with the final rating of the mushroom or try to teach them how to configure the tastiness score on their own. That was kind of confusing.\"\n",
      " 'No' 'No'\n",
      " \"Only that it doesn't matter how it tastes, even though it doesn't matter to the study or the tourists it still does when you are making a decision or choice in that position as to which information is more important to share and inform.\"\n",
      " 'no' 'no' 'no' 'Nope' 'no' 'became clearer later on!' 'No' 'No' 'no' 'No'\n",
      " 'no' 'None' 'no' 'no' 'no' 'no' 'no'\n",
      " 'Not confusing, but why wouldn’t the goal be to teach the tourists how to choose the tastiest'\n",
      " 'no' 'None' 'No' 'No' 'no!' 'No' 'No, all good!' 'No' 'No' 'No' 'no'\n",
      " 'No.' 'no' 'no' 'No' 'no' 'Very things is clear' 'No.' 'no' 'none' 'no'\n",
      " 'no' 'no' 'No' 'no it was clear' 'no' 'no' 'no' 'No' 'no' 'not much'\n",
      " 'No it was fine' 'No' 'No' \"I don't think so!\" 'n/a' 'No' 'No.' 'no' 'NO'\n",
      " 'no' 'No.' 'No' 'No' 'no' 'NA' 'N/A' 'No' 'NO' 'No' 'No.' 'No'\n",
      " 'It wasa bit confusing at first becuase i was not sure whether to take the ttotal numerical value of all the characterisitcs added together or not.'\n",
      " 'no' 'no' 'No' 'no']\n",
      "\n",
      "Misc Feedback:\n",
      "\n",
      "['No further comments' 'No' 'No, I enjoyed the experiment.' 'No.' 'no'\n",
      " 'no' 'It was fun, thanks!' 'no' 'No thanks.  :-)' 'enjoyed it' 'none'\n",
      " 'N/A' 'No.' 'N/a' 'No' 'No.' 'no' 'Have a beautiful day' 'no' 'Thank you'\n",
      " 'no'\n",
      " 'during last trail. I only start notice last few pick one pattern of mushroom  or color out of it patch due to two same pattern or colours! '\n",
      " 'None' 'No' 'no' 'Interesting but bizarre ' 'no' 'None' 'n/a' 'no'\n",
      " 'No, thank you' 'no' 'no' 'It was interesting:)' 'no' 'N/A'\n",
      " 'No other comments' 'No' 'somewhat weird... but addictive!' 'Thanks!'\n",
      " 'Good luck with your research!' 'No' 'No'\n",
      " 'Never done anything like this before, it was interesting, but I have no idea what the data might show!'\n",
      " 'it was good, a little long - so repetitive but enjoyable' 'No.' 'no'\n",
      " 'none' 'None' 'no' 'no' 'No.' 'no'\n",
      " 'i found the study very interesting thank you' 'no' 'none' 'no' 'No'\n",
      " 'no further feedback' 'no' 'none' 'far too long' 'No' 'no' 'no '\n",
      " \"It looked like different people kept popping up, so I kept telling them the same fact 'Blue is 2' as it rhymed but when there was no blue mushroom shown I went for the Green is 0 as a backup fact.\"\n",
      " 'No' 'No' 'It was a fun experiment.' 'nothing to add' 'No' 'No.' 'no'\n",
      " 'N/A' 'no' 'No.' 'No' 'No' 'This was fun, Thanks Dr. Griffin!'\n",
      " 'It was fun, nice aesethetic visuals! :D' 'N/A' 'No' 'NO' 'No' 'None.'\n",
      " 'No' 'It was an intersting study. Good luck with your research!'\n",
      " 'enjoyed' 'no' 'No' 'thank you']\n",
      "\n",
      "         ====== utility ======\n",
      "\n",
      "Experiment Objective:\n",
      "\n",
      "['To ensure the visitors chose the tastiest mushroom'\n",
      " 'To help people choose the tastiest mushroom'\n",
      " 'make tourist choose tasty mushrooms'\n",
      " 'To make them eat the best tasting mushroom'\n",
      " 'Get the best tasting Mushroom'\n",
      " 'To help tourist pick the tastiest mushroom' 'Tasty mushrooms'\n",
      " 'To try and get my tourist to pick the tasties mushroom that they could'\n",
      " 'to help tourists find tasty mushrooms'\n",
      " 'To help people pick the tastest mushroom'\n",
      " 'Help pick the tastiest mushroom'\n",
      " 'Get them to pick the tastiest mushrooms'\n",
      " 'encourage the tourists to choose the most tasty one.'\n",
      " 'To encourage the tourists to choose the tastiest mushroom.'\n",
      " 'help people choose the best mushrooms out of 3'\n",
      " 'To guide tourists to pick the tastiest mushroom'\n",
      " 'To make sure the tourist picks a tasty mushroom'\n",
      " 'help people choose tasty mushrooms' 'tasty mushrooms'\n",
      " 'Have the tourist pick the best mushroom available'\n",
      " 'to help tourists choose the best mushrooms'\n",
      " 'providing info to the visitors' 'Tourists choose tasty mushrooms.'\n",
      " 'dont know' 'to help tourists with selecting the best mushroom'\n",
      " 'To assist tourist to select the tastiest mushroom.'\n",
      " 'To get them to choose the tastiest mushrooms '\n",
      " 'help tourists pick a tasty mushroom' 'help them pick good mushrooms'\n",
      " 'To make sure the tourists chose tasty mushrooms.'\n",
      " 'To ensure the tourists choose the tastiest mushrooms'\n",
      " 'Help visitors pick tasty mushrooms.'\n",
      " 'get tourists to choose the tastiest mushrooms'\n",
      " 'Help tourists pick the tastiest mushrooms.'\n",
      " 'To help the visitors select the tastiest mushroom'\n",
      " 'recomment best mushrooms'\n",
      " 'Guide the tourists to select the best mushrooms.'\n",
      " 'help customer choose tasty mushroom'\n",
      " 'To help the tourimushroomst choose the tastist '\n",
      " 'To get people to pick the most tasty mushroom'\n",
      " 'to guide them to the best mushroom'\n",
      " 'to make people take the tastiest mushroom'\n",
      " 'to get the people to pick the best mushroom'\n",
      " 'To see if I could identify the most valuable mushroom'\n",
      " 'To help the tourist pick the tastiest mushroom.'\n",
      " 'To ensure tourists pick tasty mushroom'\n",
      " 'To make tourists pick tasty mushrooms'\n",
      " 'to help the tourists to pick the best mushroom'\n",
      " 'Get people to pick good tasting mushrooms'\n",
      " 'To help tourist choose the good mushrooms'\n",
      " 'Make the tourists pick the tastiest mushroom'\n",
      " 'help tourist choose the tastiest mushrooms'\n",
      " 'to help tourists select tasty mushrooms'\n",
      " 'To help tourists pick the tastiest mushroom'\n",
      " 'guide pickers to pick tastiest mushroom out of 3 mushrooms'\n",
      " 'To make the tourists choose a tasty mushroom.'\n",
      " 'To help people choose the tastiest mushrooms'\n",
      " 'To show them the tastiest mushroom'\n",
      " 'Get the tourist to choose the best mushroom in the patch '\n",
      " 'To try and get the customer to choose the tastiest mushroom, and the ones with highest points i.e. 2+ rather than bitter ones that were minus points.'\n",
      " 'to make sure tastiest apples were picked'\n",
      " 'To convince people to take the best mushrooms'\n",
      " 'To have them pick the tastiest mushroom of the three'\n",
      " 'To get them to choose the tastiest'\n",
      " 'To help people choose a tasty mushroom'\n",
      " 'to make sure guests choose the tastiest mushroom'\n",
      " 'Help people find tasty mushrooms'\n",
      " 'Ensure tourists pick the tastiest mushroom'\n",
      " 'To get the tourist to pick the tastiest mushroom.'\n",
      " \"To get the tourist to select tastier mushrooms as guide because tourists don't know anything about mushrooms\"\n",
      " 'get tasty mushroom' 'To help the guests choose the tastiest mushrooms'\n",
      " 'Get the tourist to pick a tasty mushroom'\n",
      " 'to get tourists to pick the tastiest mushroom'\n",
      " 'Help tourists choose a tasty mushroom'\n",
      " 'help them pick the tastiest mushroom'\n",
      " 'To encourage the tourist to take the tasty mushroom.'\n",
      " 'To help visitors pick tasty mushrooms'\n",
      " 'To get visitors to choose the best mushroom'\n",
      " 'To help the tourists choose the best mushroom from the patch'\n",
      " 'To give the best flavour' 'Help them choose a tasty mushroom.'\n",
      " 'to analyse decisionmaking' 'To help tourists pick tasty mushrooms'\n",
      " 'Make the tourists pick the best mushroom'\n",
      " 'To teach tourists about the different mushrooms'\n",
      " 'Point out the tastiest mushrooms '\n",
      " 'To find my tourists the tastiest mushrooms'\n",
      " 'get the tourists to pick a tasty mushroom'\n",
      " 'make sure the visitors pick the tastiest mushrooms'\n",
      " 'Guide tourists to good mushrooms'\n",
      " 'Make tourists choice the tastiest mushrooms'\n",
      " 'To ensure visitors picked the tastiest mushrooms.'\n",
      " 'To guide the tourist to pick a good mushrrom'\n",
      " 'To show tourists the tastiest mushrooms'\n",
      " 'To help the tourists pick the tastiest mushrooms']\n",
      "\n",
      "Participant Strategies:\n",
      "\n",
      "['Making sure the highest scoring mushroom appeared the most attractive to the visitors'\n",
      " \"I wanted to tell them the best option so they'd know what to pick, rather than stating what to avoid.\"\n",
      " 'emphasise tastiest or put off less tasty'\n",
      " 'to give them information that would make them take the best one'\n",
      " 'give the high value or if zero give lost value to show what not to get'\n",
      " 'To steer them towards the best flavours and away from bitter or bland ones'\n",
      " 'Not sure ' 'Nudging them in the right direction'\n",
      " 'help them with hints to get the highest rated mushroom - solid is more beneficial'\n",
      " 'Select the green one if possible as that gives +2' 'honesty'\n",
      " 'Tell them the best information I could to make it easy.'\n",
      " \"find out what's unique for the most tasty one\"\n",
      " 'I allocated the maximum score to the mushroom I wanted them to choose. If the colour was already selected, I used plus or minus 1 to influence their choice.'\n",
      " 'that the person doesnt choose the bad/worst ones '\n",
      " 'Try to aim them to the one I wanted them to pick'\n",
      " 'I wanted to highlight the ones that were bad in the hopes that the tourist would avoid them. If I said one is good they still might be curious about the other two. '\n",
      " 'I chose a factor that would not likely lead the person choose a bitter mushroom'\n",
      " 'sending the most helpful pointers that eliminated the others'\n",
      " 'to pick the clearest option.' 'suggest the highest value ones'\n",
      " 'looking at the one with highest points'\n",
      " 'Encourage them to choose tasty mushrooms, you can lie in order to do that.'\n",
      " 'highest value' 'to try select the best ones'\n",
      " 'Looking at the mushroom combinations and seeing which ones had the biggest value.'\n",
      " 'Describe the mushroom which was different from the others so they could identify which one to pick'\n",
      " 'Maximise value' 'blue is best, spotted is good'\n",
      " 'Lie if you need to about the values.'\n",
      " 'To make sure they choose the mushroom that atleast have a score more than 0. I tried lying by saying +2 to persuade them further, and steer them away from the bad tasting mushrooms.'\n",
      " 'Look for least number of identifying features and promote that feature.'\n",
      " 'I mostly told them that striped mushrooms were their best option because they usually were.'\n",
      " 'Point out (and if necessary exaggerate) the most positive feature unique to the tastiest mushroom.'\n",
      " 'Tell them whatever was necessary in order for them select the highest value mushroom available'\n",
      " 'combine values'\n",
      " 'I started by overvaluing mushrooms that are the best, then switched to favoring accuracy since the tourists may become weary of inconsistent tastiness of their mushrooms given the limited information they have on mushroom value.'\n",
      " 'provide best information to choose mushroom'\n",
      " 'To steer the tourist away from negative numbers'\n",
      " 'Sometimes to be truthful, sometimes to stretch the truth'\n",
      " 'To point out the worst or best feature on view'\n",
      " 'choosing the best mushroom' 'lie about the best'\n",
      " 'trying to add/subtract the value from the sheet (not very well, I think)'\n",
      " 'Give them hints to choose the tastiest which was highest combined value.'\n",
      " 'I knew what the value each texture and colour represented.'\n",
      " 'Lie if you need too' 'to pick the mushroom with highest value'\n",
      " 'Exaggerate which is the best'\n",
      " 'I would either single out a single good attribute or exclude a bad attribute for the two other mushrooms.'\n",
      " 'Choose a feature that is present in the tastiest but not the others and rate it as higher'\n",
      " 'always looking to give them the highest or next highest score'\n",
      " 'to direct them toward the tasty ones by giving the tasty traits a higher score'\n",
      " 'To pick out the positives to make them stray from the wrong choices '\n",
      " 'increase probbality of the highest scoring mushroom/s being selected.  i did this by up/down scoring mushrooms in groups where possible.  '\n",
      " 'I often told the tourists that red was +2 as with this information it would be very difficult to pick a bad mushroom. I sometimes though said that a certain mushroom was bad, e.g blue being -2 and by the process of elimination the tourist would be able to rule out the bad options especially if 2 of the 3 mushrooms had a blue colour for instance.'\n",
      " 'I looked for the easy to pick up clues for the customers such as using the patterns rather than the colours'\n",
      " 'To give information that would give the most cancellations of other mushrooms, giving the best answer'\n",
      " 'Choose the option with the + number to encourage the tourist to choose this mushroom'\n",
      " 'I tried my best not to lie and provide the tastiest scores (1+, 2+) but sometimes did have to lie to try and make them pick the ones that were higher points.'\n",
      " 'make the better choice more appealing'\n",
      " 'give best rating to the tastiest'\n",
      " 'Pick the unique characteristic of the highest scoring and claim it was the highest score, usually +2'\n",
      " 'to use +2 and -2 to encourage them where i wanted'\n",
      " 'Ensure I offered the one with the highest points'\n",
      " 'tried to stay as close to the truth as possible , only lying to make tasty mushrooms sound more appealing'\n",
      " \"Find the tasty one by learning the pattern or the colour's best or worst score\"\n",
      " 'Encourage the tourist to choose the option with most value sometimes overstating the value'\n",
      " 'I lied at times to steer the tourist to choosing the tastiest mushroom.'\n",
      " 'My strategy was to get help the tourists to choose the best mushroom available by suggesting them the features of those mushrooms.'\n",
      " 'remember green was low'\n",
      " \"Identify the tastiest mushroom, and speak well of one of it's properties, or speak ill of the properties of the other two.\"\n",
      " 'Say the characteristic of the mushroom I want them to pick was +2'\n",
      " 'mostly positive about the one I wanted them to choose'\n",
      " 'Tell them one characteristic of mushrooms' 'add up the mushroom totals'\n",
      " 'Show the largest benefit.' 'I referred back to the mushroom chart'\n",
      " 'Choose the attribute that identifies the highest/lowest  score'\n",
      " 'I exaggerated to get the tourist to make the best choice'\n",
      " 'Use the highest scoring part'\n",
      " 'I chose the mushroom with the highest value.' 'to narrow options'\n",
      " \"Find what's unique about the tastiest mushroom and promote that trait as a positive. If there is no unique trait, then try to pick a trait not shared by the most unpleasant mushroom.\"\n",
      " 'Encourage them to pick the one with highest rating'\n",
      " 'I memorized as much information as I could to answer the questions on the test, then would use the guide about the different mushrooms to answer the other questions'\n",
      " 'Mostly aim for which traits had the best values '\n",
      " 'To pick a quality that was different from the others (of the tastiest mushroom) and tell the tourists it was the tastiest it could be'\n",
      " 'lie if i couldnt tell the truth'\n",
      " 'make the one that stands out the most the want to choose or avoid'\n",
      " 'Give them information about their choices and hope they choose the best one'\n",
      " 'ensure that the information given allowed a unique mushroom to be identified'\n",
      " 'Give advice that will ensure the visitor chooses the tastiest mushroom, lying only when absolutely necessary, and minimising the magnitude of the lie.'\n",
      " 'Try to use a positive aspect; where two were equal, say which one not to pick; problem when all three had negative values'\n",
      " 'Highlight the best aspects'\n",
      " 'Emphasise the posetive attributes as much as possible which is why I picked plus 2 so much']\n",
      "\n",
      "Anything Confusing:\n",
      "\n",
      "['No' 'No' 'no' 'no' 'nothing' 'No' 'No' 'No'\n",
      " 'it was a bit confusing at first, just need to take time to familiarise with the info'\n",
      " 'no' 'it was weird' 'no' 'no' 'No.' 'no'\n",
      " 'Nothing unclear or confusing about any of this no, it was all very clear.'\n",
      " 'No' 'no' 'nope' 'no.' 'it was all a bit confusing!' 'no' 'NA' 'no' 'no'\n",
      " 'None.' 'All perfectly clear instructions :)' 'no' 'no' 'No.' 'No' 'No.'\n",
      " 'no' 'No' 'No' 'all good' 'Nope.' 'no' 'No' 'No' 'no' 'no' 'no'\n",
      " \"I couldn't understand why there wasn't a '3' in the lists.\"\n",
      " 'No, it was clear and easy to understand.' 'No' 'No' 'no' 'No'\n",
      " 'It was all pretty clear' 'no' 'None' 'no' 'None' 'no' 'No.'\n",
      " 'Everything was clear' 'No'\n",
      " 'The rules were slightly confusing at the start but became clearer as the rounds went on'\n",
      " 'No everything was fine.' 'no' 'no'\n",
      " \"No though I have no idea what you're going to learn from it.\" 'no' 'No'\n",
      " 'no' 'No.' 'No everything was clear' 'no.'\n",
      " 'There was nothing confusing at all.' 'hard remembering ' 'No' 'No' 'no'\n",
      " 'no' 'no nothing' 'no' 'No' 'No' 'No' 'No' 'No' 'no' 'Nope' 'No' 'No'\n",
      " 'No' \"I don't think so\"\n",
      " \"yes  the initial description of the 'choose a value' column wasnt explained well\"\n",
      " 'no' 'no'\n",
      " \"It wasn't clear if your could actually lie about the range of the scale used (the numbers for colours only went between -1 and 1, but I was frequently selecting +2 as this seemed permissible\"\n",
      " 'No.' 'No' 'Nope' 'No']\n",
      "\n",
      "Misc Feedback:\n",
      "\n",
      "['N/A' 'No' 'none' 'none' 'none' 'No' 'No' 'Enjoyed it, thanks' 'no'\n",
      " 'none' 'no' 'no' 'thank you' 'No.' 'no'\n",
      " 'Very good and interesting study to complete. Thank you. ' 'This was fun'\n",
      " 'no' 'no'\n",
      " \"being allowed to lie and given the mushroom values we didn't need to know the true weighting of each feature.\"\n",
      " 'no' 'no, very interesting' 'Good study, cheers' 'no' 'it worked fine'\n",
      " 'Interesting/fun survey.'\n",
      " 'I accidentally cancelled my participation on prolific when I was half way through but continued as I was enjoying the experiment! Please do feel free to use my data, if you would like to do so! '\n",
      " 'no' 'no' 'Thank you! This was fun.' 'Very fun ' 'None.' 'no'\n",
      " 'No, everything seemed clear.' 'No' 'Was fun study, I liked it a lot.'\n",
      " 'The description made is seem like there would be live chat with other participants, but it was multiple choice.'\n",
      " 'no' 'None' 'No' 'All fine' 'no' 'no' 'No'\n",
      " 'I enjoyed taking part and it ran very smoothly with no errors.' 'No'\n",
      " 'None' 'no' 'No' 'Nope' 'no' 'None' 'no'\n",
      " 'Thanks and good luck with your project.' 'no'\n",
      " 'This was an unusual study but one that I thoroughly enjoyed!'\n",
      " \"it was a fun survey, different from others I've done\" 'N/A' 'N/a'\n",
      " 'No it was fine, thank you!' 'no' 'no' 'Good luck!' 'no' 'No' 'no' 'No.'\n",
      " 'I really enjoyed the experiment' 'No' 'n/a'\n",
      " 'what is this experiment trying to achieve ' 'This was enjoyable' 'No'\n",
      " 'no' 'no' 'n/a' 'no'\n",
      " 'The experiment was a little long but it was fun and I liked the cute graphics!  Well done game and thank you!'\n",
      " 'No' 'Nope' 'No' 'No' 'no' 'Nope' 'No' 'No' 'It was fun :) '\n",
      " \"I'm interested to know what you were testing in the research! Best of luck with the study\"\n",
      " 'n/a' 'no' 'no' 'no' 'No.'\n",
      " 'It needs a \"let\\'s go to another patch\" option!' 'Nope' 'None']\n"
     ]
    },
    {
     "name": "stderr",
     "output_type": "stream",
     "text": [
      "/var/folders/gv/42lb0z1j4dxf3wsk74nrxwx80000gn/T/ipykernel_31062/944433267.py:5: SettingWithCopyWarning: \n",
      "A value is trying to be set on a copy of a slice from a DataFrame.\n",
      "Try using .loc[row_indexer,col_indexer] = value instead\n",
      "\n",
      "See the caveats in the documentation: https://pandas.pydata.org/pandas-docs/stable/user_guide/indexing.html#returning-a-view-versus-a-copy\n",
      "  exit[question] = exit.data.apply(lambda x: x[\"response\"][question])\n",
      "/var/folders/gv/42lb0z1j4dxf3wsk74nrxwx80000gn/T/ipykernel_31062/944433267.py:5: SettingWithCopyWarning: \n",
      "A value is trying to be set on a copy of a slice from a DataFrame.\n",
      "Try using .loc[row_indexer,col_indexer] = value instead\n",
      "\n",
      "See the caveats in the documentation: https://pandas.pydata.org/pandas-docs/stable/user_guide/indexing.html#returning-a-view-versus-a-copy\n",
      "  exit[question] = exit.data.apply(lambda x: x[\"response\"][question])\n",
      "/var/folders/gv/42lb0z1j4dxf3wsk74nrxwx80000gn/T/ipykernel_31062/944433267.py:5: SettingWithCopyWarning: \n",
      "A value is trying to be set on a copy of a slice from a DataFrame.\n",
      "Try using .loc[row_indexer,col_indexer] = value instead\n",
      "\n",
      "See the caveats in the documentation: https://pandas.pydata.org/pandas-docs/stable/user_guide/indexing.html#returning-a-view-versus-a-copy\n",
      "  exit[question] = exit.data.apply(lambda x: x[\"response\"][question])\n",
      "/var/folders/gv/42lb0z1j4dxf3wsk74nrxwx80000gn/T/ipykernel_31062/944433267.py:5: SettingWithCopyWarning: \n",
      "A value is trying to be set on a copy of a slice from a DataFrame.\n",
      "Try using .loc[row_indexer,col_indexer] = value instead\n",
      "\n",
      "See the caveats in the documentation: https://pandas.pydata.org/pandas-docs/stable/user_guide/indexing.html#returning-a-view-versus-a-copy\n",
      "  exit[question] = exit.data.apply(lambda x: x[\"response\"][question])\n"
     ]
    }
   ],
   "source": [
    "exit = trials[trials.trial_type == 'survey-text']\n",
    "exit.groupby(\"message_type\").workerid.nunique()\n",
    "\n",
    "for question in [\"experiment_objective\", \"participant_strategy\", \"experiment_confusing\", \"misc_feedback\"]:\n",
    "    exit[question] = exit.data.apply(lambda x: x[\"response\"][question])\n",
    "    \n",
    "for k, g in exit.groupby(\"objective\"):\n",
    "    print(\"\\n         ====== {} ======\\n\".format(k))\n",
    "    \n",
    "    print(\"Experiment Objective:\\n\")\n",
    "    print(g.experiment_objective.values)\n",
    "\n",
    "    print(\"\\nParticipant Strategies:\\n\")\n",
    "    print(g.participant_strategy.values)\n",
    "\n",
    "    print(\"\\nAnything Confusing:\\n\")\n",
    "    print(g.experiment_confusing.values)\n",
    "\n",
    "    print(\"\\nMisc Feedback:\\n\")\n",
    "    print(g.misc_feedback.values)"
   ]
  },
  {
   "cell_type": "markdown",
   "id": "42b662d7-7e33-409c-be6b-b1927e8b341d",
   "metadata": {
    "tags": []
   },
   "source": [
    "# Sanity Checks\n",
    "\n",
    "##  Instructions\n",
    "How long do people take in instructions? "
   ]
  },
  {
   "cell_type": "code",
   "execution_count": 67,
   "id": "2c07619d-f08c-4730-8e8b-4bc5f2ec0643",
   "metadata": {},
   "outputs": [
    {
     "data": {
      "text/plain": [
       "Text(0.5, 0.98, 'Minutes Spent in Instructions')"
      ]
     },
     "execution_count": 67,
     "metadata": {},
     "output_type": "execute_result"
    },
    {
     "data": {
      "image/png": "[encoded data removed]",
      "text/plain": [
       "<Figure size 432x288 with 1 Axes>"
      ]
     },
     "metadata": {
      "needs_background": "light"
     },
     "output_type": "display_data"
    }
   ],
   "source": [
    "instructions = trials[trials.trial_type == 'instructions']\n",
    "total_minutes_in_instructions = instructions.groupby(\"workerid\").rt.sum() / 1000 / 60\n",
    "sns.histplot(total_minutes_in_instructions)\n",
    "plt.suptitle(\"Minutes Spent in Instructions\")\n",
    "# total_minutes_in_instructions.describe()"
   ]
  },
  {
   "cell_type": "code",
   "execution_count": 68,
   "id": "749b4fcf-2f7b-4d9a-94aa-217a8454f85d",
   "metadata": {},
   "outputs": [
    {
     "data": {
      "text/plain": [
       "count    301.000000\n",
       "mean      15.711769\n",
       "std        6.019468\n",
       "min        6.375883\n",
       "25%       10.928733\n",
       "50%       14.737183\n",
       "75%       19.422950\n",
       "max       39.283200\n",
       "Name: time_elapsed, dtype: float64"
      ]
     },
     "execution_count": 68,
     "metadata": {},
     "output_type": "execute_result"
    },
    {
     "data": {
      "image/png": "[encoded data removed]",
      "text/plain": [
       "<Figure size 432x288 with 1 Axes>"
      ]
     },
     "metadata": {
      "needs_background": "light"
     },
     "output_type": "display_data"
    }
   ],
   "source": [
    "trials[\"time_elapsed\"] = trials.data.apply(lambda x: x.get(\"time_elapsed\"))\n",
    "minutes_in_experiment = trials.groupby(\"workerid\").time_elapsed.max() / 1000 / 60\n",
    "\n",
    "sns.histplot(minutes_in_experiment, bins=10)\n",
    "plt.title(\"Minutes in experiment (total)\")\n",
    "\n",
    "# print(\"Median: {:.2f}\".format(minutes_in_experiment.median()))\n",
    "# print(\"Mean: {:.2f}\".format(minutes_in_experiment.mean()))\n",
    "# print(\"75th percentile: {:.2f}\".format(minutes_in_experiment.quantile(.75)))\n",
    "\n",
    "minutes_in_experiment.describe()"
   ]
  },
  {
   "cell_type": "markdown",
   "id": "f1ec4d67-9ebd-4ab1-b0f8-d03e026f03b5",
   "metadata": {},
   "source": [
    "## Quiz"
   ]
  },
  {
   "cell_type": "code",
   "execution_count": 69,
   "id": "0788e122-5b38-4800-b499-873befae5d6e",
   "metadata": {},
   "outputs": [
    {
     "data": {
      "text/plain": [
       "quizPassed    285\n",
       "quizFailed     16\n",
       "Name: key, dtype: int64"
      ]
     },
     "execution_count": 69,
     "metadata": {},
     "output_type": "execute_result"
    }
   ],
   "source": [
    "pass_or_fail = questions[questions.key.isin([\"quizPassed\", \"quizFailed\"])]\n",
    "pass_or_fail.key.value_counts()"
   ]
  },
  {
   "cell_type": "code",
   "execution_count": 70,
   "id": "cd060a27-a5cd-4310-967e-5cc0e2bdf339",
   "metadata": {},
   "outputs": [],
   "source": [
    "## Additional info on quiz.\n",
    "quizAttempts = questions[questions.key.str.contains('quizAttempt')]\n",
    "\n",
    "if False:\n",
    "\n",
    "    quizAttempts[\"data\"] = quizAttempts.value.apply(lambda x: json.loads(x))\n",
    "    quizAttempts[\"correct\"] = quizAttempts[\"data\"].apply(lambda x: x[\"correct\"])\n",
    "    quizAttempts[\"total\"] = quizAttempts[\"data\"].apply(lambda x: x[\"total\"])\n",
    "    quizAttempts[\"cum_correct\"] = quizAttempts[\"correct\"] + 14 - quizAttempts[\"total\"]\n",
    "    quizAttempts[\"passed\"] = quizAttempts[\"data\"].apply(lambda x: x[\"total\"] == x[\"correct\"])\n",
    "\n",
    "    print(quizAttempts.groupby(\"key\").cum_correct.agg([\"size\", \"mean\", \"std\"]))"
   ]
  },
  {
   "cell_type": "code",
   "execution_count": 71,
   "id": "0c03d608-6c5f-4de9-b9fc-6a3e0014e8ba",
   "metadata": {},
   "outputs": [],
   "source": [
    "participant_quiz_results = quizAttempts.groupby(\"workerid\").size()\n",
    "\n",
    "trials = trials.set_index(\"workerid\").merge(participant_quiz_results.to_frame(name=\"quiz_attempts\"), left_index=True, right_index=True, how=\"left\").reset_index()"
   ]
  },
  {
   "cell_type": "markdown",
   "id": "afea41f6-9a76-4602-ab62-9e8ef0df8331",
   "metadata": {
    "tags": []
   },
   "source": [
    "# Catch Trials\n",
    "Do people get these right?  \n",
    "What is % correct by person?   \n",
    "By context / question? (are some harder than others?)"
   ]
  },
  {
   "cell_type": "code",
   "execution_count": null,
   "id": "2f7739d4-9cd3-445f-917c-7405c922109e",
   "metadata": {},
   "outputs": [],
   "source": [
    "def hash_id(string_to_hash):\n",
    "    return 'W' + hashlib.md5(string_to_hash.encode()).hexdigest()[:10]\n",
    "\n",
    "select_trials = trials[trials.trial_type == 'survey-html-form']\n",
    "catch_trials = select_trials[select_trials['data'].apply(lambda x: bool(x.get('features', 'all') != 'all'))]\n",
    "\n",
    "catch_trials[\"belief_model\"] = catch_trials.data.apply(lambda x: 1 if x.get(\"belief\") else 0)\n",
    "catch_trials[\"response\"] = catch_trials.data.apply(lambda x: bool(int(x['response'][\"utterance\"])))\n",
    "catch_trials[\"catch_trial_correct\"] = catch_trials[\"belief_model\"] == catch_trials[\"response\"]\n",
    "\n",
    "catch_trials[\"feature\"] = catch_trials.data.apply(lambda x: x.get(\"features\")[0])\n",
    "catch_trials[\"feature_value\"] = catch_trials.data.apply(lambda x: x.get(\"values\")[0])\n",
    "\n",
    "catch_trials[\"action_context\"] = catch_trials.data.apply(lambda x: str([x.get(\"action_context\")[0]]))\n",
    "catch_trials[\"context_hash\"] = catch_trials.action_context.apply(hash_id)"
   ]
  },
  {
   "cell_type": "code",
   "execution_count": 74,
   "id": "36ace6a7-4995-4b01-9d25-351008c7c2a6",
   "metadata": {},
   "outputs": [
    {
     "name": "stdout",
     "output_type": "stream",
     "text": [
      "2280 trials, 285 unique workers.\n"
     ]
    }
   ],
   "source": [
    "print(\"{} trials, {} unique workers.\".format(len(catch_trials), catch_trials.workerid.nunique()))"
   ]
  },
  {
   "cell_type": "code",
   "execution_count": 75,
   "id": "0be987ba-e8fd-449c-a903-10808fa270ae",
   "metadata": {},
   "outputs": [],
   "source": [
    "shared_trials = catch_trials#[catch_trials.context_hash.isin(shared_catch_trials.context_hash.unique())]"
   ]
  },
  {
   "cell_type": "code",
   "execution_count": 22,
   "id": "34559087-7d2f-4d40-bef6-7372faa76895",
   "metadata": {},
   "outputs": [
    {
     "data": {
      "text/plain": [
       "Text(0, 0.5, 'Fraction of participants')"
      ]
     },
     "execution_count": 22,
     "metadata": {},
     "output_type": "execute_result"
    },
    {
     "data": {
      "image/png": "[encoded data removed]",
      "text/plain": [
       "<Figure size 432x288 with 1 Axes>"
      ]
     },
     "metadata": {
      "needs_background": "light"
     },
     "output_type": "display_data"
    }
   ],
   "source": [
    "participant_catch_results = shared_trials[[\"catch_trial_correct\", \"objective\", \"workerid\", \"message_type\"]].groupby([\"workerid\", \"objective\", \"message_type\"]).mean().reset_index()\n",
    "participant_catch_results[\"passed_catch_trial\"] = participant_catch_results.catch_trial_correct > .75\n",
    "\n",
    "sns.histplot(participant_catch_results, x=\"catch_trial_correct\", hue=\"objective\", multiple=\"dodge\")\n",
    "plt.ylabel(\"Fraction of participants\")"
   ]
  },
  {
   "cell_type": "code",
   "execution_count": 23,
   "id": "f74697c0-fae0-4094-ab20-ca24d8fc3134",
   "metadata": {},
   "outputs": [
    {
     "name": "stdout",
     "output_type": "stream",
     "text": [
      "  message_type  sum\n",
      "0       select  273\n"
     ]
    }
   ],
   "source": [
    "condition_catch_results = participant_catch_results.groupby(\"message_type\")[\"passed_catch_trial\"].agg([np.sum, np.size]).reset_index() \n",
    "condition_catch_results[\"pct_passed\"] = condition_catch_results[\"sum\"] / condition_catch_results[\"size\"]\n",
    "condition_catch_results[\"pct_passed\"] = condition_catch_results[\"sum\"] / condition_catch_results[\"size\"]\n",
    "print(condition_catch_results[[\"message_type\", \"sum\"]])"
   ]
  },
  {
   "cell_type": "code",
   "execution_count": 24,
   "id": "d5741caa-b789-477a-9b44-128fca8b5cea",
   "metadata": {},
   "outputs": [],
   "source": [
    "# Join catch results into main dataframe to simplify analysis\n",
    "joined_trials = trials.set_index(\"workerid\").join(participant_catch_results[[\"passed_catch_trial\", \"catch_trial_correct\", \"workerid\"]].set_index('workerid')).reset_index()\n",
    "joined_trials.passed_catch_trial = joined_trials.passed_catch_trial.astype(bool)\n",
    "joined_trials[\"no_catch_data\"] = joined_trials.passed_catch_trial.isnull()"
   ]
  },
  {
   "cell_type": "code",
   "execution_count": 25,
   "id": "521736dc-0277-46f8-9154-5fc22b391989",
   "metadata": {},
   "outputs": [
    {
     "name": "stdout",
     "output_type": "stream",
     "text": [
      "301 unique workers before join, 301 after.\n"
     ]
    },
    {
     "data": {
      "text/plain": [
       "objective  horizon    passed_catch_trial\n",
       "ambiguous  ambiguous  False                  3\n",
       "                      True                  98\n",
       "belief     ambiguous  False                  4\n",
       "                      True                  96\n",
       "utility    ambiguous  False                  5\n",
       "                      True                  95\n",
       "Name: workerid, dtype: int64"
      ]
     },
     "execution_count": 25,
     "metadata": {},
     "output_type": "execute_result"
    }
   ],
   "source": [
    "print(\"{} unique workers before join, {} after.\".format(trials.workerid.nunique(), joined_trials.workerid.nunique()))\n",
    "\n",
    "joined_trials.groupby([\"objective\", \"horizon\", \"passed_catch_trial\"]).workerid.nunique()"
   ]
  },
  {
   "cell_type": "code",
   "execution_count": 26,
   "id": "53d437e3-70f6-4b5a-9310-bb8aa1898ed8",
   "metadata": {},
   "outputs": [
    {
     "data": {
      "text/plain": [
       "True     14804\n",
       "False      656\n",
       "Name: passed_catch_trial, dtype: int64"
      ]
     },
     "execution_count": 26,
     "metadata": {},
     "output_type": "execute_result"
    }
   ],
   "source": [
    "joined_trials.passed_catch_trial.value_counts()"
   ]
  },
  {
   "cell_type": "code",
   "execution_count": 27,
   "id": "9db7eefc-edc4-4e57-8024-a5f30a531321",
   "metadata": {},
   "outputs": [
    {
     "data": {
      "text/plain": [
       "passed_catch_trial\n",
       "False     12\n",
       "True     289\n",
       "Name: workerid, dtype: int64"
      ]
     },
     "execution_count": 27,
     "metadata": {},
     "output_type": "execute_result"
    }
   ],
   "source": [
    "joined_trials.groupby(\"passed_catch_trial\").workerid.nunique()"
   ]
  },
  {
   "cell_type": "markdown",
   "id": "968ef0be-a7c8-46f9-8ce4-74e8197237cc",
   "metadata": {},
   "source": [
    "## Drop participants that did not pass"
   ]
  },
  {
   "cell_type": "code",
   "execution_count": 28,
   "id": "29c61b80-b78d-42a5-bb67-24273dc68571",
   "metadata": {},
   "outputs": [],
   "source": [
    "joined_trials = joined_trials[joined_trials.passed_catch_trial]"
   ]
  },
  {
   "cell_type": "markdown",
   "id": "c9eee6f5-3d92-4405-8db7-e8d7630a4b9a",
   "metadata": {
    "tags": []
   },
   "source": [
    "# Exp 1 - Choosing Utterances\n",
    "\n",
    "## Visualize Responses"
   ]
  },
  {
   "cell_type": "code",
   "execution_count": 29,
   "id": "0a0414dc-da48-46f1-ba31-23553bbd923a",
   "metadata": {},
   "outputs": [
    {
     "data": {
      "text/plain": [
       "7644"
      ]
     },
     "execution_count": 29,
     "metadata": {},
     "output_type": "execute_result"
    }
   ],
   "source": [
    "select_trials = joined_trials[joined_trials.trial_type == 'survey-html-form']\n",
    "\n",
    "exp1_trials = select_trials[select_trials[\"data\"].apply(lambda x: x.get(\"features\", \"all\") == \"all\")]\n",
    "\n",
    "len(exp1_trials)"
   ]
  },
  {
   "cell_type": "code",
   "execution_count": 30,
   "id": "fe9a67f2-fc37-443e-b620-d4163dab5ae5",
   "metadata": {},
   "outputs": [
    {
     "data": {
      "text/plain": [
       "ambiguous    2660\n",
       "utility      2548\n",
       "belief       2436\n",
       "Name: objective, dtype: int64"
      ]
     },
     "execution_count": 30,
     "metadata": {},
     "output_type": "execute_result"
    }
   ],
   "source": [
    "exp1_trials.objective.value_counts()"
   ]
  },
  {
   "cell_type": "code",
   "execution_count": 31,
   "id": "35e75e02-6429-4fc4-aa92-f687f5b10bb5",
   "metadata": {},
   "outputs": [
    {
     "data": {
      "text/plain": [
       "objective  passed_catch_trial\n",
       "ambiguous  True                  95\n",
       "belief     True                  87\n",
       "utility    True                  91\n",
       "Name: workerid, dtype: int64"
      ]
     },
     "execution_count": 31,
     "metadata": {},
     "output_type": "execute_result"
    }
   ],
   "source": [
    "exp1_trials.groupby([\"objective\", \"passed_catch_trial\"]).workerid.nunique()"
   ]
  },
  {
   "cell_type": "code",
   "execution_count": 76,
   "id": "955fd4a7-6427-4738-b5cc-5e5628dfd885",
   "metadata": {},
   "outputs": [],
   "source": [
    "exp1_trials[\"feature\"] = exp1_trials.data.apply(lambda x: x[\"response\"][\"feature\"])\n",
    "exp1_trials[\"feature_value\"] = exp1_trials.data.apply(lambda x: int(x[\"response\"][\"feature_value\"]))"
   ]
  },
  {
   "cell_type": "code",
   "execution_count": 77,
   "id": "bf6a38c7-0de3-4b28-9f59-90f8ba57f378",
   "metadata": {},
   "outputs": [],
   "source": [
    "SB_REWARDS = {\"Green\": 2, \"Red\": 0,  \"Blue\": -2, \"Spotted\": 1, \"Solid\": 0, \"Striped\": -1}\n",
    "\n",
    "exp1_trials[\"truthful\"] = exp1_trials.apply(lambda x: SB_REWARDS[x['feature']] == x['feature_value'], axis=1)\n",
    "pct_by_condition = exp1_trials.groupby('objective').truthful.value_counts() / exp1_trials.groupby('objective').size()\n",
    "\n",
    "pct_by_condition = pct_by_condition.reset_index()"
   ]
  },
  {
   "cell_type": "code",
   "execution_count": 78,
   "id": "2dd880e2-6b03-4dc7-aad3-33b06ac21417",
   "metadata": {},
   "outputs": [
    {
     "data": {
      "text/html": [
       "<div>\n",
       "<style scoped>\n",
       "    .dataframe tbody tr th:only-of-type {\n",
       "        vertical-align: middle;\n",
       "    }\n",
       "\n",
       "    .dataframe tbody tr th {\n",
       "        vertical-align: top;\n",
       "    }\n",
       "\n",
       "    .dataframe thead th {\n",
       "        text-align: right;\n",
       "    }\n",
       "</style>\n",
       "<table border=\"1\" class=\"dataframe\">\n",
       "  <thead>\n",
       "    <tr style=\"text-align: right;\">\n",
       "      <th></th>\n",
       "      <th>objective</th>\n",
       "      <th>truthful</th>\n",
       "      <th>0</th>\n",
       "    </tr>\n",
       "  </thead>\n",
       "  <tbody>\n",
       "    <tr>\n",
       "      <th>0</th>\n",
       "      <td>ambiguous</td>\n",
       "      <td>True</td>\n",
       "      <td>0.848120</td>\n",
       "    </tr>\n",
       "    <tr>\n",
       "      <th>1</th>\n",
       "      <td>ambiguous</td>\n",
       "      <td>False</td>\n",
       "      <td>0.151880</td>\n",
       "    </tr>\n",
       "    <tr>\n",
       "      <th>2</th>\n",
       "      <td>belief</td>\n",
       "      <td>True</td>\n",
       "      <td>0.951970</td>\n",
       "    </tr>\n",
       "    <tr>\n",
       "      <th>3</th>\n",
       "      <td>belief</td>\n",
       "      <td>False</td>\n",
       "      <td>0.048030</td>\n",
       "    </tr>\n",
       "    <tr>\n",
       "      <th>4</th>\n",
       "      <td>utility</td>\n",
       "      <td>True</td>\n",
       "      <td>0.670722</td>\n",
       "    </tr>\n",
       "    <tr>\n",
       "      <th>5</th>\n",
       "      <td>utility</td>\n",
       "      <td>False</td>\n",
       "      <td>0.329278</td>\n",
       "    </tr>\n",
       "  </tbody>\n",
       "</table>\n",
       "</div>"
      ],
      "text/plain": [
       "   objective  truthful         0\n",
       "0  ambiguous      True  0.848120\n",
       "1  ambiguous     False  0.151880\n",
       "2     belief      True  0.951970\n",
       "3     belief     False  0.048030\n",
       "4    utility      True  0.670722\n",
       "5    utility     False  0.329278"
      ]
     },
     "execution_count": 78,
     "metadata": {},
     "output_type": "execute_result"
    }
   ],
   "source": [
    "pct_by_condition"
   ]
  },
  {
   "cell_type": "markdown",
   "id": "baea78db-21d6-462b-b62c-de75036dec7b",
   "metadata": {},
   "source": [
    "## ANOVA to confirm difference in truth-telling by condition"
   ]
  },
  {
   "cell_type": "code",
   "execution_count": 82,
   "id": "96b51d53-7fd4-44c3-892b-1b65be59a98a",
   "metadata": {},
   "outputs": [
    {
     "name": "stderr",
     "output_type": "stream",
     "text": [
      "/var/folders/gv/42lb0z1j4dxf3wsk74nrxwx80000gn/T/ipykernel_31062/275443705.py:1: FutureWarning: This dataframe has a column name that matches the 'value_name' column name of the resulting Dataframe. In the future this will raise an error, please set the 'value_name' parameter of DataFrame.melt to a unique name.\n",
      "  melted = pd.melt(exp1_trials, id_vars=['workerid', 'objective'], value_vars=['truthful'])\n"
     ]
    }
   ],
   "source": [
    "melted = pd.melt(exp1_trials, id_vars=['workerid', 'objective'], value_vars=['truthful'])\n",
    "res = []\n",
    "for (k1, k2), g in melted.groupby(['workerid', 'objective']):\n",
    "    res.append({\"workerid\": k1, \"objective\": k2, \"truthful_pct\": len(g[g.value])/ len(g)})\n",
    "res = pd.DataFrame(res)"
   ]
  },
  {
   "cell_type": "code",
   "execution_count": 83,
   "id": "9ef9fe87-33e9-4d0a-b05e-2a946589d3ca",
   "metadata": {},
   "outputs": [
    {
     "data": {
      "text/plain": [
       "F_onewayResult(statistic=49.40139618810778, pvalue=5.210640075178156e-19)"
      ]
     },
     "execution_count": 83,
     "metadata": {},
     "output_type": "execute_result"
    }
   ],
   "source": [
    "from scipy.stats import f_oneway\n",
    "\n",
    "ambiguous = res[res.objective=='ambiguous'].truthful_pct\n",
    "belief = res[res.objective=='belief'].truthful_pct\n",
    "utility = res[res.objective=='utility'].truthful_pct\n",
    "\n",
    "f_oneway(ambiguous, belief, utility)"
   ]
  },
  {
   "cell_type": "code",
   "execution_count": 84,
   "id": "29f9292e-8d6f-479a-a3a5-5163dfab1420",
   "metadata": {},
   "outputs": [],
   "source": [
    "def heatmap_messages(to_plot_messages, title=\"\", vmax=None, hide_axes=True, normalize=True, cmap=None, cbar=True, ax=None):\n",
    "        \n",
    "    percent_of_messages = to_plot_messages.groupby([\"feature\", \"feature_value\"]).size().reset_index()\n",
    "    if normalize:\n",
    "        percent_of_messages[0] = percent_of_messages[0] / len(to_plot_messages)\n",
    "\n",
    "    for feat, val in SB_REWARDS.items():\n",
    "        message = percent_of_messages[(percent_of_messages.feature == feat) & (percent_of_messages.feature_value == val)]\n",
    "        if len(message) != 1:\n",
    "            percent_of_messages = pd.concat([percent_of_messages, \n",
    "                                             pd.DataFrame.from_records([{\"feature\": feat, \"feature_value\": val}])], axis=0)\n",
    "\n",
    "    percent_of_messages['label'] = percent_of_messages.apply(lambda x: \"X\" if SB_REWARDS[x['feature']] == x['feature_value'] else \"\", axis=1)\n",
    "    labels = percent_of_messages.pivot(\"feature_value\", \"feature\", \"label\")\n",
    "    labels = labels.fillna(\"\")\n",
    "    \n",
    "    message_table = percent_of_messages.pivot(\"feature_value\", \"feature\", 0)\n",
    "\n",
    "    features_in_descending_order = [\"Green\", \"Spotted\", \"Red\", \"Solid\", \"Striped\", \"Blue\"]\n",
    "    message_table = message_table.reindex(features_in_descending_order, axis=1).fillna(0)\n",
    "    labels = labels.reindex(features_in_descending_order, axis=1)\n",
    "\n",
    "    if vmax is None:\n",
    "        vmax = percent_of_messages[0].max()\n",
    "        \n",
    "    ax = sns.heatmap(message_table, annot=labels,annot_kws={\"fontsize\":30}, fmt='', cmap=cmap, vmax=vmax, \n",
    "                     linewidths=1, ax=ax, cbar=cbar, linecolor='darkgray')\n",
    "    ax.invert_yaxis()\n",
    "    \n",
    "    # use matplotlib.colorbar.Colorbar object\n",
    "    if cbar:\n",
    "        cbar = ax.collections[0].colorbar\n",
    "        cbar.ax.tick_params(labelsize=30)\n",
    "        \n",
    "    if hide_axes:\n",
    "        ax.set_xticks([])\n",
    "        ax.set_yticks([])\n",
    "        ax.set_xlabel(\"\")\n",
    "        ax.set_ylabel(\"\")"
   ]
  },
  {
   "cell_type": "code",
   "execution_count": 85,
   "id": "84f8bb26-6691-4435-b110-e8c3c02619b5",
   "metadata": {},
   "outputs": [],
   "source": [
    "exp1_trials[\"str_action_context\"] = exp1_trials.action_context.apply(lambda x: json.dumps(x[0]))"
   ]
  },
  {
   "cell_type": "code",
   "execution_count": 86,
   "id": "abc8c68f-adb7-4a07-b784-170e2312aa68",
   "metadata": {},
   "outputs": [
    {
     "data": {
      "image/png": "[encoded data removed]",
      "text/plain": [
       "<Figure size 1440x432 with 3 Axes>"
      ]
     },
     "metadata": {},
     "output_type": "display_data"
    }
   ],
   "source": [
    "context = '[{\"color\": \"Blue\", \"texture\": \"Striped\"}, {\"color\": \"Red\", \"texture\": \"Spotted\"}, {\"color\": \"Red\", \"texture\": \"Solid\"}]'\n",
    "\n",
    "demo_context = exp1_trials[exp1_trials.str_action_context == context]\n",
    "\n",
    "conditions = ['belief', 'ambiguous', 'utility']\n",
    "                                                               \n",
    "fig, axs = plt.subplots(1, 3, figsize=(20, 6), sharey=True)\n",
    "\n",
    "for i, ax in enumerate(axs.flat): \n",
    "\n",
    "    cbar = (i == 2)\n",
    "    heatmap_messages(demo_context[demo_context.objective == conditions[i]], cmap='Greys', vmax=.7, ax=ax, cbar=False)\n",
    "\n",
    "plt.tight_layout()\n",
    "plt.savefig('figures/empirical_heatmaps.pdf')\n",
    "\n",
    "# demo_condition = demo_context[demo_context.objective == condition]\n",
    "\n",
    "# title = \"{}: {} participants.\".format(condition, len(demo_condition))\n",
    "\n",
    "# heatmap_messages(demo_condition, title=\"\", hide_axes=True, normalize=True, cmap='Greys')"
   ]
  },
  {
   "cell_type": "markdown",
   "id": "0c89bd84-0c66-40cc-8ffd-53f097ef4cdc",
   "metadata": {},
   "source": [
    "# Posterior Predictive plots"
   ]
  },
  {
   "cell_type": "code",
   "execution_count": 87,
   "id": "4a261955-fa9a-4536-81f7-50d30d0d1699",
   "metadata": {},
   "outputs": [],
   "source": [
    "for_posterior = exp1_trials[exp1_trials.objective == 'ambiguous']\n",
    "\n",
    "for_posterior = for_posterior.groupby(['feature', 'feature_value', 'str_action_context']).size().reset_index()\n",
    "for_posterior = for_posterior.rename({0: \"responses\", 'feature_value': 'value', 'str_action_context': 'action_context'}, axis=1)\n",
    "\n",
    "normalized_by_context = []\n",
    "for k, g in for_posterior.groupby('action_context'):\n",
    "    g[\"Empirical Probability\"] = g[\"responses\"] / g[\"responses\"].sum()\n",
    "    normalized_by_context.append(g)\n",
    "\n",
    "normalized = pd.concat(normalized_by_context)\n",
    "# normalized = normalized.set_index()"
   ]
  },
  {
   "cell_type": "code",
   "execution_count": 88,
   "id": "7cadeeb3-23e7-44d8-8a59-27af860b5089",
   "metadata": {},
   "outputs": [],
   "source": [
    "try:\n",
    "    posterior_pred = pd.read_json(\"exp1_posterior_predictive_mle.json\")\n",
    "except FileNotFoundError:\n",
    "    print(\"Error: you must run the simulation notebook to produce MLE predictions first.\")\n",
    "    \n",
    "posterior_pred = posterior_pred.rename({'MLE-unbiased-combined_prob': \"Combined\", \n",
    "                                        'MLE-unbiased-combined-valence_prob': \"Combined-Valence\", \n",
    "                                        'MLE-unbiased-belief-only_prob': 'Belief Only', \n",
    "                                        'MLE-unbiased-action-only_prob': 'Action Only',\n",
    "                                       'MLE-action-bias-combined_prob': 'Action Biased',\n",
    "                                       'MLE-belief-bias-combined_prob': 'Belief Biased'}, axis=1)\n",
    "\n",
    "posterior_pred = pd.merge(posterior_pred, normalized, how='left', \n",
    "                          left_on=[\"action_context\", \"feature\", \"value\"],\n",
    "                          right_on=[\"action_context\", \"feature\", \"value\"]).reset_index()\n",
    "\n",
    "posterior_pred = posterior_pred.fillna(0)"
   ]
  },
  {
   "cell_type": "code",
   "execution_count": 90,
   "id": "b1adf2d8-29bc-4576-9606-fb8c229b2b93",
   "metadata": {},
   "outputs": [
    {
     "data": {
      "image/png": "[encoded data removed]",
      "text/plain": [
       "<Figure size 1440x432 with 3 Axes>"
      ]
     },
     "metadata": {
      "needs_background": "light"
     },
     "output_type": "display_data"
    }
   ],
   "source": [
    "models = ['Belief Only', 'Combined', 'Action Only']\n",
    "to_plot = posterior_pred\n",
    "\n",
    "rename_dict = {\"Blue\": \"Blue\",\n",
    "               \"Green\": \"Green\",\n",
    "               \"Red\": \"Red\",\n",
    "               \"Spotted\": \"Circle\",\n",
    "               \"Striped\": \"Square\",\n",
    "               \"Solid\": \"Triangle\"}\n",
    "\n",
    "posterior_pred['feature_to_plot'] = posterior_pred.feature.apply(lambda x: rename_dict[x])\n",
    "                                                                 \n",
    "fig, axs = plt.subplots(1, 3, figsize=(20, 6), sharey=True)\n",
    "\n",
    "for i, ax in enumerate(axs.flat): \n",
    "\n",
    "    ax.plot([0, 1], [0, 1], c='k', linestyle='--', alpha=.5, linewidth=3, zorder=0)\n",
    "\n",
    "    g = sns.scatterplot(data=to_plot, x='Empirical Probability', y=models[i], \n",
    "                        hue='feature_to_plot', palette=['b', 'g', 'r', 'gray', 'gray','gray'],\n",
    "                        style='feature_to_plot', markers=['s', 's', 's', 'o', 's','^'], \n",
    "                        alpha=.7, s=100,  linewidth=.5, edgecolor='k', ax=ax)\n",
    "\n",
    "    ax.set_xlabel(\"Empirical Results\", fontsize=25)\n",
    "    ax.set_ylabel(\"Model Predictions\", fontsize=25)\n",
    "    ax.set_title(models[i], fontsize=35)\n",
    "    ax.tick_params(labelsize=25)\n",
    "\n",
    "    ax.text(.55, .88, \"$r^2$: {:.2f}\".format(r2_score(posterior_pred[\"Empirical Probability\"], posterior_pred[models[i]])), \n",
    "             fontsize=30);\n",
    "    \n",
    "    if i == 0:\n",
    "        lgnd = ax.legend(loc=\"upper left\", scatterpoints=1, fontsize=18)\n",
    "        for handle in lgnd.legendHandles:\n",
    "            handle.set_sizes([500.0])\n",
    "    else:\n",
    "        ax.get_legend().remove()\n",
    "\n",
    "    ax.set_xlim(1e-2, 1)\n",
    "    ax.set_ylim(1e-2, 1)\n",
    "\n",
    "plt.tight_layout()\n",
    "plt.savefig('figures/exp1-variance-explained.pdf', bbox_inches='tight')"
   ]
  },
  {
   "cell_type": "code",
   "execution_count": 91,
   "id": "5405a652-b4e6-4f45-bb6b-e3b47f014032",
   "metadata": {},
   "outputs": [
    {
     "data": {
      "image/png": "[encoded data removed]",
      "text/plain": [
       "<Figure size 576x576 with 1 Axes>"
      ]
     },
     "metadata": {
      "needs_background": "light"
     },
     "output_type": "display_data"
    }
   ],
   "source": [
    "model_to_plot = 'Combined-Valence' # Combined, Belief Only, Utility Only, beta-five-combined_prob\n",
    "\n",
    "to_plot = posterior_pred\n",
    "\n",
    "plt.figure(figsize=(8, 8))\n",
    "\n",
    "rename_dict = {\"Blue\": \"Blue\",\n",
    "               \"Green\": \"Green\",\n",
    "               \"Red\": \"Red\",\n",
    "               \"Spotted\": \"Circle\",\n",
    "               \"Striped\": \"Square\",\n",
    "               \"Solid\": \"Triangle\"}\n",
    "\n",
    "to_plot['feature_to_plot'] = to_plot.feature.apply(lambda x: rename_dict[x])\n",
    "\n",
    "g = sns.scatterplot(data=to_plot, x='Empirical Probability', y=model_to_plot, \n",
    "                hue='feature_to_plot', palette=['b', 'g', 'r', 'gray', 'gray','gray'],\n",
    "               style='feature_to_plot', markers=['s', 's', 's', 'o', 's','^'],\n",
    "               alpha=.6, s=100,  linewidth=.5, edgecolor='k')\n",
    "\n",
    "plt.xlabel(\"Empirical Results\", fontsize=25)\n",
    "plt.ylabel(\"{} Model\".format(model_to_plot), fontsize=25)\n",
    "plt.gca().tick_params(labelsize=25)\n",
    "\n",
    "plt.plot([0, 1], [0, 1], c='k', linestyle='--', alpha=.5, linewidth=3, zorder=0)\n",
    "\n",
    "plt.text(.4, .9, \"$r^2$: {:.2f}\".format(r2_score(posterior_pred[\"Empirical Probability\"], posterior_pred[model_to_plot])), \n",
    "         fontsize=30);\n",
    "\n",
    "lgnd = plt.gca().legend(loc=\"lower right\", scatterpoints=1, fontsize=15)\n",
    "for handle in lgnd.legendHandles:\n",
    "    handle.set_sizes([450.0])\n",
    "\n",
    "plt.xlim(1e-2, 1)\n",
    "plt.ylim(1e-2, 1)\n",
    "\n",
    "plt.savefig(\"figures/combined-valence-variance-explained.pdf\", bbox_inches='tight')\n",
    "plt.show()"
   ]
  },
  {
   "cell_type": "code",
   "execution_count": 92,
   "id": "11a64e02-4233-4c14-8be2-bbf37ba2cb29",
   "metadata": {},
   "outputs": [
    {
     "data": {
      "image/png": "[encoded data removed]",
      "text/plain": [
       "<Figure size 432x288 with 1 Axes>"
      ]
     },
     "metadata": {
      "needs_background": "light"
     },
     "output_type": "display_data"
    }
   ],
   "source": [
    "posterior_pred['signed_error'] = posterior_pred[\"Empirical Probability\"] - posterior_pred['Combined-Valence']\n",
    "posterior_pred['abs_error'] = abs(posterior_pred['signed_error'])\n",
    "\n",
    "ax1 = sns.barplot(data=posterior_pred, x=\"value\", y=\"signed_error\", color='lightgray',\n",
    "           order=[2, 1, 0, -1, -2])\n",
    "\n",
    "\n",
    "ys = [-.03, -.02, -.01, 0, .01, .02, .03]\n",
    "for y in ys[1:-1]:\n",
    "    ax1.axhline(y, alpha=.5, linestyle='--', c='k', zorder=0)\n",
    "\n",
    "ax1.set_ylim(-.03, .03)\n",
    "ax1.tick_params(labelsize=20)\n",
    "    \n",
    "ax1.set_yticks(ys)\n",
    "ax1.set_ylabel(\"Model Residuals \\n (Empirical - Prediction)\", fontsize=20)\n",
    "ax1.set_xlabel(\"Utterance Value\", fontsize=20)\n",
    "\n",
    "plt.savefig('figures/appendix/model_residuals_by_value_valence_fit.pdf', bbox_inches='tight')\n",
    "\n",
    "plt.show()"
   ]
  },
  {
   "cell_type": "markdown",
   "id": "79e53a13-66b5-4be2-a7ad-8db06abd0e34",
   "metadata": {},
   "source": [
    "## Export Data for WebPPL"
   ]
  },
  {
   "cell_type": "code",
   "execution_count": 93,
   "id": "2fe5058e-be32-49c7-b4fb-b02f7f53ab53",
   "metadata": {},
   "outputs": [],
   "source": [
    "def extract_single_action_trials(trial, filter_on_catch_trials):\n",
    "    \n",
    "    jspsych_log_data = trial.get(\"data\", {})\n",
    "    action_context = jspsych_log_data.get(\"action_context\")\n",
    "    \n",
    "    if not action_context:\n",
    "        return None\n",
    "    \n",
    "    if len(action_context) > 1:\n",
    "        print(\"{} actions found, can't process.\".format(len(action_context)))\n",
    "        return None\n",
    "    \n",
    "    if filter_on_catch_trials:\n",
    "        if not trial[\"passed_catch_trial\"]:\n",
    "            return None\n",
    "    \n",
    "    return {\"action_context\": action_context[0],\n",
    "            \"workerid\": trial[\"workerid\"],\n",
    "            \"objective\": trial[\"objective\"],\n",
    "            \"response\": {\"feature\": trial[\"feature\"], \"feature_value\": trial[\"feature_value\"]}}"
   ]
  },
  {
   "cell_type": "code",
   "execution_count": 94,
   "id": "05edf569-e280-4c6c-b258-9f0fad7fec86",
   "metadata": {},
   "outputs": [],
   "source": [
    "single_action_trial_results = exp1_trials.apply(lambda x: extract_single_action_trials(x, filter_on_catch_trials=True), axis=1)\n",
    "valid_trial_data = list(single_action_trial_results.dropna().values)"
   ]
  },
  {
   "cell_type": "code",
   "execution_count": 95,
   "id": "e916f8f2-cbb4-4302-af0f-7a0434f9b5bb",
   "metadata": {},
   "outputs": [
    {
     "name": "stdout",
     "output_type": "stream",
     "text": [
      "Processed 273 workers, returned 273.\n"
     ]
    }
   ],
   "source": [
    "print(\"Processed {} workers, returned {}.\".format(\n",
    "    exp1_trials.workerid.nunique(), \n",
    "    pd.DataFrame.from_records(single_action_trial_results.dropna().values).workerid.nunique()))"
   ]
  },
  {
   "cell_type": "code",
   "execution_count": 96,
   "id": "005a4622-3183-4d1d-9f68-c7079a352743",
   "metadata": {},
   "outputs": [],
   "source": [
    "# Write all the data out together\n",
    "with open(write_data_path + 'webppl-input/select/ALL-exp1.json', 'w') as outfile:\n",
    "    json.dump(valid_trial_data, outfile)\n",
    "\n",
    "# Split data by condition and write it out\n",
    "for condition in ['belief', 'utility', 'ambiguous']:\n",
    "    \n",
    "    to_output = [x for x in valid_trial_data if x.get(\"objective\") == condition]\n",
    "    with open(write_data_path + 'webppl-input/select/{}-exp1.json'.format(condition), 'w') as outfile:\n",
    "        json.dump(to_output, outfile)\n",
    "\n",
    "# Split data by worker and write it out\n",
    "workers = list(set([v[\"workerid\"] for v in valid_trial_data]))\n",
    "for workerid in workers:\n",
    "    \n",
    "    to_output = [x for x in valid_trial_data if x.get(\"workerid\") == workerid]\n",
    "\n",
    "    with open(write_data_path + 'webppl-input/select/participants/{}.json'.format(workerid), 'w') as outfile:\n",
    "        json.dump(to_output, outfile)"
   ]
  },
  {
   "cell_type": "markdown",
   "id": "67ac59f5-8f61-422f-bc4a-e6eaae3e3f21",
   "metadata": {},
   "source": [
    "## Read in WebPPL outputs"
   ]
  },
  {
   "cell_type": "code",
   "execution_count": 97,
   "id": "96ff5af7-3712-4753-8a91-53779e5a00aa",
   "metadata": {},
   "outputs": [],
   "source": [
    "participant_mles = pd.read_json(open(\"experiment/webppl-exp1/participant_maximum_likelihood_params.json\")).set_index(\"workerid\")"
   ]
  },
  {
   "cell_type": "code",
   "execution_count": 98,
   "id": "084475b7-8379-4808-8444-bc56e36b5edb",
   "metadata": {},
   "outputs": [
    {
     "name": "stdout",
     "output_type": "stream",
     "text": [
      "Joined in 273 results.\n"
     ]
    }
   ],
   "source": [
    "participant_mles[\"truthWeight\"] = 1 - participant_mles[\"utilityWeight\"]\n",
    "joined = exp1_trials.set_index(\"workerid\").join(participant_mles, how='inner').reset_index()\n",
    "print(\"Joined in {} results.\".format(joined.workerid.nunique()))\n",
    "\n",
    "by_condition = joined.groupby(\"workerid\")[[\"workerid\", \"passed_catch_trial\", \"utilityWeight\", \"truthWeight\", \"objective\", \"alphaS\"]].sample(1).dropna()"
   ]
  },
  {
   "cell_type": "code",
   "execution_count": 99,
   "id": "9f56738e-ca39-4022-867d-19ef1408d4c0",
   "metadata": {},
   "outputs": [
    {
     "data": {
      "image/png": "[encoded data removed]",
      "text/plain": [
       "<Figure size 1296x288 with 3 Axes>"
      ]
     },
     "metadata": {
      "needs_background": "light"
     },
     "output_type": "display_data"
    }
   ],
   "source": [
    "to_plot = by_condition\n",
    "\n",
    "mles = {\n",
    "    \"utility\": 0.85,\n",
    "    \"ambiguous\": 0.55, \n",
    "    \"belief\": 0.35\n",
    "}\n",
    "\n",
    "label_locs = [.1, .30, .60]\n",
    "title_order = [\"Belief Bias\", \"Unbiased\", \"Action Bias\"]\n",
    "\n",
    "col_order = ['belief', 'ambiguous', 'utility']\n",
    "facet = sns.displot(to_plot, col=\"objective\", col_order=col_order, x=\"utilityWeight\", element=\"step\",\n",
    "                   height=4, aspect=1.5, color='gray')\n",
    "\n",
    "for i, ax in enumerate(facet.axes[0]):\n",
    "\n",
    "    ax.set_title(\"\")\n",
    "#     ax.set_title(title_order[i], fontsize=45)\n",
    "\n",
    "    ax.set_xlim(0, 1)\n",
    "    ax.set_xticks([.25, .5, .75])\n",
    "    ax.tick_params(labelsize=30, length=10)\n",
    "\n",
    "    mle = mles[col_order[i]]\n",
    "    ax.axvline(mle, linewidth=5, linestyle='--', c='k')\n",
    "    ax.text(label_locs[i], 30, \"{}\".format(mles[col_order[i]]), \n",
    "            fontdict={\"size\": 30, \"weight\": 'bold'})\n",
    "    \n",
    "    ax.set_xlabel(\"Individual $\\lambda$ MLE\", fontsize=30)\n",
    "\n",
    "    if i == 0:\n",
    "        ax.set_ylabel(\"Participants\", fontsize=30) \n",
    "\n",
    "facet.tight_layout()\n",
    "        \n",
    "plt.savefig(\"figures/exp1_mle_estimates.pdf\")\n",
    "plt.show()\n"
   ]
  },
  {
   "cell_type": "markdown",
   "id": "d91e61b5-2b98-4347-9d81-a78f43c73b7e",
   "metadata": {},
   "source": [
    "## Response Times"
   ]
  },
  {
   "cell_type": "code",
   "execution_count": 100,
   "id": "00108ec1-2413-46bb-85e8-d0101817d77d",
   "metadata": {},
   "outputs": [],
   "source": [
    "joined['rt_seconds'] = joined.data.apply(lambda x: x[\"rt\"] / 1000)\n",
    "joined['log_rt_seconds'] = np.log(joined.rt_seconds)\n",
    "joined[['workerid', 'rt_seconds', 'utilityWeight', 'truthful', 'log_rt_seconds']].to_csv(\"response_times_for_r.csv\")"
   ]
  },
  {
   "cell_type": "code",
   "execution_count": 52,
   "id": "122888bb-861a-4765-bb40-33bbf2e119a2",
   "metadata": {},
   "outputs": [
    {
     "data": {
      "text/plain": [
       "Ttest_indResult(statistic=-10.76632981148753, pvalue=7.728016948898333e-27)"
      ]
     },
     "execution_count": 52,
     "metadata": {},
     "output_type": "execute_result"
    }
   ],
   "source": [
    "import scipy.stats\n",
    "\n",
    "truthful_rts = joined[joined.truthful].rt_seconds\n",
    "false_rts = joined[~joined.truthful].rt_seconds\n",
    "scipy.stats.ttest_ind(np.log(truthful_rts), np.log(false_rts))"
   ]
  },
  {
   "cell_type": "code",
   "execution_count": 101,
   "id": "010f6851-d543-4a26-88f9-2daaa098b466",
   "metadata": {},
   "outputs": [
    {
     "data": {
      "image/png": "[encoded data removed]",
      "text/plain": [
       "<Figure size 432x288 with 1 Axes>"
      ]
     },
     "metadata": {
      "needs_background": "light"
     },
     "output_type": "display_data"
    }
   ],
   "source": [
    "ax = sns.histplot(data=joined, hue='truthful', x='rt_seconds', stat='probability', common_norm=False, log_scale=True)\n",
    "plt.gca().tick_params(labelsize=15)\n",
    "plt.xlabel(\"Log Response Time\", fontsize=15)\n",
    "plt.ylabel(\"Percent of Responses\", fontsize=15)\n",
    "\n",
    "plt.savefig('figures/response_times_by_truthfulness.pdf', bbox_inches='tight')\n"
   ]
  }
 ],
 "metadata": {
  "kernelspec": {
   "display_name": "Python 3 (ipykernel)",
   "language": "python",
   "name": "python3"
  },
  "language_info": {
   "codemirror_mode": {
    "name": "ipython",
    "version": 3
   },
   "file_extension": ".py",
   "mimetype": "text/x-python",
   "name": "python",
   "nbconvert_exporter": "python",
   "pygments_lexer": "ipython3",
   "version": "3.9.12"
  }
 },
 "nbformat": 4,
 "nbformat_minor": 5
}
