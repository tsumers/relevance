{
 "cells": [
  {
   "cell_type": "code",
   "execution_count": 1,
   "id": "14583c6c-4167-4a7b-a519-48684f554739",
   "metadata": {},
   "outputs": [],
   "source": [
    "from scipy.stats.distributions import chi2\n",
    "\n",
    "import matplotlib.pylab as plt\n",
    "import json\n",
    "import pandas as pd\n",
    "import os\n",
    "import seaborn as sns\n",
    "import numpy as np\n",
    "\n",
    "import itertools\n",
    "import random\n",
    "import copy\n",
    "import time"
   ]
  },
  {
   "cell_type": "code",
   "execution_count": 56,
   "id": "ab2d8bc5-01d5-4bb2-828f-67213d2a642b",
   "metadata": {},
   "outputs": [],
   "source": [
    "script_path = 'javascript/analysis/models.wppl'\n",
    "data_path = 'experiment/webppl-input/'"
   ]
  },
  {
   "cell_type": "markdown",
   "id": "90ca4318-639c-4623-9c5c-2ad09b1a998d",
   "metadata": {},
   "source": [
    "# Grid Search Parameters"
   ]
  },
  {
   "cell_type": "code",
   "execution_count": 3,
   "id": "6c23d9c6-c062-4471-ae2e-d302f930dfd7",
   "metadata": {},
   "outputs": [],
   "source": [
    "# PARTICIPANT_GRID_PARAM_PATH = \"experiment/webppl-{}/participant_gridsearch_mle_params.json\"\n",
    "\n",
    "def grid_search_likelihoods(output_directory, input_files, input_type=\"select\", likelihood=\"original\", \n",
    "                            params=\"\", verbose=True, output_fname_extension=\"\"): \n",
    "\n",
    "    try:\n",
    "        os.mkdir(output_directory)\n",
    "    except:\n",
    "        pass\n",
    "\n",
    "    for input_file in input_files:\n",
    "\n",
    "        output_file = f'gridsearch-LH-{likelihood}{output_fname_extension}-{input_file}'    \n",
    "        existing_files = os.listdir(output_directory)\n",
    "\n",
    "        file_exists = [f for f in existing_files if output_file == f]\n",
    "        \n",
    "        if file_exists and verbose:\n",
    "            print(\"Found existing {}\".format(output_file))\n",
    "        \n",
    "        else:\n",
    "\n",
    "            print(\"Could not find {}.\".format(output_file))\n",
    "\n",
    "            script = '{} --require actions --require webppl-json -- --gridsearch --fname {} --fpath {} --outpath {} --inputType {} --likelihood {} --{}'\n",
    "            script = script.format(script_path, input_type + \"/\" + input_file, data_path, output_directory + output_file, input_type, likelihood, params)\n",
    "        \n",
    "            start_time_ms = round(time.time() * 1000)\n",
    "            os.system(\"webppl {}\".format(script))\n",
    "            end_time_ms = round(time.time() * 1000)\n",
    "\n",
    "            print(\"\\tRan {} in {:.2f} minutes.\".format(input_file, (end_time_ms - start_time_ms)/1000/60)) "
   ]
  },
  {
   "cell_type": "markdown",
   "id": "de787db8-9d3c-4732-99e1-d3d1b51b7a3c",
   "metadata": {},
   "source": [
    "## Analyze Gridsearch"
   ]
  },
  {
   "cell_type": "code",
   "execution_count": 4,
   "id": "4cace497-1e9d-4fe0-9c97-8f56f13044c9",
   "metadata": {},
   "outputs": [],
   "source": [
    "def concat_participant_gridsearch_likelihoods(exp):\n",
    "        \n",
    "    input_dir = \"experiment/webppl-{}/gridsearch/participants/\".format(exp)\n",
    "\n",
    "    gridsearch_results_dfs = []\n",
    "    existing_files = [s for s in os.listdir(input_dir) if \"json\" in s]\n",
    "\n",
    "    for file in existing_files:\n",
    "            \n",
    "            file_path = input_dir + file\n",
    "            try:\n",
    "                gridsearch_results = pd.DataFrame(json.load(open(file_path)))\n",
    "                gridsearch_results[\"workerid\"] = file.split(\".\")[0].split(\"-\")[-1]\n",
    "                gridsearch_results_dfs.append(gridsearch_results)\n",
    "            except FileNotFoundError:\n",
    "                print(\"Failed to find {}.\".format(file_path))\n",
    "\n",
    "    df = pd.concat(gridsearch_results_dfs)\n",
    "    return df\n",
    "\n",
    "def mles_from_participant_gridsearch(exp):\n",
    "    \n",
    "    full_df = concat_participant_gridsearch_likelihoods(exp)\n",
    "    \n",
    "    return full_df.sort_values('likelihood', ascending=False).drop_duplicates(['workerid'])\n",
    "\n",
    "def model_likelihoods_from_gridsearch(df):\n",
    "    \n",
    "    combined = df.sort_values('likelihood', ascending=False).iloc[0][\"likelihood\"]\n",
    "    belief = df[df.utilityWeight==0].sort_values('likelihood', ascending=False).iloc[0][\"likelihood\"]\n",
    "    utility = df[df.utilityWeight==1].sort_values('likelihood', ascending=False).iloc[0][\"likelihood\"]\n",
    "\n",
    "    return {\"combined\": combined, \"belief\": belief, \"utility\": utility}\n"
   ]
  },
  {
   "cell_type": "markdown",
   "id": "8a8de09a-e8ed-4e60-8a17-8a02433695be",
   "metadata": {},
   "source": [
    "## Model Comparisons - Likelihood Ratios"
   ]
  },
  {
   "cell_type": "code",
   "execution_count": 5,
   "id": "f9930ffb-3c86-41f9-94d2-e05a5878f520",
   "metadata": {},
   "outputs": [],
   "source": [
    "def likelihood_ratio(log_likelihood1, log_likelihood2, dof):\n",
    "    \"\"\"N.B.: DOF should be 2 for Belief (utilityWeight and alphaL) and 1 for Utility (utilityWeight)\"\"\"\n",
    "\n",
    "    # chi^2(df)=ratio, p = ...\n",
    "    \n",
    "    ratio = 2 * (log_likelihood1 - log_likelihood2)\n",
    "    pval = chi2.sf(ratio, dof)\n",
    "    \n",
    "    print(f'chisq({dof}) = {ratio}, p = {pval}')\n",
    "    return pval\n",
    "\n",
    "def likelihood_ratio_test(m1, m2, dof):\n",
    "    \"\"\"Assumes that m1/m2 are dataframes with parameter values from grid search. Return likelihood ratio results.\"\"\"\n",
    "    \n",
    "    m1_best_params = m1.loc[m1['likelihood'].idxmax()]\n",
    "    m2_best_params = m2.loc[m2['likelihood'].idxmax()]\n",
    "    \n",
    "    print(f'M1 best: UW = {m1_best_params[\"utilityWeight\"]}, alphaS = {m1_best_params[\"alphaS\"]}, log-likelihood: {m1_best_params[\"likelihood\"]}')\n",
    "    print(f'M2 best: UW = {m2_best_params[\"utilityWeight\"]}, alphaS = {m2_best_params[\"alphaS\"]}, log-likelihood: {m2_best_params[\"likelihood\"]}')\n",
    "    \n",
    "    pval = likelihood_ratio(m1_best_params[\"likelihood\"], m2_best_params[\"likelihood\"], dof)\n",
    "    \n",
    "    return pval"
   ]
  },
  {
   "cell_type": "markdown",
   "id": "13d63676-1712-46d9-859c-750aae8b5266",
   "metadata": {},
   "source": [
    "# Bayes Factors"
   ]
  },
  {
   "cell_type": "code",
   "execution_count": 6,
   "id": "a5b5d235-9165-4a53-919d-cf0fa17856de",
   "metadata": {},
   "outputs": [],
   "source": [
    "from scipy.special import logsumexp\n",
    "\n",
    "def average_log_probability(df):\n",
    "    \n",
    "    total_log_prob = logsumexp(df.likelihood)\n",
    "    \n",
    "    # Assume a uniform prior, so \"divide\" by the number of grid points that went into this\n",
    "    return total_log_prob - np.log(len(df))\n",
    "\n",
    "def bayes_factors(m1, m2):\n",
    "    \n",
    "    print(f'Comparing M1 ({len(m1)} rows) to M2 ({len(m2)} rows).')\n",
    "    \n",
    "    m1_log_prob = average_log_probability(m1)\n",
    "    m2_log_prob = average_log_probability(m2)\n",
    "        \n",
    "    log_bayes_factor =  m1_log_prob - m2_log_prob\n",
    "    bayes_factor = np.exp(log_bayes_factor)\n",
    "\n",
    "    print(\"Bayes Factor (M1 / M2): {}\".format(bayes_factor))\n",
    "    print(\"Log Bayes Factor: {}\".format(log_bayes_factor))\n",
    "    print(\"\\tM1: {}\\n\\tM2: {}\".format(m1_log_prob, m2_log_prob))"
   ]
  },
  {
   "cell_type": "markdown",
   "id": "ea9353b1-73db-41eb-8be3-8469fcb4ee06",
   "metadata": {},
   "source": [
    "# Experiment 1"
   ]
  },
  {
   "cell_type": "code",
   "execution_count": 7,
   "id": "5be0728a-4f3e-46af-b88b-01d313c7cf26",
   "metadata": {},
   "outputs": [],
   "source": [
    "conditions = [\"ambiguous\", \"belief\", \"utility\"]\n",
    "models = [\"combined\", \"belief\", \"utility\"]\n",
    "\n",
    "input_string = \"{}-exp1.json\"\n",
    "\n",
    "input_files = []\n",
    "for cond in conditions:\n",
    "    input_files.append(input_string.format(cond))"
   ]
  },
  {
   "cell_type": "markdown",
   "id": "e5133a9e-34a0-441b-a7e3-0446e7d6defa",
   "metadata": {},
   "source": [
    "## Grid Search Parameter Space"
   ]
  },
  {
   "cell_type": "code",
   "execution_count": 8,
   "id": "1779ab95-5bb9-4b38-8aec-02a306927978",
   "metadata": {},
   "outputs": [
    {
     "name": "stdout",
     "output_type": "stream",
     "text": [
      "Found existing gridsearch-LH-original-ambiguous-exp1.json\n",
      "Found existing gridsearch-LH-original-belief-exp1.json\n",
      "Found existing gridsearch-LH-original-utility-exp1.json\n"
     ]
    }
   ],
   "source": [
    "output_dir = \"experiment/webppl-exp1/gridsearch/\"\n",
    "\n",
    "grid_search_likelihoods(output_dir, input_files)"
   ]
  },
  {
   "cell_type": "code",
   "execution_count": 9,
   "id": "a2e7472f-fd81-48e0-bce7-b9b18e8e6ae7",
   "metadata": {},
   "outputs": [],
   "source": [
    "def print_mle(df):\n",
    "    \n",
    "    mle = df.loc[df.likelihood.idxmax()]\n",
    "    print(f'\\tMLE: UW = {mle[\"utilityWeight\"]}, alphaS = {mle[\"alphaS\"]}, alphaL = {mle[\"alphaL\"]}, log-likelihood: {round(mle[\"likelihood\"], 2)}')"
   ]
  },
  {
   "cell_type": "code",
   "execution_count": 10,
   "id": "6e8dec2b-75d5-4bd1-93fc-22db10ae7282",
   "metadata": {},
   "outputs": [
    {
     "name": "stdout",
     "output_type": "stream",
     "text": [
      "\n",
      "\n",
      "ambiguous-exp1.json\n",
      "      utilityWeight  alphaS  alphaL  falsePenalty   likelihood  valenceWeight\n",
      "4893           0.55       3       2            -1 -4777.744606           0.25\n",
      "5393           0.50       3       2            -1 -4787.299626           0.25\n",
      "5388           0.50       3       3            -1 -4802.834423           0.25\n",
      "4888           0.55       3       3            -1 -4804.421262           0.25\n",
      "4393           0.60       3       2            -1 -4804.633996           0.25\n",
      "\tMLE: UW = 0.0, alphaS = 2.0, alphaL = 10.0, log-likelihood: -5911.11\n",
      "\tMLE: UW = 1.0, alphaS = 2.0, alphaL = 2.0, log-likelihood: -6282.39\n",
      "\tMLE: UW = 0.55, alphaS = 3.0, alphaL = 2.0, log-likelihood: -4777.74\n",
      "\n",
      "\n",
      "belief-exp1.json\n",
      "      utilityWeight  alphaS  alphaL  falsePenalty   likelihood  valenceWeight\n",
      "6899           0.35       3       1            -1 -4555.964844            0.0\n",
      "6399           0.40       3       1            -1 -4558.628748            0.0\n",
      "7394           0.30       3       2            -1 -4568.801306            0.0\n",
      "7399           0.30       3       1            -1 -4575.166067            0.0\n",
      "7894           0.25       3       2            -1 -4579.275802            0.0\n",
      "\tMLE: UW = 0.0, alphaS = 2.0, alphaL = 10.0, log-likelihood: -4978.13\n",
      "\tMLE: UW = 1.0, alphaS = 2.0, alphaL = 1.0, log-likelihood: -6890.47\n",
      "\tMLE: UW = 0.35, alphaS = 3.0, alphaL = 1.0, log-likelihood: -4555.96\n",
      "\n",
      "\n",
      "utility-exp1.json\n",
      "      utilityWeight  alphaS  alphaL  falsePenalty   likelihood  valenceWeight\n",
      "1848           0.85       4       1            -1 -3990.416990           0.25\n",
      "2393           0.80       3       2            -1 -3991.173371           0.25\n",
      "2893           0.75       3       2            -1 -4012.851152           0.25\n",
      "2348           0.80       4       1            -1 -4014.459087           0.25\n",
      "1893           0.85       3       2            -1 -4018.893495           0.25\n",
      "\tMLE: UW = 0.0, alphaS = 1.0, alphaL = 10.0, log-likelihood: -6350.9\n",
      "\tMLE: UW = 1.0, alphaS = 4.0, alphaL = 1.0, log-likelihood: -4373.6\n",
      "\tMLE: UW = 0.85, alphaS = 4.0, alphaL = 1.0, log-likelihood: -3990.42\n"
     ]
    },
    {
     "data": {
      "image/png": "[encoded data removed]",
      "text/plain": [
       "<Figure size 432x288 with 2 Axes>"
      ]
     },
     "metadata": {
      "needs_background": "light"
     },
     "output_type": "display_data"
    },
    {
     "data": {
      "image/png": "[encoded data removed]",
      "text/plain": [
       "<Figure size 432x288 with 2 Axes>"
      ]
     },
     "metadata": {
      "needs_background": "light"
     },
     "output_type": "display_data"
    },
    {
     "data": {
      "image/png": "[encoded data removed]",
      "text/plain": [
       "<Figure size 432x288 with 2 Axes>"
      ]
     },
     "metadata": {
      "needs_background": "light"
     },
     "output_type": "display_data"
    }
   ],
   "source": [
    "for input_file in input_files:\n",
    "\n",
    "    inputs = json.load(open(\"experiment/webppl-exp1/gridsearch/gridsearch-LH-original-{}\".format(input_file)))\n",
    "    df = pd.DataFrame.from_records(inputs)\n",
    "    df = df[df.falsePenalty == -1]\n",
    "    df[\"utilityWeight\"] = df.utilityWeight.round(2)\n",
    "    \n",
    "    print(\"\\n\\n\"  + input_file)\n",
    "    print(df.sort_values(\"likelihood\", ascending=False)[[\"utilityWeight\", \"alphaS\", \"alphaL\", \"falsePenalty\", \"likelihood\", \"valenceWeight\"]].head(5))\n",
    "    \n",
    "    print_mle(df[df.utilityWeight == 0])\n",
    "    print_mle(df[df.utilityWeight == 1])\n",
    "    print_mle(df)\n",
    "    \n",
    "    plt.figure()\n",
    "\n",
    "    pivoted = df.pivot_table(values='likelihood', columns=\"utilityWeight\", index=\"alphaS\", aggfunc='max')\n",
    "    ax = sns.heatmap(pivoted)\n",
    "    ax.invert_yaxis()\n",
    "    plt.suptitle(input_file)"
   ]
  },
  {
   "cell_type": "code",
   "execution_count": 11,
   "id": "2647b3b8-4a0f-41c2-89c9-1e23020c21e2",
   "metadata": {},
   "outputs": [
    {
     "name": "stdout",
     "output_type": "stream",
     "text": [
      "Found existing gridsearch-LH-qud-ambiguous-exp1.json\n",
      "Found existing gridsearch-LH-qud-belief-exp1.json\n",
      "Found existing gridsearch-LH-qud-utility-exp1.json\n",
      "\n",
      "\n",
      "utility-exp1.json\n",
      "   alphaS  falsePenalty    likelihood\n",
      "9       1            -1  -6510.124654\n",
      "8       2            -1  -7521.862735\n",
      "7       3            -1  -9850.383400\n",
      "6       4            -1 -12494.810844\n",
      "5       5            -1 -15245.429502\n"
     ]
    }
   ],
   "source": [
    "grid_search_likelihoods(output_dir, input_files, likelihood=\"qud\", params=\"qudParams\") \n",
    "\n",
    "inputs = json.load(open(\"experiment/webppl-exp1/gridsearch/gridsearch-LH-qud-ambiguous-exp1.json\".format(input_file)))\n",
    "df = pd.DataFrame.from_records(inputs)\n",
    "\n",
    "print(\"\\n\\n\"  + input_file)\n",
    "print(df.sort_values(\"likelihood\", ascending=False)[[\"alphaS\", \"falsePenalty\", \"likelihood\"]].head(5))"
   ]
  },
  {
   "cell_type": "markdown",
   "id": "b5ec510c-bcf0-4b98-8dc4-554af83a76e1",
   "metadata": {},
   "source": [
    "### Bayes Factors"
   ]
  },
  {
   "cell_type": "code",
   "execution_count": 12,
   "id": "9be1c5a1-faad-486c-a2a0-844644a1a7fb",
   "metadata": {},
   "outputs": [
    {
     "data": {
      "text/html": [
       "<div>\n",
       "<style scoped>\n",
       "    .dataframe tbody tr th:only-of-type {\n",
       "        vertical-align: middle;\n",
       "    }\n",
       "\n",
       "    .dataframe tbody tr th {\n",
       "        vertical-align: top;\n",
       "    }\n",
       "\n",
       "    .dataframe thead th {\n",
       "        text-align: right;\n",
       "    }\n",
       "</style>\n",
       "<table border=\"1\" class=\"dataframe\">\n",
       "  <thead>\n",
       "    <tr style=\"text-align: right;\">\n",
       "      <th></th>\n",
       "      <th>utilityWeight</th>\n",
       "      <th>alphaS</th>\n",
       "      <th>alphaL</th>\n",
       "      <th>valenceWeight</th>\n",
       "      <th>falsePenalty</th>\n",
       "      <th>sigmaGaussian</th>\n",
       "      <th>likelihood</th>\n",
       "    </tr>\n",
       "  </thead>\n",
       "  <tbody>\n",
       "    <tr>\n",
       "      <th>4893</th>\n",
       "      <td>0.55</td>\n",
       "      <td>3</td>\n",
       "      <td>2</td>\n",
       "      <td>0.25</td>\n",
       "      <td>-1</td>\n",
       "      <td>30</td>\n",
       "      <td>-4777.744606</td>\n",
       "    </tr>\n",
       "    <tr>\n",
       "      <th>5393</th>\n",
       "      <td>0.50</td>\n",
       "      <td>3</td>\n",
       "      <td>2</td>\n",
       "      <td>0.25</td>\n",
       "      <td>-1</td>\n",
       "      <td>30</td>\n",
       "      <td>-4787.299626</td>\n",
       "    </tr>\n",
       "    <tr>\n",
       "      <th>5388</th>\n",
       "      <td>0.50</td>\n",
       "      <td>3</td>\n",
       "      <td>3</td>\n",
       "      <td>0.25</td>\n",
       "      <td>-1</td>\n",
       "      <td>30</td>\n",
       "      <td>-4802.834423</td>\n",
       "    </tr>\n",
       "  </tbody>\n",
       "</table>\n",
       "</div>"
      ],
      "text/plain": [
       "      utilityWeight  alphaS  alphaL  valenceWeight  falsePenalty  \\\n",
       "4893           0.55       3       2           0.25            -1   \n",
       "5393           0.50       3       2           0.25            -1   \n",
       "5388           0.50       3       3           0.25            -1   \n",
       "\n",
       "      sigmaGaussian   likelihood  \n",
       "4893             30 -4777.744606  \n",
       "5393             30 -4787.299626  \n",
       "5388             30 -4802.834423  "
      ]
     },
     "execution_count": 12,
     "metadata": {},
     "output_type": "execute_result"
    }
   ],
   "source": [
    "combined = pd.DataFrame(json.load(open(\"experiment/webppl-exp1/gridsearch/gridsearch-LH-original-ambiguous-exp1.json\")))\n",
    "combined.sort_values('likelihood', ascending=False).head(3)"
   ]
  },
  {
   "cell_type": "code",
   "execution_count": 13,
   "id": "2a89beb0-d94f-48b2-8fa5-0dbe7a321551",
   "metadata": {},
   "outputs": [
    {
     "name": "stdout",
     "output_type": "stream",
     "text": [
      "\n",
      "BF for combined vs pure belief:\n",
      "Comparing M1 (10500 rows) to M2 (500 rows).\n",
      "Bayes Factor (M1 / M2): inf\n",
      "Log Bayes Factor: 1128.021122099487\n",
      "\tM1: -4787.003665476623\n",
      "\tM2: -5915.02478757611\n",
      "\n",
      "BF for combined vs pure utility\n",
      "Comparing M1 (10500 rows) to M2 (500 rows).\n",
      "Bayes Factor (M1 / M2): inf\n",
      "Log Bayes Factor: 1501.6039763401104\n",
      "\tM1: -4787.003665476623\n",
      "\tM2: -6288.607641816733\n",
      "\n",
      "BF for combined vs QUD\n",
      "Comparing M1 (10500 rows) to M2 (10 rows).\n",
      "Bayes Factor (M1 / M2): inf\n",
      "Log Bayes Factor: 1725.4235732378538\n",
      "\tM1: -4787.003665476623\n",
      "\tM2: -6512.4272387144765\n",
      "\n",
      "BF for QUD vs utility only\n",
      "Comparing M1 (10 rows) to M2 (500 rows).\n",
      "Bayes Factor (M1 / M2): 6.257258911612616e-98\n",
      "Log Bayes Factor: -223.8195968977434\n",
      "\tM1: -6512.4272387144765\n",
      "\tM2: -6288.607641816733\n"
     ]
    },
    {
     "name": "stderr",
     "output_type": "stream",
     "text": [
      "/var/folders/gv/42lb0z1j4dxf3wsk74nrxwx80000gn/T/ipykernel_20917/277710767.py:18: RuntimeWarning: overflow encountered in exp\n",
      "  bayes_factor = np.exp(log_bayes_factor)\n",
      "/var/folders/gv/42lb0z1j4dxf3wsk74nrxwx80000gn/T/ipykernel_20917/277710767.py:18: RuntimeWarning: overflow encountered in exp\n",
      "  bayes_factor = np.exp(log_bayes_factor)\n"
     ]
    }
   ],
   "source": [
    "combined[\"utilityWeight\"] = combined.utilityWeight.round(2)\n",
    "\n",
    "print(\"\\nBF for combined vs pure belief:\")\n",
    "belief_only = combined[combined.utilityWeight == 0]\n",
    "bayes_factors(combined, belief_only)\n",
    "\n",
    "print(\"\\nBF for combined vs pure utility\")\n",
    "utility_only = combined[combined.utilityWeight == 1]\n",
    "bayes_factors(combined, utility_only)\n",
    "\n",
    "print(\"\\nBF for combined vs QUD\")\n",
    "qud_raw = json.load(open(\"experiment/webppl-exp1/gridsearch/gridsearch-LH-qud-ambiguous-exp1.json\"))\n",
    "qud = pd.DataFrame.from_records(qud_raw)\n",
    "bayes_factors(combined, qud)\n",
    "\n",
    "print(\"\\nBF for QUD vs utility only\")\n",
    "bayes_factors(qud, utility_only)"
   ]
  },
  {
   "cell_type": "markdown",
   "id": "851aa4f4-943f-45e3-86ef-451f04ab3555",
   "metadata": {},
   "source": [
    "### Likelihood Ratios"
   ]
  },
  {
   "cell_type": "code",
   "execution_count": 14,
   "id": "5ea0a678-fd87-4147-8c24-95a10d7c0667",
   "metadata": {},
   "outputs": [
    {
     "name": "stdout",
     "output_type": "stream",
     "text": [
      "\n",
      "Combined vs Belief-Only\n",
      "M1 best: UW = 0.55, alphaS = 3.0, log-likelihood: -4777.744605782671\n",
      "M2 best: UW = 0.0, alphaS = 2.0, log-likelihood: -5911.112764570682\n",
      "chisq(2) = 2266.736317576022, p = 0.0\n",
      "\n",
      "Combined vs Action-Only\n",
      "M1 best: UW = 0.55, alphaS = 3.0, log-likelihood: -4777.744605782671\n",
      "M2 best: UW = 1.0, alphaS = 2.0, log-likelihood: -6282.393033718311\n",
      "chisq(1) = 3009.29685587128, p = 0.0\n"
     ]
    },
    {
     "data": {
      "text/plain": [
       "0.0"
      ]
     },
     "execution_count": 14,
     "metadata": {},
     "output_type": "execute_result"
    }
   ],
   "source": [
    "print(\"\\nCombined vs Belief-Only\") \n",
    "likelihood_ratio_test(combined, belief_only, 2)\n",
    "\n",
    "print(\"\\nCombined vs Action-Only\") \n",
    "likelihood_ratio_test(combined, utility_only, 1)"
   ]
  },
  {
   "cell_type": "markdown",
   "id": "8c1a79cf-9e6f-4bfe-83ec-cddd638c2c48",
   "metadata": {},
   "source": [
    "### Objective Manipulation Checks (joint gridsearch)"
   ]
  },
  {
   "cell_type": "code",
   "execution_count": 15,
   "id": "6ba2438a-446d-42b2-bd0d-14e437d1c1f7",
   "metadata": {},
   "outputs": [
    {
     "name": "stdout",
     "output_type": "stream",
     "text": [
      "Found existing gridsearch-LH-original-alphaS-1-ALL-exp1.json\n",
      "Found existing gridsearch-LH-original-alphaS-2-ALL-exp1.json\n",
      "Found existing gridsearch-LH-original-alphaS-3-ALL-exp1.json\n",
      "Found existing gridsearch-LH-original-alphaS-4-ALL-exp1.json\n",
      "Found existing gridsearch-LH-original-alphaS-5-ALL-exp1.json\n",
      "Found existing gridsearch-LH-original-alphaS-6-ALL-exp1.json\n",
      "Found existing gridsearch-LH-original-alphaS-7-ALL-exp1.json\n",
      "Found existing gridsearch-LH-original-alphaS-8-ALL-exp1.json\n",
      "Found existing gridsearch-LH-original-alphaS-9-ALL-exp1.json\n",
      "Found existing gridsearch-LH-original-alphaS-10-ALL-exp1.json\n"
     ]
    }
   ],
   "source": [
    "output_dir = \"experiment/webppl-exp1/gridsearch/cross-condition/\"\n",
    "\n",
    "for alphaS in range(1, 11):\n",
    "    grid_search_likelihoods(output_dir, [\"ALL-exp1.json\"], input_type='select', \n",
    "                            params=f'byObjective {alphaS}', output_fname_extension=f'-alphaS-{alphaS}')"
   ]
  },
  {
   "cell_type": "code",
   "execution_count": 16,
   "id": "9d6183b9-547b-4eba-95a2-876f122620c1",
   "metadata": {},
   "outputs": [],
   "source": [
    "outputs = [o for o in os.listdir(output_dir) if \"json\" in o]\n",
    "\n",
    "results = []\n",
    "for file in outputs:\n",
    "    results.append(pd.read_json(open(output_dir + file)))\n",
    "\n",
    "df = pd.concat(results)"
   ]
  },
  {
   "cell_type": "code",
   "execution_count": 17,
   "id": "a235f08d-14d8-4253-959a-25977fae5e26",
   "metadata": {},
   "outputs": [
    {
     "data": {
      "text/plain": [
       "utilityWeight-belief           0.300000\n",
       "utilityWeight-utility          0.800000\n",
       "utilityWeight-ambiguous        0.600000\n",
       "alphaS                         3.000000\n",
       "alphaL                         2.000000\n",
       "falsePenalty                  -1.000000\n",
       "sigmaGaussian                 30.000000\n",
       "likelihood                -14066.282009\n",
       "Name: 8738, dtype: float64"
      ]
     },
     "execution_count": 17,
     "metadata": {},
     "output_type": "execute_result"
    }
   ],
   "source": [
    "df.sort_values('likelihood', ascending=False).iloc[0]"
   ]
  },
  {
   "cell_type": "code",
   "execution_count": 18,
   "id": "e629c19d-f37f-49d7-bb29-5e37d4343ea3",
   "metadata": {},
   "outputs": [
    {
     "name": "stdout",
     "output_type": "stream",
     "text": [
      "Exp 1: Objective Comparisons (Belief - Ambiguous - Utility)\n",
      "\n",
      "BF for ordinal-vs-single:\n",
      "Comparing M1 (16500 rows) to M2 (1100 rows).\n",
      "Bayes Factor (M1 / M2): inf\n",
      "Log Bayes Factor: 1019.3971534525499\n",
      "\tM1: -14075.99312464596\n",
      "\tM2: -15095.39027809851\n",
      "\n",
      "BF for ordinal-vs-independent:\n",
      "Comparing M1 (16500 rows) to M2 (133100 rows).\n",
      "Bayes Factor (M1 / M2): 8.066666666660733\n",
      "Log Bayes Factor: 2.0877403444937954\n",
      "\tM1: -14075.99312464596\n",
      "\tM2: -14078.080864990454\n"
     ]
    },
    {
     "name": "stderr",
     "output_type": "stream",
     "text": [
      "/var/folders/gv/42lb0z1j4dxf3wsk74nrxwx80000gn/T/ipykernel_20917/277710767.py:18: RuntimeWarning: overflow encountered in exp\n",
      "  bayes_factor = np.exp(log_bayes_factor)\n"
     ]
    }
   ],
   "source": [
    "ordinal_model = df[(df[\"utilityWeight-utility\"] > df[\"utilityWeight-ambiguous\"]) &\n",
    "                   (df[\"utilityWeight-ambiguous\"] > df[\"utilityWeight-belief\"])]\n",
    "\n",
    "single_param_model = df[(df[\"utilityWeight-utility\"] == df[\"utilityWeight-ambiguous\"]) & \n",
    "                        (df[\"utilityWeight-ambiguous\"] == df[\"utilityWeight-belief\"])]\n",
    "\n",
    "print(\"Exp 1: Objective Comparisons (Belief - Ambiguous - Utility)\")\n",
    "\n",
    "print(\"\\nBF for ordinal-vs-single:\")\n",
    "bayes_factors(ordinal_model, single_param_model)\n",
    "\n",
    "print(\"\\nBF for ordinal-vs-independent:\")\n",
    "bayes_factors(ordinal_model, df)"
   ]
  },
  {
   "cell_type": "code",
   "execution_count": 19,
   "id": "c96277da-6ce7-4201-a327-726e00e26f3e",
   "metadata": {},
   "outputs": [
    {
     "data": {
      "text/plain": [
       "16500"
      ]
     },
     "execution_count": 19,
     "metadata": {},
     "output_type": "execute_result"
    }
   ],
   "source": [
    "len(ordinal_model)"
   ]
  },
  {
   "cell_type": "markdown",
   "id": "2c764836-756f-4ce8-a0f6-fb01c791b77f",
   "metadata": {},
   "source": [
    "## Individual Participants"
   ]
  },
  {
   "cell_type": "code",
   "execution_count": 20,
   "id": "44b6bb0f-e3e8-4bb9-978a-fec1a19dc67b",
   "metadata": {},
   "outputs": [],
   "source": [
    "exp1_worker_input_files = os.listdir(\"experiment/webppl-input/select/participants/\")"
   ]
  },
  {
   "cell_type": "code",
   "execution_count": 22,
   "id": "94ad9702-ac43-4185-9fdc-f491365b19f5",
   "metadata": {},
   "outputs": [
    {
     "name": "stdout",
     "output_type": "stream",
     "text": [
      "Found existing gridsearch-LH-original-Waa8a33b5ee.json\n",
      "Found existing gridsearch-LH-original-Wf04d15855b.json\n",
      "Found existing gridsearch-LH-original-W88c35993e1.json\n",
      "Found existing gridsearch-LH-original-W0e8679fbe6.json\n",
      "Found existing gridsearch-LH-original-Wf079dbc595.json\n",
      "Found existing gridsearch-LH-original-W558ac13f51.json\n",
      "Found existing gridsearch-LH-original-Wff0e2d2450.json\n",
      "Found existing gridsearch-LH-original-Wf39cba4836.json\n",
      "Found existing gridsearch-LH-original-W6813913920.json\n",
      "Found existing gridsearch-LH-original-W98000b74c5.json\n",
      "Found existing gridsearch-LH-original-Wb437f29e48.json\n",
      "Found existing gridsearch-LH-original-Wea9c1e333d.json\n",
      "Found existing gridsearch-LH-original-W494fd8d3db.json\n",
      "Found existing gridsearch-LH-original-W4609343ccc.json\n",
      "Found existing gridsearch-LH-original-Wba724ed740.json\n",
      "Found existing gridsearch-LH-original-Wb8d8313695.json\n",
      "Found existing gridsearch-LH-original-W118b9eeebd.json\n",
      "Found existing gridsearch-LH-original-Wdd8db04235.json\n",
      "Found existing gridsearch-LH-original-Wf2fa38c97c.json\n",
      "Found existing gridsearch-LH-original-Wccaa006a85.json\n",
      "Found existing gridsearch-LH-original-W24807aaa24.json\n",
      "Found existing gridsearch-LH-original-Wf9eb83f1a7.json\n",
      "Found existing gridsearch-LH-original-W9f05d28f01.json\n",
      "Found existing gridsearch-LH-original-Wf85c11eed1.json\n",
      "Found existing gridsearch-LH-original-W2676b8fb77.json\n",
      "Found existing gridsearch-LH-original-W7d0630483a.json\n",
      "Found existing gridsearch-LH-original-W379f8e864c.json\n",
      "Found existing gridsearch-LH-original-W88d31a2a8a.json\n",
      "Found existing gridsearch-LH-original-Wd3faf2de37.json\n",
      "Found existing gridsearch-LH-original-Wddf00a8e81.json\n",
      "Found existing gridsearch-LH-original-W7f26927235.json\n",
      "Found existing gridsearch-LH-original-Wc5acdf6463.json\n",
      "Found existing gridsearch-LH-original-W7afd994104.json\n",
      "Found existing gridsearch-LH-original-W37c92bd4fc.json\n",
      "Found existing gridsearch-LH-original-W2a73c2fc6c.json\n",
      "Found existing gridsearch-LH-original-Wdf0d7fe897.json\n",
      "Found existing gridsearch-LH-original-Wf32e3cf182.json\n",
      "Found existing gridsearch-LH-original-W7419cce490.json\n",
      "Found existing gridsearch-LH-original-Wee2c60ab56.json\n",
      "Found existing gridsearch-LH-original-W9456eb27ae.json\n",
      "Found existing gridsearch-LH-original-W77d0540de4.json\n",
      "Found existing gridsearch-LH-original-W264000627b.json\n",
      "Found existing gridsearch-LH-original-Wd54fae3287.json\n",
      "Found existing gridsearch-LH-original-Wfa68c19691.json\n",
      "Found existing gridsearch-LH-original-W3220bd32bf.json\n",
      "Found existing gridsearch-LH-original-Wb9ff1be59c.json\n",
      "Found existing gridsearch-LH-original-W2ddb97b6ed.json\n",
      "Found existing gridsearch-LH-original-Wa23a753b71.json\n",
      "Found existing gridsearch-LH-original-Wf78b928edf.json\n",
      "Found existing gridsearch-LH-original-W2f4ed2de5e.json\n",
      "Found existing gridsearch-LH-original-Wd6db83508f.json\n",
      "Found existing gridsearch-LH-original-W79c1d678da.json\n",
      "Found existing gridsearch-LH-original-Wecf3eb6346.json\n",
      "Found existing gridsearch-LH-original-W2e9ec117f1.json\n",
      "Found existing gridsearch-LH-original-Wba964fb848.json\n",
      "Found existing gridsearch-LH-original-W950c789ee1.json\n",
      "Found existing gridsearch-LH-original-W7500356579.json\n",
      "Found existing gridsearch-LH-original-We367ea7145.json\n",
      "Found existing gridsearch-LH-original-W9bd434fe47.json\n",
      "Found existing gridsearch-LH-original-W692e86e456.json\n",
      "Found existing gridsearch-LH-original-Wb5d06f4a8e.json\n",
      "Found existing gridsearch-LH-original-W2a39d6bbb7.json\n",
      "Found existing gridsearch-LH-original-W4c72d480ab.json\n",
      "Found existing gridsearch-LH-original-W28a33cecae.json\n",
      "Found existing gridsearch-LH-original-W488a501189.json\n",
      "Found existing gridsearch-LH-original-W0c6f8229de.json\n",
      "Found existing gridsearch-LH-original-W8ae8a84d7a.json\n",
      "Found existing gridsearch-LH-original-W0dc6f8afdd.json\n",
      "Found existing gridsearch-LH-original-Wbb6b79574c.json\n",
      "Found existing gridsearch-LH-original-W979d8b0f69.json\n",
      "Found existing gridsearch-LH-original-W367a8268a4.json\n",
      "Found existing gridsearch-LH-original-W3792ef8542.json\n",
      "Found existing gridsearch-LH-original-W2ea977d8c2.json\n",
      "Found existing gridsearch-LH-original-W575e8f2ff4.json\n",
      "Found existing gridsearch-LH-original-Wc1610d965f.json\n",
      "Found existing gridsearch-LH-original-We26de77069.json\n",
      "Found existing gridsearch-LH-original-W8a5a99e0c2.json\n",
      "Found existing gridsearch-LH-original-Wb68b420714.json\n",
      "Found existing gridsearch-LH-original-W056140a3cc.json\n",
      "Found existing gridsearch-LH-original-W7d3b8686e0.json\n",
      "Found existing gridsearch-LH-original-We5513c2287.json\n",
      "Found existing gridsearch-LH-original-Wdc87e22956.json\n",
      "Found existing gridsearch-LH-original-W69dc25b574.json\n",
      "Found existing gridsearch-LH-original-Wb14578498b.json\n",
      "Found existing gridsearch-LH-original-W25d992ad6b.json\n",
      "Found existing gridsearch-LH-original-We4e29ab129.json\n",
      "Found existing gridsearch-LH-original-W1f03f153f4.json\n",
      "Found existing gridsearch-LH-original-Wedeb9a8e37.json\n",
      "Found existing gridsearch-LH-original-Wbb27ca7520.json\n",
      "Found existing gridsearch-LH-original-Wd9379cdbc4.json\n",
      "Found existing gridsearch-LH-original-W96444c488b.json\n",
      "Found existing gridsearch-LH-original-Wb9fc4c76e4.json\n",
      "Found existing gridsearch-LH-original-W236762b859.json\n",
      "Found existing gridsearch-LH-original-W1610960e1a.json\n",
      "Found existing gridsearch-LH-original-Wb96aacb434.json\n",
      "Found existing gridsearch-LH-original-W038734eafb.json\n",
      "Found existing gridsearch-LH-original-W772c01d4f9.json\n",
      "Found existing gridsearch-LH-original-W3d10f64d3c.json\n",
      "Found existing gridsearch-LH-original-W1405ec04af.json\n",
      "Found existing gridsearch-LH-original-W2209fd8462.json\n",
      "Found existing gridsearch-LH-original-W2e34630ed0.json\n",
      "Found existing gridsearch-LH-original-We18b57a971.json\n",
      "Found existing gridsearch-LH-original-Wfc30e8a18b.json\n",
      "Found existing gridsearch-LH-original-W8429a77ffa.json\n",
      "Found existing gridsearch-LH-original-Wae33fc149d.json\n",
      "Found existing gridsearch-LH-original-Wb9185df0ac.json\n",
      "Found existing gridsearch-LH-original-Wa2ffbc81d4.json\n",
      "Found existing gridsearch-LH-original-W34c4ba1fc7.json\n",
      "Found existing gridsearch-LH-original-W08fa103143.json\n",
      "Found existing gridsearch-LH-original-W042ceaf662.json\n",
      "Found existing gridsearch-LH-original-W1445482086.json\n",
      "Found existing gridsearch-LH-original-W28e2fde14e.json\n",
      "Found existing gridsearch-LH-original-Wcfcdb2d5e8.json\n",
      "Found existing gridsearch-LH-original-W5474cf9ef6.json\n",
      "Found existing gridsearch-LH-original-W56295ef642.json\n",
      "Found existing gridsearch-LH-original-W9a68f0ae49.json\n",
      "Found existing gridsearch-LH-original-Wa4a71ef55d.json\n",
      "Found existing gridsearch-LH-original-We2a740748e.json\n",
      "Found existing gridsearch-LH-original-W990d59fe40.json\n",
      "Found existing gridsearch-LH-original-Wb6c34c92d8.json\n",
      "Found existing gridsearch-LH-original-W8ea222d8dd.json\n",
      "Found existing gridsearch-LH-original-W55e957831e.json\n",
      "Found existing gridsearch-LH-original-Wde855c72d8.json\n",
      "Found existing gridsearch-LH-original-W0f921d903c.json\n",
      "Found existing gridsearch-LH-original-Wb4856a0b26.json\n",
      "Found existing gridsearch-LH-original-W152f430dbc.json\n",
      "Found existing gridsearch-LH-original-Wc50e068f6f.json\n",
      "Found existing gridsearch-LH-original-W70c29348f0.json\n",
      "Found existing gridsearch-LH-original-Wd2005e9241.json\n",
      "Found existing gridsearch-LH-original-W10c3b4768a.json\n",
      "Found existing gridsearch-LH-original-W5a47469c0c.json\n",
      "Found existing gridsearch-LH-original-W774d312074.json\n",
      "Found existing gridsearch-LH-original-W63b7a16a45.json\n",
      "Found existing gridsearch-LH-original-Wbd63cfc9fd.json\n",
      "Found existing gridsearch-LH-original-We9b2b0885b.json\n",
      "Found existing gridsearch-LH-original-W1c6a446e55.json\n",
      "Found existing gridsearch-LH-original-W615e213a8f.json\n",
      "Found existing gridsearch-LH-original-W6a58d7014f.json\n",
      "Found existing gridsearch-LH-original-Wb9ed00ba66.json\n",
      "Found existing gridsearch-LH-original-W961af26a9a.json\n",
      "Found existing gridsearch-LH-original-W235d15a37b.json\n",
      "Found existing gridsearch-LH-original-W8d62a09c1a.json\n",
      "Found existing gridsearch-LH-original-We1b26ea1de.json\n",
      "Found existing gridsearch-LH-original-Wee04753a8a.json\n",
      "Found existing gridsearch-LH-original-W11f0e66f12.json\n",
      "Found existing gridsearch-LH-original-W2feaf8f9cc.json\n",
      "Found existing gridsearch-LH-original-W4b13b4578c.json\n",
      "Found existing gridsearch-LH-original-W93bf8105c8.json\n",
      "Found existing gridsearch-LH-original-W3de40218a1.json\n",
      "Found existing gridsearch-LH-original-W145276158d.json\n",
      "Found existing gridsearch-LH-original-W69d65598a8.json\n",
      "Found existing gridsearch-LH-original-W2d1bc625d1.json\n",
      "Found existing gridsearch-LH-original-W47adb41486.json\n",
      "Found existing gridsearch-LH-original-W0bf9239c8f.json\n",
      "Found existing gridsearch-LH-original-W8f15ff4bfa.json\n",
      "Found existing gridsearch-LH-original-Wf351f2c348.json\n",
      "Found existing gridsearch-LH-original-W16bcbffe61.json\n",
      "Found existing gridsearch-LH-original-Wcc6a311d5a.json\n",
      "Found existing gridsearch-LH-original-W4480c8411d.json\n",
      "Found existing gridsearch-LH-original-W02a13d1d06.json\n",
      "Found existing gridsearch-LH-original-W86f6eaaebf.json\n",
      "Found existing gridsearch-LH-original-W93e681a1fb.json\n",
      "Found existing gridsearch-LH-original-W9c4e51b086.json\n",
      "Found existing gridsearch-LH-original-W6671a4c72a.json\n",
      "Found existing gridsearch-LH-original-Weea796957a.json\n",
      "Found existing gridsearch-LH-original-W24555b6356.json\n",
      "Found existing gridsearch-LH-original-Wfbcc364b19.json\n",
      "Found existing gridsearch-LH-original-Wba784ae956.json\n",
      "Found existing gridsearch-LH-original-W67dc2647b0.json\n",
      "Found existing gridsearch-LH-original-W1a5e528252.json\n",
      "Found existing gridsearch-LH-original-W9459edd058.json\n",
      "Found existing gridsearch-LH-original-We7bc899d73.json\n",
      "Found existing gridsearch-LH-original-W7a4bdd800f.json\n",
      "Found existing gridsearch-LH-original-W1cbc25c6e0.json\n",
      "Found existing gridsearch-LH-original-W9f75e9e383.json\n",
      "Found existing gridsearch-LH-original-W770a390ea4.json\n",
      "Found existing gridsearch-LH-original-We0159ad9ce.json\n",
      "Found existing gridsearch-LH-original-W5b442f79f0.json\n",
      "Found existing gridsearch-LH-original-Wc53ce3c42c.json\n",
      "Found existing gridsearch-LH-original-W802c1eb605.json\n",
      "Found existing gridsearch-LH-original-W3f511d289c.json\n",
      "Found existing gridsearch-LH-original-W7e6a93370c.json\n",
      "Found existing gridsearch-LH-original-W7bd8ac68a6.json\n",
      "Found existing gridsearch-LH-original-Wdad5225ce9.json\n",
      "Found existing gridsearch-LH-original-W077cb8d75f.json\n",
      "Found existing gridsearch-LH-original-W9bae0ba35a.json\n",
      "Found existing gridsearch-LH-original-W55d52be798.json\n",
      "Found existing gridsearch-LH-original-W4ce79f0a17.json\n",
      "Found existing gridsearch-LH-original-W3af1f1c5bc.json\n",
      "Found existing gridsearch-LH-original-W506ef2bbd8.json\n",
      "Found existing gridsearch-LH-original-W75b7718dfc.json\n",
      "Found existing gridsearch-LH-original-Wedcd837ffb.json\n",
      "Found existing gridsearch-LH-original-Wc36bd8c400.json\n",
      "Found existing gridsearch-LH-original-W8f594c9db5.json\n",
      "Found existing gridsearch-LH-original-W76a268af06.json\n",
      "Found existing gridsearch-LH-original-W9c03922091.json\n",
      "Found existing gridsearch-LH-original-W1f40791c7d.json\n",
      "Found existing gridsearch-LH-original-Wc34a8bcc3a.json\n",
      "Found existing gridsearch-LH-original-Wccbbdd3340.json\n",
      "Found existing gridsearch-LH-original-Wf12cfa8f1d.json\n",
      "Found existing gridsearch-LH-original-W74d6911315.json\n",
      "Found existing gridsearch-LH-original-Wbb88e105e1.json\n",
      "Found existing gridsearch-LH-original-W467bce23ba.json\n",
      "Found existing gridsearch-LH-original-Wa1100486e7.json\n",
      "Found existing gridsearch-LH-original-W08b305500d.json\n",
      "Found existing gridsearch-LH-original-W57689ce92c.json\n",
      "Found existing gridsearch-LH-original-Wb62bf157e7.json\n",
      "Found existing gridsearch-LH-original-W065d73c93c.json\n",
      "Found existing gridsearch-LH-original-W8adffb89ef.json\n",
      "Found existing gridsearch-LH-original-W123558573b.json\n",
      "Found existing gridsearch-LH-original-W38ddf6b417.json\n",
      "Found existing gridsearch-LH-original-Wdc7866a57d.json\n",
      "Found existing gridsearch-LH-original-Webde5e72aa.json\n",
      "Found existing gridsearch-LH-original-W85064ac226.json\n",
      "Found existing gridsearch-LH-original-Wd6b16473de.json\n",
      "Found existing gridsearch-LH-original-W9dfa3a59c7.json\n",
      "Found existing gridsearch-LH-original-W0748a31ee3.json\n",
      "Found existing gridsearch-LH-original-Wd8a3b65952.json\n",
      "Found existing gridsearch-LH-original-Wd8d40a80b0.json\n",
      "Found existing gridsearch-LH-original-W7594a12e17.json\n",
      "Found existing gridsearch-LH-original-W99f7d6bdbb.json\n",
      "Found existing gridsearch-LH-original-Wafcfb56c9c.json\n",
      "Found existing gridsearch-LH-original-Wd9102c1f63.json\n",
      "Found existing gridsearch-LH-original-W9b98765cf2.json\n",
      "Found existing gridsearch-LH-original-W6976af205f.json\n",
      "Found existing gridsearch-LH-original-W3858215e18.json\n",
      "Found existing gridsearch-LH-original-Wf15858da91.json\n",
      "Found existing gridsearch-LH-original-W61e7c6221f.json\n",
      "Found existing gridsearch-LH-original-W4201f43e68.json\n",
      "Found existing gridsearch-LH-original-W043fbefc05.json\n",
      "Found existing gridsearch-LH-original-Wcd9d6a8bd2.json\n",
      "Found existing gridsearch-LH-original-Wf7e5d841c3.json\n",
      "Found existing gridsearch-LH-original-W3d08192832.json\n",
      "Found existing gridsearch-LH-original-W2164f092e7.json\n",
      "Found existing gridsearch-LH-original-Wf4515c7464.json\n",
      "Found existing gridsearch-LH-original-Wdfdaf0b4d4.json\n",
      "Found existing gridsearch-LH-original-W4b16c61e61.json\n",
      "Found existing gridsearch-LH-original-Wadd4b3e33e.json\n",
      "Found existing gridsearch-LH-original-Wf284ef4ea9.json\n",
      "Found existing gridsearch-LH-original-W77c0633fc6.json\n",
      "Found existing gridsearch-LH-original-W90439df52f.json\n",
      "Found existing gridsearch-LH-original-W461f397b44.json\n",
      "Found existing gridsearch-LH-original-Wcc2acee781.json\n",
      "Found existing gridsearch-LH-original-W74bb081eea.json\n",
      "Found existing gridsearch-LH-original-W6701eb4cfc.json\n",
      "Found existing gridsearch-LH-original-W5b3c55b1f9.json\n",
      "Found existing gridsearch-LH-original-Wb829cb25fb.json\n",
      "Found existing gridsearch-LH-original-Wef68dac0e1.json\n",
      "Found existing gridsearch-LH-original-Wd1516d6c6e.json\n",
      "Found existing gridsearch-LH-original-Wb50a0a1055.json\n",
      "Found existing gridsearch-LH-original-W9fb08d4fc1.json\n",
      "Found existing gridsearch-LH-original-W11bf41b0d1.json\n",
      "Found existing gridsearch-LH-original-W296b45f3e2.json\n",
      "Found existing gridsearch-LH-original-Wce4707dd78.json\n",
      "Found existing gridsearch-LH-original-W8d2768d65f.json\n",
      "Found existing gridsearch-LH-original-Wc3e73369cc.json\n",
      "Found existing gridsearch-LH-original-W5b91a4527a.json\n",
      "Found existing gridsearch-LH-original-W536e22373b.json\n",
      "Found existing gridsearch-LH-original-W06a682ae6c.json\n",
      "Found existing gridsearch-LH-original-W37159b31cb.json\n",
      "Found existing gridsearch-LH-original-W31761a917b.json\n",
      "Found existing gridsearch-LH-original-W712172b8fe.json\n",
      "Found existing gridsearch-LH-original-Wd12fa68a66.json\n",
      "Found existing gridsearch-LH-original-W4fc0f2a454.json\n",
      "Found existing gridsearch-LH-original-W5465802164.json\n",
      "Found existing gridsearch-LH-original-W3033b60d1d.json\n",
      "Found existing gridsearch-LH-original-W5fce80e5e7.json\n",
      "Found existing gridsearch-LH-original-W6e747cc26c.json\n",
      "Found existing gridsearch-LH-original-Wf617cde016.json\n",
      "Found existing gridsearch-LH-original-W88afbb733f.json\n",
      "Found existing gridsearch-LH-original-W06eba57c95.json\n",
      "Found existing gridsearch-LH-original-Wf91021b5ea.json\n",
      "Found existing gridsearch-LH-original-We1579757ed.json\n"
     ]
    }
   ],
   "source": [
    "output_dir = \"experiment/webppl-exp1/gridsearch/participants/\"\n",
    "\n",
    "grid_search_likelihoods(output_dir, exp1_worker_input_files, input_type=\"select/participants\")"
   ]
  },
  {
   "cell_type": "code",
   "execution_count": 23,
   "id": "9914e7cc-a432-4431-86f3-af8b015b808b",
   "metadata": {},
   "outputs": [],
   "source": [
    "participants = mles_from_participant_gridsearch(\"exp1\")"
   ]
  },
  {
   "cell_type": "code",
   "execution_count": 24,
   "id": "2770f410-afc0-4251-b5b9-c59d7ac1b818",
   "metadata": {},
   "outputs": [],
   "source": [
    "participants.to_json(\"experiment/webppl-exp1/participant_maximum_likelihood_params.json\", orient='records')"
   ]
  },
  {
   "cell_type": "markdown",
   "id": "afac4a9a-102f-4d9f-af64-3aab540dd7b5",
   "metadata": {},
   "source": [
    "# Exp 2"
   ]
  },
  {
   "cell_type": "code",
   "execution_count": 26,
   "id": "60f9986e-7728-425d-860f-d36fdf9ab014",
   "metadata": {},
   "outputs": [],
   "source": [
    "objectives = [\"belief\", \"utility\", \"ambiguous\"]\n",
    "horizons = [\"ambiguous\"]#, 1, 2, 4]\n",
    "\n",
    "models = [\"combined\", \"belief\", \"utility\"]\n",
    "\n",
    "input_string = \"O-{}-H-{}.json\"\n",
    "\n",
    "slider_input_files = []\n",
    "\n",
    "for o in objectives:\n",
    "    for h in horizons:\n",
    "        slider_input_files.append(input_string.format(o, h))\n",
    "        \n",
    "exp2_possible_condition_files = os.listdir(\"experiment/webppl-input/slider/\")\n",
    "\n",
    "slider_input_files = [s for s in slider_input_files if s in exp2_possible_condition_files]"
   ]
  },
  {
   "cell_type": "code",
   "execution_count": 27,
   "id": "401debb1-54aa-4089-bc18-b2d4b22ff2fa",
   "metadata": {},
   "outputs": [
    {
     "data": {
      "text/plain": [
       "['O-belief-H-ambiguous.json',\n",
       " 'O-utility-H-ambiguous.json',\n",
       " 'O-ambiguous-H-ambiguous.json']"
      ]
     },
     "execution_count": 27,
     "metadata": {},
     "output_type": "execute_result"
    }
   ],
   "source": [
    "slider_input_files"
   ]
  },
  {
   "cell_type": "code",
   "execution_count": 28,
   "id": "ac4608bb-7ab8-4008-8df7-87145ea898de",
   "metadata": {},
   "outputs": [],
   "source": [
    "results_file_string = \"webppl-exp2/gridsearch/gridsearch-LH-original-{}\""
   ]
  },
  {
   "cell_type": "markdown",
   "id": "60bddfc7-57e8-4077-b65a-9af0be8e35df",
   "metadata": {},
   "source": [
    "## Grid Search Parameters\n",
    "\n",
    "1. Show likelihood surface plots.  \n",
    "2. Show Bayes' Factor with sigmaGaussian restrictions --> belief speaker\n",
    "3. Show unconstrained Bayes' Factor --> belief speaker\n",
    "4. Show both for \"ambiguous\" data\n",
    "\n"
   ]
  },
  {
   "cell_type": "code",
   "execution_count": 31,
   "id": "5990f40f-1ea0-41f1-9a29-902bc18fc31c",
   "metadata": {},
   "outputs": [
    {
     "name": "stdout",
     "output_type": "stream",
     "text": [
      "Found existing gridsearch-LH-original-O-belief-H-ambiguous.json\n",
      "Found existing gridsearch-LH-original-O-utility-H-ambiguous.json\n",
      "Found existing gridsearch-LH-original-O-ambiguous-H-ambiguous.json\n"
     ]
    }
   ],
   "source": [
    "output_dir = \"experiment/webppl-exp2/gridsearch\"\n",
    "grid_search_likelihoods(output_dir, slider_input_files, input_type='slider')"
   ]
  },
  {
   "cell_type": "code",
   "execution_count": 32,
   "id": "f1c3d89e-84fd-4627-9965-3139f071ba1b",
   "metadata": {},
   "outputs": [
    {
     "name": "stdout",
     "output_type": "stream",
     "text": [
      "\n",
      "\n",
      "O-belief-H-ambiguous.json\n",
      "\n",
      "Best parameter values from grid search:\n",
      "\tMLE: UW = 0.0, alphaS = 3.0, alphaL = 10.0, log-likelihood: -11831.63\n",
      "\tMLE: UW = 1.0, alphaS = 1.0, alphaL = 1.0, log-likelihood: -14409.67\n",
      "\tMLE: UW = 0.15, alphaS = 3.0, alphaL = 1.0, log-likelihood: -11813.26\n",
      "\n",
      "\n",
      "      utilityWeight  alphaS  alphaL  sigmaGaussian    likelihood\n",
      "1779           0.15       3       1             30 -11813.258623\n",
      "1679           0.20       3       1             30 -11813.439288\n",
      "1778           0.15       3       2             30 -11814.211355\n",
      "1877           0.10       3       3             30 -11815.761462\n",
      "1876           0.10       3       4             30 -11815.804883\n",
      "\n",
      "\n",
      "O-utility-H-ambiguous.json\n",
      "\n",
      "Best parameter values from grid search:\n",
      "\tMLE: UW = 0.0, alphaS = 1.0, alphaL = 10.0, log-likelihood: -15838.23\n",
      "\tMLE: UW = 1.0, alphaS = 4.0, alphaL = 1.0, log-likelihood: -13740.3\n",
      "\tMLE: UW = 0.9, alphaS = 3.0, alphaL = 2.0, log-likelihood: -13709.07\n",
      "\n",
      "\n",
      "     utilityWeight  alphaS  alphaL  sigmaGaussian    likelihood\n",
      "278           0.90       3       2             30 -13709.074934\n",
      "169           0.95       4       1             30 -13711.168971\n",
      "378           0.85       3       2             30 -13714.001082\n",
      "285           0.90       2       5             30 -13717.110431\n",
      "286           0.90       2       4             30 -13717.132657\n",
      "\n",
      "\n",
      "O-ambiguous-H-ambiguous.json\n",
      "\n",
      "Best parameter values from grid search:\n",
      "\tMLE: UW = 0.0, alphaS = 1.0, alphaL = 10.0, log-likelihood: -14962.06\n",
      "\tMLE: UW = 1.0, alphaS = 2.0, alphaL = 1.0, log-likelihood: -14389.72\n",
      "\tMLE: UW = 0.75, alphaS = 3.0, alphaL = 1.0, log-likelihood: -14111.55\n",
      "\n",
      "\n",
      "     utilityWeight  alphaS  alphaL  sigmaGaussian    likelihood\n",
      "579           0.75       3       1             30 -14111.545627\n",
      "479           0.80       3       1             30 -14111.819302\n",
      "788           0.65       2       2             30 -14121.176169\n",
      "688           0.70       2       2             30 -14124.191444\n",
      "887           0.60       2       3             30 -14136.988749\n"
     ]
    },
    {
     "data": {
      "image/png": "[encoded data removed]",
      "text/plain": [
       "<Figure size 432x288 with 2 Axes>"
      ]
     },
     "metadata": {
      "needs_background": "light"
     },
     "output_type": "display_data"
    },
    {
     "data": {
      "image/png": "[encoded data removed]",
      "text/plain": [
       "<Figure size 432x288 with 2 Axes>"
      ]
     },
     "metadata": {
      "needs_background": "light"
     },
     "output_type": "display_data"
    },
    {
     "data": {
      "image/png": "[encoded data removed]",
      "text/plain": [
       "<Figure size 432x288 with 2 Axes>"
      ]
     },
     "metadata": {
      "needs_background": "light"
     },
     "output_type": "display_data"
    }
   ],
   "source": [
    "for input_file in slider_input_files:\n",
    "\n",
    "    try:\n",
    "        inputs = json.load(open(\"experiment/webppl-exp2/gridsearch/gridsearch-LH-original-{}\".format(input_file)))\n",
    "    except:\n",
    "        print(\"Could not find {}\".format(input_file))\n",
    "        continue\n",
    "        \n",
    "    df = pd.DataFrame.from_records(inputs)\n",
    "    df = df[(df[\"sigmaGaussian\"] == 30) & (df.falsePenalty == -1)]\n",
    "    df = df[df.alphaS <= 10]\n",
    "\n",
    "    df.utilityWeight = df.utilityWeight.round(2)\n",
    "\n",
    "    print(\"\\n\\n\" + input_file)\n",
    "        \n",
    "    print(\"\\nBest parameter values from grid search:\")\n",
    "    \n",
    "    print_mle(df[df.utilityWeight == 0])\n",
    "    print_mle(df[df.utilityWeight == 1])\n",
    "    print_mle(df)\n",
    "    print(\"\\n\")\n",
    "    print(df.sort_values(\"likelihood\", ascending=False)[[\"utilityWeight\", \"alphaS\", \"alphaL\", \"sigmaGaussian\", \"likelihood\"]].head(5))\n",
    "  \n",
    "    plt.figure()\n",
    "    pivoted = df.pivot_table(values='likelihood', columns=\"utilityWeight\", index=\"alphaS\", aggfunc='max')\n",
    "    ax = sns.heatmap(pivoted)\n",
    "    ax.invert_yaxis()\n",
    "    plt.suptitle(input_file)"
   ]
  },
  {
   "cell_type": "markdown",
   "id": "3bdeddbb-016a-45e2-a030-a7d3b2a23cfe",
   "metadata": {},
   "source": [
    "### Bayes Factors"
   ]
  },
  {
   "cell_type": "code",
   "execution_count": 33,
   "id": "0c133a53-a582-489c-b2fc-fc1a7e78ffa6",
   "metadata": {},
   "outputs": [
    {
     "name": "stdout",
     "output_type": "stream",
     "text": [
      "Bayes factors for O-ambiguous-H-ambiguous.json\n"
     ]
    }
   ],
   "source": [
    "objective = \"ambiguous\"\n",
    "horizon = \"ambiguous\"\n",
    "\n",
    "input_file = input_string.format(objective, horizon)\n",
    "\n",
    "combined_exp2 = pd.DataFrame(json.load(open(\"experiment/webppl-exp2/gridsearch/gridsearch-LH-original-{}\".format(input_file))))\n",
    "\n",
    "print(\"Bayes factors for {}\".format(input_file))"
   ]
  },
  {
   "cell_type": "code",
   "execution_count": 34,
   "id": "cc2855b2-e12f-4b8c-aa3c-1d1a0ff4f0de",
   "metadata": {},
   "outputs": [
    {
     "name": "stdout",
     "output_type": "stream",
     "text": [
      "\n",
      "BF for combined vs pure belief:\n",
      "Comparing M1 (2100 rows) to M2 (100 rows).\n",
      "Bayes Factor (M1 / M2): inf\n",
      "Log Bayes Factor: 845.734837870581\n",
      "\tM1: -14118.629637564583\n",
      "\tM2: -14964.364475435164\n",
      "\n",
      "BF for combined vs pure utility\n",
      "Comparing M1 (2100 rows) to M2 (100 rows).\n",
      "Bayes Factor (M1 / M2): 5.4347899906855514e+119\n",
      "Log Bayes Factor: 275.7004469459498\n",
      "\tM1: -14118.629637564583\n",
      "\tM2: -14394.330084510533\n"
     ]
    },
    {
     "name": "stderr",
     "output_type": "stream",
     "text": [
      "/var/folders/gv/42lb0z1j4dxf3wsk74nrxwx80000gn/T/ipykernel_20917/277710767.py:18: RuntimeWarning: overflow encountered in exp\n",
      "  bayes_factor = np.exp(log_bayes_factor)\n"
     ]
    }
   ],
   "source": [
    "combined_exp2[\"utilityWeight\"] = combined_exp2.utilityWeight.round(2)\n",
    "\n",
    "print(\"\\nBF for combined vs pure belief:\")\n",
    "belief_only = combined_exp2[combined_exp2.utilityWeight == 0]\n",
    "bayes_factors(combined_exp2, belief_only)\n",
    "\n",
    "print(\"\\nBF for combined vs pure utility\")\n",
    "utility_only = combined_exp2[combined_exp2.utilityWeight == 1]\n",
    "bayes_factors(combined_exp2, utility_only)"
   ]
  },
  {
   "cell_type": "markdown",
   "id": "507ec2d8-9f03-4ab6-a021-e1dcdea77eb3",
   "metadata": {},
   "source": [
    "### Likelihood Ratio Tests"
   ]
  },
  {
   "cell_type": "code",
   "execution_count": 35,
   "id": "cf1b8b81-697e-4eb7-82e0-13a42a6adc3b",
   "metadata": {},
   "outputs": [
    {
     "name": "stdout",
     "output_type": "stream",
     "text": [
      "\n",
      "Combined vs Belief-Only\n",
      "M1 best: UW = 0.75, alphaS = 3.0, log-likelihood: -14111.545626707159\n",
      "M2 best: UW = 0.0, alphaS = 1.0, log-likelihood: -14962.06189034217\n",
      "chisq(2) = 1701.032527270021, p = 0.0\n",
      "\n",
      "Combined vs Action-Only\n",
      "M1 best: UW = 0.75, alphaS = 3.0, log-likelihood: -14111.545626707159\n",
      "M2 best: UW = 1.0, alphaS = 2.0, log-likelihood: -14389.724914325356\n",
      "chisq(1) = 556.3585752363942, p = 5.209019115399311e-123\n"
     ]
    },
    {
     "data": {
      "text/plain": [
       "5.209019115399311e-123"
      ]
     },
     "execution_count": 35,
     "metadata": {},
     "output_type": "execute_result"
    }
   ],
   "source": [
    "print(\"\\nCombined vs Belief-Only\") \n",
    "likelihood_ratio_test(combined_exp2, belief_only, 2)\n",
    "\n",
    "print(\"\\nCombined vs Action-Only\") \n",
    "likelihood_ratio_test(combined_exp2, utility_only, 1)"
   ]
  },
  {
   "cell_type": "markdown",
   "id": "acfdcc76-214b-4fca-ae9e-c186bfde1d63",
   "metadata": {},
   "source": [
    "## Per-Participant"
   ]
  },
  {
   "cell_type": "code",
   "execution_count": 36,
   "id": "f92b275d-11c8-4363-b521-767884a570e2",
   "metadata": {},
   "outputs": [
    {
     "name": "stdout",
     "output_type": "stream",
     "text": [
      "Found existing gridsearch-LH-original-W67f94f705a.json\n",
      "Found existing gridsearch-LH-original-Wc77ad3d1bc.json\n",
      "Found existing gridsearch-LH-original-W26172bea24.json\n",
      "Found existing gridsearch-LH-original-W70333eee51.json\n",
      "Found existing gridsearch-LH-original-W0c171e4019.json\n",
      "Found existing gridsearch-LH-original-W42ee39db4f.json\n",
      "Found existing gridsearch-LH-original-W1f755f5517.json\n",
      "Found existing gridsearch-LH-original-W52d0ff1891.json\n",
      "Found existing gridsearch-LH-original-Wb3a01ff3ab.json\n",
      "Found existing gridsearch-LH-original-Wc07caa1726.json\n",
      "Found existing gridsearch-LH-original-Wa7db587779.json\n",
      "Found existing gridsearch-LH-original-Wa50064e42e.json\n",
      "Found existing gridsearch-LH-original-Wd386a6d382.json\n",
      "Found existing gridsearch-LH-original-W8de1188687.json\n",
      "Found existing gridsearch-LH-original-Wa0da3f3630.json\n",
      "Found existing gridsearch-LH-original-Wfefcdeb75f.json\n",
      "Found existing gridsearch-LH-original-W37fbd5e228.json\n",
      "Found existing gridsearch-LH-original-Wcef2b7def4.json\n",
      "Found existing gridsearch-LH-original-W188c71aede.json\n",
      "Found existing gridsearch-LH-original-Wc60f25b5ec.json\n",
      "Found existing gridsearch-LH-original-W02b773cfa3.json\n",
      "Found existing gridsearch-LH-original-W84ff376475.json\n",
      "Found existing gridsearch-LH-original-W649f11111c.json\n",
      "Found existing gridsearch-LH-original-W432fc398f3.json\n",
      "Found existing gridsearch-LH-original-W2f311481b2.json\n",
      "Found existing gridsearch-LH-original-W7c792376f8.json\n",
      "Found existing gridsearch-LH-original-W474900fc56.json\n",
      "Found existing gridsearch-LH-original-W9cafa4661b.json\n",
      "Found existing gridsearch-LH-original-Waaedcb46c7.json\n",
      "Found existing gridsearch-LH-original-W8c6d83ec16.json\n",
      "Found existing gridsearch-LH-original-Wa4821b898a.json\n",
      "Found existing gridsearch-LH-original-Wad00440b0c.json\n",
      "Found existing gridsearch-LH-original-Waa3bc3238d.json\n",
      "Found existing gridsearch-LH-original-W302d706529.json\n",
      "Found existing gridsearch-LH-original-W8bb53b4407.json\n",
      "Found existing gridsearch-LH-original-W04bc12a898.json\n",
      "Found existing gridsearch-LH-original-W3a300707ca.json\n",
      "Found existing gridsearch-LH-original-W83fb404dfc.json\n",
      "Found existing gridsearch-LH-original-Wfb283d7860.json\n",
      "Found existing gridsearch-LH-original-Wfb3243c771.json\n",
      "Found existing gridsearch-LH-original-W79f98bb51b.json\n",
      "Found existing gridsearch-LH-original-W61c0b5581d.json\n",
      "Found existing gridsearch-LH-original-Wa3fb71b47e.json\n",
      "Found existing gridsearch-LH-original-Wc2ccb370ec.json\n",
      "Found existing gridsearch-LH-original-Wbba80377bc.json\n",
      "Found existing gridsearch-LH-original-Wf1a0b8a98f.json\n",
      "Found existing gridsearch-LH-original-Wbcb03972d3.json\n",
      "Found existing gridsearch-LH-original-Wa79120cde5.json\n",
      "Found existing gridsearch-LH-original-W20d00668b3.json\n",
      "Found existing gridsearch-LH-original-Wf444561915.json\n",
      "Found existing gridsearch-LH-original-Wc94c307428.json\n",
      "Found existing gridsearch-LH-original-W287a8111ca.json\n",
      "Found existing gridsearch-LH-original-Wa4c7e2607d.json\n",
      "Found existing gridsearch-LH-original-W0d80ce91ee.json\n",
      "Found existing gridsearch-LH-original-W1aad14b943.json\n",
      "Found existing gridsearch-LH-original-W2f737da5b4.json\n",
      "Found existing gridsearch-LH-original-W2d36b09915.json\n",
      "Found existing gridsearch-LH-original-W61121cfb69.json\n",
      "Found existing gridsearch-LH-original-Wa8d1d29cf0.json\n",
      "Found existing gridsearch-LH-original-W46c4237652.json\n",
      "Found existing gridsearch-LH-original-W1fc71d097d.json\n",
      "Found existing gridsearch-LH-original-W3271705430.json\n",
      "Found existing gridsearch-LH-original-W11c29236ac.json\n",
      "Found existing gridsearch-LH-original-W7101334dfd.json\n",
      "Found existing gridsearch-LH-original-W6579022c37.json\n",
      "Found existing gridsearch-LH-original-Wdd267739bf.json\n",
      "Found existing gridsearch-LH-original-Wdd6a637975.json\n",
      "Found existing gridsearch-LH-original-W49bf7faff2.json\n",
      "Found existing gridsearch-LH-original-Wdf087fec7f.json\n",
      "Found existing gridsearch-LH-original-W48e8ff26ba.json\n",
      "Found existing gridsearch-LH-original-W46f9dc76ce.json\n",
      "Found existing gridsearch-LH-original-W2240fc9e2a.json\n",
      "Found existing gridsearch-LH-original-Wcb1aa86736.json\n",
      "Found existing gridsearch-LH-original-W20c277481c.json\n",
      "Found existing gridsearch-LH-original-W7625c190b3.json\n",
      "Found existing gridsearch-LH-original-W6408436f22.json\n",
      "Found existing gridsearch-LH-original-W9a240e63f3.json\n",
      "Found existing gridsearch-LH-original-Waa6fe217e7.json\n",
      "Found existing gridsearch-LH-original-W2ab6199449.json\n",
      "Found existing gridsearch-LH-original-W84c238af7c.json\n",
      "Found existing gridsearch-LH-original-W442892e6b0.json\n",
      "Found existing gridsearch-LH-original-W1fc4375177.json\n",
      "Found existing gridsearch-LH-original-W60e1b0c3d7.json\n",
      "Found existing gridsearch-LH-original-Wffeb261eed.json\n",
      "Found existing gridsearch-LH-original-Wdeb78905e7.json\n",
      "Found existing gridsearch-LH-original-Wf9916a22ba.json\n",
      "Found existing gridsearch-LH-original-We38c26b94a.json\n",
      "Found existing gridsearch-LH-original-W27b7c32ad4.json\n",
      "Found existing gridsearch-LH-original-Wbd43551442.json\n",
      "Found existing gridsearch-LH-original-Wc561805510.json\n",
      "Found existing gridsearch-LH-original-Wd6611a5bf9.json\n",
      "Found existing gridsearch-LH-original-Wa994d3eea2.json\n",
      "Found existing gridsearch-LH-original-W65328ac968.json\n",
      "Found existing gridsearch-LH-original-W720d28078b.json\n",
      "Found existing gridsearch-LH-original-W668abb6e62.json\n",
      "Found existing gridsearch-LH-original-W92d6f3f9e1.json\n",
      "Found existing gridsearch-LH-original-W409a814cfa.json\n",
      "Found existing gridsearch-LH-original-Wd67ee6d1b5.json\n",
      "Found existing gridsearch-LH-original-W351e462aea.json\n",
      "Found existing gridsearch-LH-original-W2304446436.json\n",
      "Found existing gridsearch-LH-original-W64448c3a06.json\n",
      "Found existing gridsearch-LH-original-W52cd135ace.json\n",
      "Found existing gridsearch-LH-original-We8e30633f4.json\n",
      "Found existing gridsearch-LH-original-Web39017634.json\n",
      "Found existing gridsearch-LH-original-Wc920f703eb.json\n",
      "Found existing gridsearch-LH-original-Wa9728d8a77.json\n",
      "Found existing gridsearch-LH-original-W20d327e401.json\n",
      "Found existing gridsearch-LH-original-W2c66d73713.json\n",
      "Found existing gridsearch-LH-original-W9d4f90ec79.json\n",
      "Found existing gridsearch-LH-original-W0e595e8e50.json\n",
      "Found existing gridsearch-LH-original-W51fd1a6735.json\n",
      "Found existing gridsearch-LH-original-Wa9e82a7d08.json\n",
      "Found existing gridsearch-LH-original-W4a15d8aa06.json\n",
      "Found existing gridsearch-LH-original-W5d5a371da6.json\n",
      "Found existing gridsearch-LH-original-W45aadc4d0d.json\n",
      "Found existing gridsearch-LH-original-Wc34b2f77e4.json\n",
      "Found existing gridsearch-LH-original-W015d392c3d.json\n",
      "Found existing gridsearch-LH-original-W230d2b196f.json\n",
      "Found existing gridsearch-LH-original-W400d884abb.json\n",
      "Found existing gridsearch-LH-original-W6ec52b8328.json\n",
      "Found existing gridsearch-LH-original-W88de141bae.json\n",
      "Found existing gridsearch-LH-original-W763ad5015b.json\n",
      "Found existing gridsearch-LH-original-W7f24e00fb0.json\n",
      "Found existing gridsearch-LH-original-W2eb8ab5b14.json\n",
      "Found existing gridsearch-LH-original-W9d8996ec5a.json\n",
      "Found existing gridsearch-LH-original-We3edb78c37.json\n",
      "Found existing gridsearch-LH-original-W6ebd57c757.json\n",
      "Found existing gridsearch-LH-original-Wc01c84beba.json\n",
      "Found existing gridsearch-LH-original-W12b3cd90de.json\n",
      "Found existing gridsearch-LH-original-W620a56f5d7.json\n",
      "Found existing gridsearch-LH-original-Wfb26b7fb9f.json\n",
      "Found existing gridsearch-LH-original-W697b8d0f54.json\n",
      "Found existing gridsearch-LH-original-W8f5e22d44d.json\n",
      "Found existing gridsearch-LH-original-W2559aebb2b.json\n",
      "Found existing gridsearch-LH-original-W0971403e0c.json\n",
      "Found existing gridsearch-LH-original-W121663531b.json\n",
      "Found existing gridsearch-LH-original-W1071a19392.json\n",
      "Found existing gridsearch-LH-original-W3ffe6059b8.json\n",
      "Found existing gridsearch-LH-original-W6fe487c1c7.json\n",
      "Found existing gridsearch-LH-original-We094d59d4e.json\n",
      "Found existing gridsearch-LH-original-W74485678eb.json\n",
      "Found existing gridsearch-LH-original-W1628c7ed8d.json\n",
      "Found existing gridsearch-LH-original-W993099cdaf.json\n",
      "Found existing gridsearch-LH-original-Wf6b95a4adf.json\n",
      "Found existing gridsearch-LH-original-W4958aaaf93.json\n",
      "Found existing gridsearch-LH-original-Wab66df44b6.json\n",
      "Found existing gridsearch-LH-original-Wd7cee80d72.json\n",
      "Found existing gridsearch-LH-original-Wcdc93677fa.json\n",
      "Found existing gridsearch-LH-original-W043af515da.json\n",
      "Found existing gridsearch-LH-original-Wcc1bf14940.json\n",
      "Found existing gridsearch-LH-original-W628571475d.json\n",
      "Found existing gridsearch-LH-original-W735759d8cd.json\n",
      "Found existing gridsearch-LH-original-W9ed8295732.json\n",
      "Found existing gridsearch-LH-original-Wb4888de986.json\n",
      "Found existing gridsearch-LH-original-W53f43fb1ea.json\n",
      "Found existing gridsearch-LH-original-W58c3782c0f.json\n",
      "Found existing gridsearch-LH-original-W651a25e129.json\n",
      "Found existing gridsearch-LH-original-W4f78ceb579.json\n",
      "Found existing gridsearch-LH-original-W8ce24c9600.json\n",
      "Found existing gridsearch-LH-original-W96689ec551.json\n",
      "Found existing gridsearch-LH-original-Wde9d74d302.json\n",
      "Found existing gridsearch-LH-original-W003651e3ab.json\n",
      "Found existing gridsearch-LH-original-W67320e1e26.json\n",
      "Found existing gridsearch-LH-original-Weab83fed2e.json\n",
      "Found existing gridsearch-LH-original-W6fb878cac7.json\n",
      "Found existing gridsearch-LH-original-Wfa67939011.json\n",
      "Found existing gridsearch-LH-original-W548d3b818a.json\n",
      "Found existing gridsearch-LH-original-W2d2a2a489d.json\n",
      "Found existing gridsearch-LH-original-W28a88f598c.json\n",
      "Found existing gridsearch-LH-original-W1bca0bd689.json\n",
      "Found existing gridsearch-LH-original-W61cb31cb07.json\n",
      "Found existing gridsearch-LH-original-W8c66a09ef9.json\n",
      "Found existing gridsearch-LH-original-W7abf294121.json\n",
      "Found existing gridsearch-LH-original-W367f698b6f.json\n",
      "Found existing gridsearch-LH-original-W11b3efc62f.json\n",
      "Found existing gridsearch-LH-original-Wc908c10296.json\n",
      "Found existing gridsearch-LH-original-W7d67bbb81f.json\n",
      "Found existing gridsearch-LH-original-W2d1206f563.json\n",
      "Found existing gridsearch-LH-original-W7481a7cd19.json\n",
      "Found existing gridsearch-LH-original-W15320b82ed.json\n",
      "Found existing gridsearch-LH-original-W99ab97c2c7.json\n",
      "Found existing gridsearch-LH-original-Wb75600d996.json\n",
      "Found existing gridsearch-LH-original-Wc4730d354b.json\n",
      "Found existing gridsearch-LH-original-Wd090d03932.json\n",
      "Found existing gridsearch-LH-original-Wcf968f25d1.json\n",
      "Found existing gridsearch-LH-original-W715e5724b9.json\n",
      "Found existing gridsearch-LH-original-W5e6c265a39.json\n",
      "Found existing gridsearch-LH-original-W86600d000b.json\n",
      "Found existing gridsearch-LH-original-W3702a6741e.json\n",
      "Found existing gridsearch-LH-original-W53c65cb336.json\n",
      "Found existing gridsearch-LH-original-We8bd4a3f8f.json\n",
      "Found existing gridsearch-LH-original-W291401dc1f.json\n",
      "Found existing gridsearch-LH-original-W613de8ef1a.json\n",
      "Found existing gridsearch-LH-original-We45a78cd67.json\n",
      "Found existing gridsearch-LH-original-Wcf1dac71fc.json\n",
      "Found existing gridsearch-LH-original-W5597121d4b.json\n",
      "Found existing gridsearch-LH-original-Wc6d7492bba.json\n",
      "Found existing gridsearch-LH-original-W9bc9ea4fc2.json\n",
      "Found existing gridsearch-LH-original-Wbe002a3045.json\n",
      "Found existing gridsearch-LH-original-W38772412b9.json\n",
      "Found existing gridsearch-LH-original-Wb9643bd8c4.json\n",
      "Found existing gridsearch-LH-original-W16b51ae22b.json\n",
      "Found existing gridsearch-LH-original-W3d5267be6a.json\n",
      "Found existing gridsearch-LH-original-Wbfc891d235.json\n",
      "Found existing gridsearch-LH-original-Wdba6d53de7.json\n",
      "Found existing gridsearch-LH-original-W159f3a80dd.json\n",
      "Found existing gridsearch-LH-original-W7197078c59.json\n",
      "Found existing gridsearch-LH-original-W4f613632bb.json\n",
      "Found existing gridsearch-LH-original-Wcd8bbd6c48.json\n",
      "Found existing gridsearch-LH-original-Wcd52036c9f.json\n",
      "Found existing gridsearch-LH-original-W7f37dbcfe7.json\n",
      "Found existing gridsearch-LH-original-Wf821260364.json\n",
      "Found existing gridsearch-LH-original-W6d2165aa36.json\n",
      "Found existing gridsearch-LH-original-We6f9427e76.json\n",
      "Found existing gridsearch-LH-original-W67a4a3cf1d.json\n",
      "Found existing gridsearch-LH-original-W0c81ac968f.json\n",
      "Found existing gridsearch-LH-original-W7d1e1881da.json\n",
      "Found existing gridsearch-LH-original-W60f9708ea5.json\n",
      "Found existing gridsearch-LH-original-W7ced4d6759.json\n",
      "Found existing gridsearch-LH-original-W4a38275d17.json\n",
      "Found existing gridsearch-LH-original-Wb4edb87faa.json\n",
      "Found existing gridsearch-LH-original-W91c9e82c6c.json\n",
      "Found existing gridsearch-LH-original-W7cf5207c3d.json\n",
      "Found existing gridsearch-LH-original-W895540aaab.json\n",
      "Found existing gridsearch-LH-original-W0d6c592678.json\n",
      "Found existing gridsearch-LH-original-Wdef53c7e4a.json\n",
      "Found existing gridsearch-LH-original-W800bbda22b.json\n",
      "Found existing gridsearch-LH-original-W4ea3471112.json\n",
      "Found existing gridsearch-LH-original-Wb6abbe8a56.json\n",
      "Found existing gridsearch-LH-original-W2d2091f2fc.json\n",
      "Found existing gridsearch-LH-original-W9baa69dfae.json\n",
      "Found existing gridsearch-LH-original-W3f040390f6.json\n",
      "Found existing gridsearch-LH-original-Wf1b05ccb4a.json\n",
      "Found existing gridsearch-LH-original-Waff459e8f5.json\n",
      "Found existing gridsearch-LH-original-Wc6c4d3a13e.json\n",
      "Found existing gridsearch-LH-original-W4496d175b5.json\n",
      "Found existing gridsearch-LH-original-W4489c1b570.json\n",
      "Found existing gridsearch-LH-original-W1a4ba2c3fe.json\n",
      "Found existing gridsearch-LH-original-W0ea98f7765.json\n",
      "Found existing gridsearch-LH-original-Wdc31834a31.json\n",
      "Found existing gridsearch-LH-original-W13581391d6.json\n",
      "Found existing gridsearch-LH-original-W58a869a986.json\n",
      "Found existing gridsearch-LH-original-W0697489184.json\n",
      "Found existing gridsearch-LH-original-Wd0acb1eaa6.json\n",
      "Found existing gridsearch-LH-original-W18ea8cadc1.json\n",
      "Found existing gridsearch-LH-original-Wf608ab97f2.json\n",
      "Found existing gridsearch-LH-original-W7f8c9a833d.json\n",
      "Found existing gridsearch-LH-original-W66c08f9e56.json\n",
      "Found existing gridsearch-LH-original-W30d6b9745b.json\n",
      "Found existing gridsearch-LH-original-Wa279fc6d6c.json\n",
      "Found existing gridsearch-LH-original-Wa50e8e9a72.json\n",
      "Found existing gridsearch-LH-original-Wbbbabb15bc.json\n",
      "Found existing gridsearch-LH-original-Wd2d363b16a.json\n",
      "Found existing gridsearch-LH-original-W0147897049.json\n",
      "Found existing gridsearch-LH-original-W78105777d2.json\n",
      "Found existing gridsearch-LH-original-W6962048a52.json\n",
      "Found existing gridsearch-LH-original-W2a62aad16b.json\n",
      "Found existing gridsearch-LH-original-Wd4f2e15ef6.json\n",
      "Found existing gridsearch-LH-original-W60fc50bef7.json\n",
      "Found existing gridsearch-LH-original-W1b6d7028a6.json\n",
      "Found existing gridsearch-LH-original-Wb05294975a.json\n",
      "Found existing gridsearch-LH-original-W770f11e277.json\n",
      "Found existing gridsearch-LH-original-W0faca68120.json\n",
      "Found existing gridsearch-LH-original-W517de74612.json\n",
      "Found existing gridsearch-LH-original-W5e459487b7.json\n",
      "Found existing gridsearch-LH-original-W2db7ab9340.json\n",
      "Found existing gridsearch-LH-original-W0a93ab7757.json\n",
      "Found existing gridsearch-LH-original-Wc69fc3919f.json\n",
      "Found existing gridsearch-LH-original-Wf3f319da4c.json\n",
      "Found existing gridsearch-LH-original-Wd6cf30c0d3.json\n",
      "Found existing gridsearch-LH-original-Wf2e4bf6192.json\n",
      "Found existing gridsearch-LH-original-W7d606c0a33.json\n",
      "Found existing gridsearch-LH-original-W8b15abfa92.json\n",
      "Found existing gridsearch-LH-original-W8f8e170851.json\n",
      "Found existing gridsearch-LH-original-We233e17209.json\n",
      "Found existing gridsearch-LH-original-W2d9a1032e6.json\n",
      "Found existing gridsearch-LH-original-W780c1864fc.json\n",
      "Found existing gridsearch-LH-original-Wbed2a185d6.json\n",
      "Found existing gridsearch-LH-original-W73e3bb6626.json\n",
      "Found existing gridsearch-LH-original-W7c640aea0a.json\n",
      "Found existing gridsearch-LH-original-Wdb89305072.json\n",
      "Found existing gridsearch-LH-original-W3a0261dab6.json\n",
      "Found existing gridsearch-LH-original-Wc806283778.json\n",
      "Found existing gridsearch-LH-original-Wd6034b4acb.json\n",
      "Found existing gridsearch-LH-original-Webd400e8a8.json\n",
      "Found existing gridsearch-LH-original-W6717c78532.json\n",
      "Found existing gridsearch-LH-original-W39d8d40c2c.json\n",
      "Found existing gridsearch-LH-original-W6bd440659f.json\n",
      "Found existing gridsearch-LH-original-W8a4ff9de8d.json\n",
      "Found existing gridsearch-LH-original-Wc054c2edf4.json\n",
      "Found existing gridsearch-LH-original-W00d6a87210.json\n",
      "Found existing gridsearch-LH-original-W171400bfeb.json\n",
      "Found existing gridsearch-LH-original-Wc08053db61.json\n",
      "Found existing gridsearch-LH-original-W2609f51a5c.json\n",
      "Found existing gridsearch-LH-original-W32791a70a3.json\n",
      "Found existing gridsearch-LH-original-W5ab95c6e61.json\n",
      "Found existing gridsearch-LH-original-W9d1afe97dc.json\n",
      "Found existing gridsearch-LH-original-W0ec2d40dcf.json\n",
      "Found existing gridsearch-LH-original-W0768ddbb92.json\n",
      "Found existing gridsearch-LH-original-W9f7672a3af.json\n",
      "Found existing gridsearch-LH-original-Wfc7d0efbd2.json\n",
      "Found existing gridsearch-LH-original-W96d41b9246.json\n",
      "Found existing gridsearch-LH-original-W8ddce95524.json\n",
      "Found existing gridsearch-LH-original-W33c3204980.json\n",
      "Found existing gridsearch-LH-original-Wadd68dd614.json\n",
      "Found existing gridsearch-LH-original-W4a461e3183.json\n",
      "Found existing gridsearch-LH-original-W472a997d4e.json\n",
      "Found existing gridsearch-LH-original-Wf4db3403b4.json\n",
      "Found existing gridsearch-LH-original-W6616c030e1.json\n",
      "Found existing gridsearch-LH-original-W8fd5e190c0.json\n",
      "Found existing gridsearch-LH-original-W1939485f3e.json\n",
      "Found existing gridsearch-LH-original-Wb0b58dfc06.json\n",
      "Found existing gridsearch-LH-original-W1e02eab43b.json\n",
      "Found existing gridsearch-LH-original-Wf60a2be642.json\n",
      "Found existing gridsearch-LH-original-W8f3472f604.json\n",
      "Found existing gridsearch-LH-original-Wde500cc8d7.json\n",
      "Found existing gridsearch-LH-original-Wb8972d54ce.json\n",
      "Found existing gridsearch-LH-original-W6523f27760.json\n",
      "Found existing gridsearch-LH-original-Wff50b24e59.json\n",
      "Found existing gridsearch-LH-original-W2280ea6fe6.json\n",
      "Found existing gridsearch-LH-original-Wef83a7921d.json\n",
      "Found existing gridsearch-LH-original-Wa57c77b317.json\n",
      "Found existing gridsearch-LH-original-We1b5359771.json\n",
      "Found existing gridsearch-LH-original-Wf7df508850.json\n",
      "Found existing gridsearch-LH-original-Wbf950f851c.json\n",
      "Found existing gridsearch-LH-original-We49a978e10.json\n",
      "Found existing gridsearch-LH-original-W5fd2ebe6b5.json\n",
      "Found existing gridsearch-LH-original-Wf5db5b496f.json\n",
      "Found existing gridsearch-LH-original-W5466eda696.json\n",
      "Found existing gridsearch-LH-original-W3ba054f41b.json\n",
      "Found existing gridsearch-LH-original-W2ee3132fcc.json\n",
      "Found existing gridsearch-LH-original-W335e40ed25.json\n",
      "Found existing gridsearch-LH-original-Wbbd9314f0c.json\n",
      "Found existing gridsearch-LH-original-Wce650b0a36.json\n",
      "Found existing gridsearch-LH-original-W39b0be703a.json\n",
      "Found existing gridsearch-LH-original-W737eb06535.json\n",
      "Found existing gridsearch-LH-original-W6ba4bee2fd.json\n",
      "Found existing gridsearch-LH-original-Wbb01463ce1.json\n",
      "Found existing gridsearch-LH-original-W9e1d357c2b.json\n",
      "Found existing gridsearch-LH-original-W2d8baed1b1.json\n",
      "Found existing gridsearch-LH-original-Wbee546a539.json\n",
      "Found existing gridsearch-LH-original-W371b4916b6.json\n",
      "Found existing gridsearch-LH-original-W981213438e.json\n",
      "Found existing gridsearch-LH-original-W48877a8e13.json\n",
      "Found existing gridsearch-LH-original-W9c3a0eb4dc.json\n",
      "Found existing gridsearch-LH-original-W8224474c71.json\n",
      "Found existing gridsearch-LH-original-W4aae851134.json\n",
      "Found existing gridsearch-LH-original-W8fa524950b.json\n",
      "Found existing gridsearch-LH-original-W4fe9c3a198.json\n",
      "Found existing gridsearch-LH-original-W4ee4ce0389.json\n",
      "Found existing gridsearch-LH-original-W07ecd061ea.json\n",
      "Found existing gridsearch-LH-original-W8cdee3f11a.json\n",
      "Found existing gridsearch-LH-original-W58b99a2724.json\n",
      "Found existing gridsearch-LH-original-Wbfce6551dd.json\n",
      "Found existing gridsearch-LH-original-W1fae3eda94.json\n",
      "Found existing gridsearch-LH-original-W9e4557a954.json\n",
      "Found existing gridsearch-LH-original-W4b709fc424.json\n",
      "Found existing gridsearch-LH-original-Wd5b13e0e47.json\n",
      "Found existing gridsearch-LH-original-W7865893016.json\n",
      "Found existing gridsearch-LH-original-Wcf66713efd.json\n",
      "Found existing gridsearch-LH-original-Wc7c3d8b840.json\n",
      "Found existing gridsearch-LH-original-W8cb6dabe4e.json\n",
      "Found existing gridsearch-LH-original-W079b44d2b6.json\n",
      "Found existing gridsearch-LH-original-W7a54c56869.json\n",
      "Found existing gridsearch-LH-original-W3516cc93a2.json\n",
      "Found existing gridsearch-LH-original-Wef744fff1f.json\n",
      "Found existing gridsearch-LH-original-We12e883c8d.json\n",
      "Found existing gridsearch-LH-original-W18b636bd69.json\n",
      "Found existing gridsearch-LH-original-Wbcef1ac84f.json\n",
      "Found existing gridsearch-LH-original-W452c7dcd65.json\n",
      "Found existing gridsearch-LH-original-W15351e66ae.json\n",
      "Found existing gridsearch-LH-original-Wad8577be16.json\n",
      "Found existing gridsearch-LH-original-Wb4dc5f63b5.json\n",
      "Found existing gridsearch-LH-original-W66b5e55310.json\n",
      "Found existing gridsearch-LH-original-W3d8e3027cb.json\n",
      "Found existing gridsearch-LH-original-Wdb79252947.json\n",
      "Found existing gridsearch-LH-original-W8bd81f9fe9.json\n",
      "Found existing gridsearch-LH-original-Wb9d9c6365f.json\n",
      "Found existing gridsearch-LH-original-W84a294517c.json\n",
      "Found existing gridsearch-LH-original-W0ae64bdd69.json\n",
      "Found existing gridsearch-LH-original-W5cf9679443.json\n",
      "Found existing gridsearch-LH-original-Wd2ded0a50a.json\n",
      "Found existing gridsearch-LH-original-W6bf2c61f53.json\n",
      "Found existing gridsearch-LH-original-Wda1478ae8d.json\n",
      "Found existing gridsearch-LH-original-Wa6a552e580.json\n",
      "Found existing gridsearch-LH-original-W914ea62b5c.json\n",
      "Found existing gridsearch-LH-original-We4576b8d7a.json\n",
      "Found existing gridsearch-LH-original-Wfe1f8e40c7.json\n",
      "Found existing gridsearch-LH-original-Wea0e46502f.json\n",
      "Found existing gridsearch-LH-original-We6d8952d54.json\n",
      "Found existing gridsearch-LH-original-W7b07c19751.json\n",
      "Found existing gridsearch-LH-original-W9ca6b5cb0b.json\n",
      "Found existing gridsearch-LH-original-Wb49205025b.json\n",
      "Found existing gridsearch-LH-original-W5017bd81a7.json\n",
      "Found existing gridsearch-LH-original-Wf87d7998e2.json\n",
      "Found existing gridsearch-LH-original-W8158dbdde4.json\n",
      "Found existing gridsearch-LH-original-W870fc8d462.json\n",
      "Found existing gridsearch-LH-original-W1c6b08d17e.json\n",
      "Found existing gridsearch-LH-original-W65fa56bf35.json\n",
      "Found existing gridsearch-LH-original-W05f6e79920.json\n",
      "Found existing gridsearch-LH-original-Wf93ceb41b7.json\n",
      "Found existing gridsearch-LH-original-W29588f06ea.json\n",
      "Found existing gridsearch-LH-original-W629141a18b.json\n",
      "Found existing gridsearch-LH-original-W4b6d49a1d7.json\n",
      "Found existing gridsearch-LH-original-Wec74d88a48.json\n",
      "Found existing gridsearch-LH-original-Wb7f72d181c.json\n",
      "Found existing gridsearch-LH-original-W3c3939f2fd.json\n",
      "Found existing gridsearch-LH-original-W431033b141.json\n",
      "Found existing gridsearch-LH-original-W56c4e200fd.json\n",
      "Found existing gridsearch-LH-original-Wb01380ed5d.json\n",
      "Found existing gridsearch-LH-original-W3f462c054d.json\n",
      "Found existing gridsearch-LH-original-Wf50f761b66.json\n",
      "Found existing gridsearch-LH-original-Wea5b2df3b6.json\n",
      "Found existing gridsearch-LH-original-W8fb49adbc9.json\n",
      "Found existing gridsearch-LH-original-W611c579f26.json\n",
      "Found existing gridsearch-LH-original-W7147115ffa.json\n",
      "Found existing gridsearch-LH-original-Wbdb0dc6cef.json\n",
      "Found existing gridsearch-LH-original-W33d48e1e68.json\n",
      "Found existing gridsearch-LH-original-W0addeb79cb.json\n",
      "Found existing gridsearch-LH-original-Wfe887723f2.json\n",
      "Found existing gridsearch-LH-original-W5c34aa9663.json\n",
      "Found existing gridsearch-LH-original-Wae2265e357.json\n",
      "Found existing gridsearch-LH-original-Wb5120b1844.json\n",
      "Found existing gridsearch-LH-original-W0cbb884cea.json\n",
      "Found existing gridsearch-LH-original-Wa2daaf7077.json\n",
      "Found existing gridsearch-LH-original-W70d51b4e6e.json\n",
      "Found existing gridsearch-LH-original-Wffb45f6366.json\n",
      "Found existing gridsearch-LH-original-W15e509b64d.json\n",
      "Found existing gridsearch-LH-original-W25a5a2023f.json\n",
      "Found existing gridsearch-LH-original-W21cbbe54ae.json\n",
      "Found existing gridsearch-LH-original-W0e93b7a016.json\n",
      "Found existing gridsearch-LH-original-W9c1891fc77.json\n",
      "Found existing gridsearch-LH-original-W55e4ebd5f4.json\n",
      "Found existing gridsearch-LH-original-W1aa07567ea.json\n",
      "Found existing gridsearch-LH-original-W9d8fe97427.json\n",
      "Found existing gridsearch-LH-original-Wf23a7bc0bb.json\n",
      "Found existing gridsearch-LH-original-W3356e741c8.json\n",
      "Found existing gridsearch-LH-original-W56b73e633b.json\n",
      "Found existing gridsearch-LH-original-W6d317192bb.json\n",
      "Found existing gridsearch-LH-original-Wf6494681e0.json\n",
      "Found existing gridsearch-LH-original-W33373e7067.json\n",
      "Found existing gridsearch-LH-original-W48950a11e3.json\n"
     ]
    },
    {
     "data": {
      "image/png": "[encoded data removed]",
      "text/plain": [
       "<Figure size 432x288 with 1 Axes>"
      ]
     },
     "metadata": {
      "needs_background": "light"
     },
     "output_type": "display_data"
    }
   ],
   "source": [
    "exp2_worker_input_files = os.listdir(\"experiment/webppl-input/slider/participants/\")\n",
    "\n",
    "grid_search_likelihoods(\"experiment/webppl-exp2/gridsearch/participants/\", exp2_worker_input_files, input_type='slider/participants')\n",
    "\n",
    "participant_mles = mles_from_participant_gridsearch(\"exp2\")\n",
    "participant_mles.to_json(\"experiment/webppl-exp2/participant_mles_via_gridsearch.json\", orient='records')"
   ]
  },
  {
   "cell_type": "markdown",
   "id": "644ef063-925f-49ca-9012-37631f71f332",
   "metadata": {},
   "source": [
    "## Objective Manipulation Checks (joint gridsearch)"
   ]
  },
  {
   "cell_type": "code",
   "execution_count": 37,
   "id": "544472d0-4309-4ae7-9508-9de97a59de22",
   "metadata": {},
   "outputs": [
    {
     "name": "stdout",
     "output_type": "stream",
     "text": [
      "O-ALL-H-ambiguous.json\n"
     ]
    },
    {
     "data": {
      "text/html": [
       "<div>\n",
       "<style scoped>\n",
       "    .dataframe tbody tr th:only-of-type {\n",
       "        vertical-align: middle;\n",
       "    }\n",
       "\n",
       "    .dataframe tbody tr th {\n",
       "        vertical-align: top;\n",
       "    }\n",
       "\n",
       "    .dataframe thead th {\n",
       "        text-align: right;\n",
       "    }\n",
       "</style>\n",
       "<table border=\"1\" class=\"dataframe\">\n",
       "  <thead>\n",
       "    <tr style=\"text-align: right;\">\n",
       "      <th></th>\n",
       "      <th>action_context</th>\n",
       "      <th>workerid</th>\n",
       "      <th>objective</th>\n",
       "      <th>horizon</th>\n",
       "      <th>response</th>\n",
       "      <th>utterance</th>\n",
       "    </tr>\n",
       "  </thead>\n",
       "  <tbody>\n",
       "    <tr>\n",
       "      <th>0</th>\n",
       "      <td>[{'color': 'Blue', 'texture': 'Solid'}, {'colo...</td>\n",
       "      <td>W02b773cfa3</td>\n",
       "      <td>belief</td>\n",
       "      <td>ambiguous</td>\n",
       "      <td>0</td>\n",
       "      <td>{'feature': 'Red', 'feature_value': -1}</td>\n",
       "    </tr>\n",
       "    <tr>\n",
       "      <th>1</th>\n",
       "      <td>[{'color': 'Blue', 'texture': 'Solid'}, {'colo...</td>\n",
       "      <td>W05f6e79920</td>\n",
       "      <td>ambiguous</td>\n",
       "      <td>ambiguous</td>\n",
       "      <td>27</td>\n",
       "      <td>{'feature': 'Red', 'feature_value': -1}</td>\n",
       "    </tr>\n",
       "    <tr>\n",
       "      <th>2</th>\n",
       "      <td>[{'color': 'Blue', 'texture': 'Solid'}, {'colo...</td>\n",
       "      <td>W079b44d2b6</td>\n",
       "      <td>ambiguous</td>\n",
       "      <td>ambiguous</td>\n",
       "      <td>0</td>\n",
       "      <td>{'feature': 'Red', 'feature_value': -1}</td>\n",
       "    </tr>\n",
       "    <tr>\n",
       "      <th>3</th>\n",
       "      <td>[{'color': 'Blue', 'texture': 'Solid'}, {'colo...</td>\n",
       "      <td>W0971403e0c</td>\n",
       "      <td>belief</td>\n",
       "      <td>ambiguous</td>\n",
       "      <td>28</td>\n",
       "      <td>{'feature': 'Red', 'feature_value': -1}</td>\n",
       "    </tr>\n",
       "    <tr>\n",
       "      <th>4</th>\n",
       "      <td>[{'color': 'Blue', 'texture': 'Solid'}, {'colo...</td>\n",
       "      <td>W0ae64bdd69</td>\n",
       "      <td>ambiguous</td>\n",
       "      <td>ambiguous</td>\n",
       "      <td>0</td>\n",
       "      <td>{'feature': 'Red', 'feature_value': -1}</td>\n",
       "    </tr>\n",
       "  </tbody>\n",
       "</table>\n",
       "</div>"
      ],
      "text/plain": [
       "                                      action_context     workerid  objective  \\\n",
       "0  [{'color': 'Blue', 'texture': 'Solid'}, {'colo...  W02b773cfa3     belief   \n",
       "1  [{'color': 'Blue', 'texture': 'Solid'}, {'colo...  W05f6e79920  ambiguous   \n",
       "2  [{'color': 'Blue', 'texture': 'Solid'}, {'colo...  W079b44d2b6  ambiguous   \n",
       "3  [{'color': 'Blue', 'texture': 'Solid'}, {'colo...  W0971403e0c     belief   \n",
       "4  [{'color': 'Blue', 'texture': 'Solid'}, {'colo...  W0ae64bdd69  ambiguous   \n",
       "\n",
       "     horizon  response                                utterance  \n",
       "0  ambiguous         0  {'feature': 'Red', 'feature_value': -1}  \n",
       "1  ambiguous        27  {'feature': 'Red', 'feature_value': -1}  \n",
       "2  ambiguous         0  {'feature': 'Red', 'feature_value': -1}  \n",
       "3  ambiguous        28  {'feature': 'Red', 'feature_value': -1}  \n",
       "4  ambiguous         0  {'feature': 'Red', 'feature_value': -1}  "
      ]
     },
     "execution_count": 37,
     "metadata": {},
     "output_type": "execute_result"
    }
   ],
   "source": [
    "joint_objective_input = input_string.format(\"ALL\", \"ambiguous\")\n",
    "print(joint_objective_input)\n",
    "\n",
    "input_df = pd.DataFrame(json.load(open(data_path + 'slider/' + joint_objective_input)))\n",
    "input_df.head()"
   ]
  },
  {
   "cell_type": "code",
   "execution_count": 38,
   "id": "f5b04be1-3f36-4fb4-bf51-85da4d48dbe6",
   "metadata": {},
   "outputs": [
    {
     "name": "stdout",
     "output_type": "stream",
     "text": [
      "Found existing gridsearch-LH-original-alphaS-1-O-ALL-H-ambiguous.json\n",
      "Found existing gridsearch-LH-original-alphaS-2-O-ALL-H-ambiguous.json\n",
      "Found existing gridsearch-LH-original-alphaS-3-O-ALL-H-ambiguous.json\n",
      "Found existing gridsearch-LH-original-alphaS-4-O-ALL-H-ambiguous.json\n",
      "Found existing gridsearch-LH-original-alphaS-5-O-ALL-H-ambiguous.json\n",
      "Found existing gridsearch-LH-original-alphaS-6-O-ALL-H-ambiguous.json\n",
      "Found existing gridsearch-LH-original-alphaS-7-O-ALL-H-ambiguous.json\n",
      "Found existing gridsearch-LH-original-alphaS-8-O-ALL-H-ambiguous.json\n",
      "Found existing gridsearch-LH-original-alphaS-9-O-ALL-H-ambiguous.json\n",
      "Found existing gridsearch-LH-original-alphaS-10-O-ALL-H-ambiguous.json\n"
     ]
    }
   ],
   "source": [
    "output_dir = \"experiment/webppl-exp2/gridsearch/cross-condition/\"\n",
    "\n",
    "for alphaS in range(1, 11):\n",
    "    grid_search_likelihoods(output_dir, [joint_objective_input], input_type='slider', \n",
    "                            params=f'byObjective {alphaS}', output_fname_extension=f'-alphaS-{alphaS}')"
   ]
  },
  {
   "cell_type": "code",
   "execution_count": 39,
   "id": "a37d21cb-f863-4571-84f1-1f325377c687",
   "metadata": {},
   "outputs": [],
   "source": [
    "outputs = [o for o in os.listdir(output_dir) if \"json\" in o]\n",
    "\n",
    "results = []\n",
    "for file in outputs:\n",
    "    results.append(pd.read_json(open(output_dir + file)))\n",
    "\n",
    "exp2_manipulation_check = pd.concat(results)"
   ]
  },
  {
   "cell_type": "code",
   "execution_count": null,
   "id": "23679aeb-f800-46dd-833e-3f35e5319e23",
   "metadata": {},
   "outputs": [],
   "source": [
    "exp2_manipulation_check.sort_values(\"likelihood\", ascending=False).head(3)"
   ]
  },
  {
   "cell_type": "code",
   "execution_count": 41,
   "id": "e3f86c7c-2c1f-4138-b6e0-eff744e1ab68",
   "metadata": {},
   "outputs": [
    {
     "name": "stdout",
     "output_type": "stream",
     "text": [
      "Exp 2: Manipulation Checks on Belief-biased, Unbiased, Action-biased conditions.\n",
      "\n",
      "BF for ordinal-vs-single:\n",
      "Comparing M1 (16500 rows) to M2 (1100 rows).\n",
      "Bayes Factor (M1 / M2): inf\n",
      "Log Bayes Factor: 1801.491697487385\n",
      "\tM1: -39699.00551113225\n",
      "\tM2: -41500.497208619636\n",
      "\n",
      "BF for ordinal-vs-independent:\n",
      "Comparing M1 (16500 rows) to M2 (133100 rows).\n",
      "Bayes Factor (M1 / M2): 8.066666666631386\n",
      "Log Bayes Factor: 2.0877403444901574\n",
      "\tM1: -39699.00551113225\n",
      "\tM2: -39701.09325147674\n"
     ]
    },
    {
     "name": "stderr",
     "output_type": "stream",
     "text": [
      "/var/folders/gv/42lb0z1j4dxf3wsk74nrxwx80000gn/T/ipykernel_20917/277710767.py:18: RuntimeWarning: overflow encountered in exp\n",
      "  bayes_factor = np.exp(log_bayes_factor)\n"
     ]
    }
   ],
   "source": [
    "ordinal_model_exp2 = exp2_manipulation_check[\n",
    "    (exp2_manipulation_check[\"utilityWeight-utility\"] > exp2_manipulation_check[\"utilityWeight-ambiguous\"]) &\n",
    "    (exp2_manipulation_check[\"utilityWeight-ambiguous\"] > exp2_manipulation_check[\"utilityWeight-belief\"])]\n",
    "\n",
    "single_param_model_exp2 = exp2_manipulation_check[\n",
    "    (exp2_manipulation_check[\"utilityWeight-utility\"] == exp2_manipulation_check[\"utilityWeight-ambiguous\"]) & \n",
    "    (exp2_manipulation_check[\"utilityWeight-ambiguous\"] == exp2_manipulation_check[\"utilityWeight-belief\"])]\n",
    "\n",
    "print(\"Exp 2: Manipulation Checks on Belief-biased, Unbiased, Action-biased conditions.\")\n",
    "\n",
    "print(\"\\nBF for ordinal-vs-single:\")\n",
    "bayes_factors(ordinal_model_exp2, single_param_model_exp2)\n",
    "\n",
    "print(\"\\nBF for ordinal-vs-independent:\")\n",
    "bayes_factors(ordinal_model_exp2, exp2_manipulation_check)"
   ]
  },
  {
   "cell_type": "markdown",
   "id": "d22e7bad-0a49-4201-8fad-0a4c884fa642",
   "metadata": {},
   "source": [
    "# Exp 3"
   ]
  },
  {
   "cell_type": "markdown",
   "id": "3dd67f92-1b79-485f-8c89-251fde4bf9d2",
   "metadata": {},
   "source": [
    "## Grid Search parameters"
   ]
  },
  {
   "cell_type": "code",
   "execution_count": 42,
   "id": "ad409b0a-0c0a-422f-b704-0babd441afc7",
   "metadata": {},
   "outputs": [],
   "source": [
    "objectives = [\"belief\", \"utility\", \"ambiguous\"]\n",
    "horizons = [1, 2, 4]\n",
    "\n",
    "models = [\"combined\", \"belief\", \"utility\"]\n",
    "\n",
    "input_string = \"O-{}-H-{}.json\"\n",
    "\n",
    "slider_input_files = []\n",
    "\n",
    "for o in objectives:\n",
    "    for h in horizons:\n",
    "        slider_input_files.append(input_string.format(o, h))\n",
    "        \n",
    "exp2_possible_condition_files = os.listdir(\"experiment/webppl-input/slider/\")\n",
    "\n",
    "slider_input_files = [s for s in slider_input_files if s in exp2_possible_condition_files]"
   ]
  },
  {
   "cell_type": "code",
   "execution_count": 43,
   "id": "7c9814b0-ac58-4ff8-8a10-fb52b7035a74",
   "metadata": {},
   "outputs": [],
   "source": [
    "results_file_string = \"webppl-exp2/gridsearch/gridsearch-LH-original-{}\""
   ]
  },
  {
   "cell_type": "code",
   "execution_count": 45,
   "id": "a544806e-be6a-4e37-a15c-c8f661a4a611",
   "metadata": {},
   "outputs": [
    {
     "name": "stdout",
     "output_type": "stream",
     "text": [
      "Found existing gridsearch-LH-original-O-ambiguous-H-1.json\n",
      "Found existing gridsearch-LH-original-O-ambiguous-H-2.json\n",
      "Found existing gridsearch-LH-original-O-ambiguous-H-4.json\n"
     ]
    }
   ],
   "source": [
    "output_dir = \"experiment/webppl-exp2/gridsearch\"\n",
    "grid_search_likelihoods(output_dir, slider_input_files, input_type='slider')"
   ]
  },
  {
   "cell_type": "code",
   "execution_count": 46,
   "id": "6c441977-d611-4973-ae32-854e344063c3",
   "metadata": {},
   "outputs": [
    {
     "name": "stdout",
     "output_type": "stream",
     "text": [
      "\n",
      "\n",
      "O-ambiguous-H-1.json\n",
      "\n",
      "Best parameter values from grid search:\n",
      "\tMLE: UW = 0.0, alphaS = 1.0, alphaL = 10.0, log-likelihood: -14006.86\n",
      "\tMLE: UW = 1.0, alphaS = 2.0, alphaL = 1.0, log-likelihood: -13954.46\n",
      "\tMLE: UW = 0.7, alphaS = 3.0, alphaL = 1.0, log-likelihood: -13437.09\n",
      "\n",
      "\n",
      "O-ambiguous-H-2.json\n",
      "\n",
      "Best parameter values from grid search:\n",
      "\tMLE: UW = 0.0, alphaS = 1.0, alphaL = 10.0, log-likelihood: -11712.53\n",
      "\tMLE: UW = 1.0, alphaS = 1.0, alphaL = 1.0, log-likelihood: -12081.49\n",
      "\tMLE: UW = 0.6, alphaS = 3.0, alphaL = 1.0, log-likelihood: -11443.64\n",
      "\n",
      "\n",
      "O-ambiguous-H-4.json\n",
      "\n",
      "Best parameter values from grid search:\n",
      "\tMLE: UW = 0.0, alphaS = 1.0, alphaL = 10.0, log-likelihood: -13964.78\n",
      "\tMLE: UW = 1.0, alphaS = 1.0, alphaL = 2.0, log-likelihood: -14296.73\n",
      "\tMLE: UW = 0.65, alphaS = 3.0, alphaL = 1.0, log-likelihood: -13605.68\n"
     ]
    },
    {
     "data": {
      "image/png": "[encoded data removed]",
      "text/plain": [
       "<Figure size 432x288 with 2 Axes>"
      ]
     },
     "metadata": {
      "needs_background": "light"
     },
     "output_type": "display_data"
    },
    {
     "data": {
      "image/png": "[encoded data removed]",
      "text/plain": [
       "<Figure size 432x288 with 2 Axes>"
      ]
     },
     "metadata": {
      "needs_background": "light"
     },
     "output_type": "display_data"
    },
    {
     "data": {
      "image/png": "[encoded data removed]",
      "text/plain": [
       "<Figure size 432x288 with 2 Axes>"
      ]
     },
     "metadata": {
      "needs_background": "light"
     },
     "output_type": "display_data"
    }
   ],
   "source": [
    "for input_file in slider_input_files:\n",
    "\n",
    "    try:\n",
    "        inputs = json.load(open(\"experiment/webppl-exp2/gridsearch/gridsearch-LH-original-{}\".format(input_file)))\n",
    "    except:\n",
    "        print(\"Could not find {}\".format(input_file))\n",
    "        continue\n",
    "        \n",
    "    df = pd.DataFrame.from_records(inputs)\n",
    "    df = df[(df[\"sigmaGaussian\"] == 30) & (df.falsePenalty == -1)]\n",
    "    df = df[df.alphaS <= 10]\n",
    "\n",
    "    df.utilityWeight = df.utilityWeight.round(2)\n",
    "\n",
    "    print(\"\\n\\n\" + input_file)\n",
    "        \n",
    "    print(\"\\nBest parameter values from grid search:\")\n",
    "    \n",
    "    print_mle(df[df.utilityWeight == 0])\n",
    "    print_mle(df[df.utilityWeight == 1])\n",
    "    print_mle(df)\n",
    "#     print(df.sort_values(\"likelihood\", ascending=False)[[\"utilityWeight\", \"alphaS\", \"alphaL\", \"sigmaGaussian\", \"likelihood\"]].head(5))\n",
    "  \n",
    "    plt.figure()\n",
    "    pivoted = df.pivot_table(values='likelihood', columns=\"utilityWeight\", index=\"alphaS\", aggfunc='max')\n",
    "    ax = sns.heatmap(pivoted)\n",
    "    ax.invert_yaxis()\n",
    "    plt.suptitle(input_file)"
   ]
  },
  {
   "cell_type": "markdown",
   "id": "8cf422a5-b9b6-4591-bc0e-bf4cb309cd72",
   "metadata": {},
   "source": [
    "## Horizon Effect (joint gridsearch)"
   ]
  },
  {
   "cell_type": "code",
   "execution_count": 47,
   "id": "f597a06e-8486-4d46-bcc5-479012e10bb3",
   "metadata": {},
   "outputs": [
    {
     "name": "stdout",
     "output_type": "stream",
     "text": [
      "O-ambiguous-H-ALL.json\n"
     ]
    }
   ],
   "source": [
    "joint_horizon_input = input_string.format(\"ambiguous\", \"ALL\")\n",
    "\n",
    "print(joint_horizon_input)"
   ]
  },
  {
   "cell_type": "code",
   "execution_count": 48,
   "id": "a169a9e7-749b-4b51-b6cf-56e429062e35",
   "metadata": {},
   "outputs": [
    {
     "name": "stdout",
     "output_type": "stream",
     "text": [
      "O-ALL-H-ambiguous.json        O-ambiguous-H-ambiguous.json\n",
      "O-ambiguous-H-1.json          O-belief-H-ambiguous.json\n",
      "O-ambiguous-H-2.json          O-utility-H-ambiguous.json\n",
      "O-ambiguous-H-4.json          \u001b[34mparticipants\u001b[m\u001b[m/\n",
      "O-ambiguous-H-ALL.json\n"
     ]
    }
   ],
   "source": [
    "ls experiment/webppl-input/slider"
   ]
  },
  {
   "cell_type": "code",
   "execution_count": 49,
   "id": "51f9d3cd-0368-4253-b542-0e00684c62ae",
   "metadata": {},
   "outputs": [
    {
     "data": {
      "text/plain": [
       "4    2736\n",
       "1    2664\n",
       "2    2304\n",
       "Name: horizon, dtype: int64"
      ]
     },
     "execution_count": 49,
     "metadata": {},
     "output_type": "execute_result"
    }
   ],
   "source": [
    "input_df = pd.DataFrame(json.load(open(data_path + 'slider/' + joint_horizon_input)))\n",
    "input_df.horizon.value_counts()"
   ]
  },
  {
   "cell_type": "code",
   "execution_count": 58,
   "id": "2c6477ed-3469-49b8-a7f0-fc9255317549",
   "metadata": {},
   "outputs": [
    {
     "data": {
      "text/plain": [
       "Index(['action_context', 'workerid', 'objective', 'horizon', 'response',\n",
       "       'utterance'],\n",
       "      dtype='object')"
      ]
     },
     "execution_count": 58,
     "metadata": {},
     "output_type": "execute_result"
    }
   ],
   "source": [
    "input_df.columns"
   ]
  },
  {
   "cell_type": "code",
   "execution_count": null,
   "id": "9ab1cc7d-535e-4aa1-8ac9-2d29c06423a7",
   "metadata": {},
   "outputs": [
    {
     "name": "stdout",
     "output_type": "stream",
     "text": [
      "Could not find gridsearch-LH-original-alphaS-1-O-ambiguous-H-ALL.json.\n",
      "Read 7704 data from experiment/webppl-input/slider/O-ambiguous-H-ALL.json\n",
      "undefined\n",
      "\tRan O-ambiguous-H-ALL.json in 44.78 minutes.\n",
      "Found existing gridsearch-LH-original-alphaS-2-O-ambiguous-H-ALL.json\n",
      "Found existing gridsearch-LH-original-alphaS-3-O-ambiguous-H-ALL.json\n",
      "Found existing gridsearch-LH-original-alphaS-4-O-ambiguous-H-ALL.json\n",
      "Found existing gridsearch-LH-original-alphaS-5-O-ambiguous-H-ALL.json\n",
      "Could not find gridsearch-LH-original-alphaS-6-O-ambiguous-H-ALL.json.\n",
      "Read 7704 data from experiment/webppl-input/slider/O-ambiguous-H-ALL.json\n"
     ]
    }
   ],
   "source": [
    "output_dir = \"experiment/webppl-exp3/gridsearch/cross-condition\"\n",
    "\n",
    "for alphaS in range(1, 11):\n",
    "    grid_search_likelihoods(output_dir, [joint_horizon_input], input_type='slider', \n",
    "                            params=f'byHorizon {alphaS}', output_fname_extension=f'-alphaS-{alphaS}')"
   ]
  },
  {
   "cell_type": "code",
   "execution_count": null,
   "id": "57e2d958-525b-40ea-8414-cc601034fb2a",
   "metadata": {},
   "outputs": [],
   "source": [
    "df = pd.DataFrame(json.load(open(results_file_string.format(joint_horizon_input))))"
   ]
  },
  {
   "cell_type": "code",
   "execution_count": null,
   "id": "caf1f25d-dd9c-450d-b005-f36b742eec22",
   "metadata": {},
   "outputs": [],
   "source": [
    "df.sort_values(\"likelihood\", ascending=False).head()"
   ]
  },
  {
   "cell_type": "code",
   "execution_count": null,
   "id": "a2062a36-0a5e-4789-b3e5-c93f25ffd9f9",
   "metadata": {},
   "outputs": [],
   "source": [
    "single_param_model = df[(df[\"utilityWeight-1\"] == df[\"utilityWeight-2\"]) &\n",
    "                        (df[\"utilityWeight-1\"] == df[\"utilityWeight-4\"])]\n",
    "\n",
    "ordinal_model = df[(df[\"utilityWeight-1\"] > df[\"utilityWeight-2\"]) & \n",
    "                   (df[\"utilityWeight-2\"] > df[\"utilityWeight-4\"])]\n",
    "\n",
    "print(len(single_param_model), len(ordinal_model), len(df))\n",
    "\n",
    "print(\"\\nBF for ordinal-vs-single:\")\n",
    "bayes_factors(ordinal_model, single_param_model)\n",
    "\n",
    "print(\"\\nBF for ordinal-vs-independent:\")\n",
    "bayes_factors(ordinal_model, df)"
   ]
  },
  {
   "cell_type": "code",
   "execution_count": null,
   "id": "e69cf2d3-31df-433b-9c74-71ab5304dd91",
   "metadata": {},
   "outputs": [],
   "source": [
    "ordinal_one_v_two = df[df[\"utilityWeight-1\"] > df[\"utilityWeight-2\"]]\n",
    "ordinal_two_v_four = df[df[\"utilityWeight-2\"] > df[\"utilityWeight-4\"]]\n",
    "\n",
    "print(\"\\nBF for one-two ordinal vs independent:\")\n",
    "bayes_factors(ordinal_one_v_two, df)\n",
    "\n",
    "print(\"\\nBF for two-four ordinal vs independent:\")\n",
    "bayes_factors(ordinal_two_v_four, df)"
   ]
  },
  {
   "cell_type": "code",
   "execution_count": null,
   "id": "475277b1-b26f-4cc9-ad58-e688721bd0f9",
   "metadata": {},
   "outputs": [],
   "source": [
    "exp3_worker_input_files = os.listdir(\"../signaling-bandits-exp/data/webppl-input/slider/participants/\")\n",
    "\n",
    "grid_search_likelihoods(\"experiment/webppl-exp2/gridsearch/participants/\", exp2_worker_input_files, input_type='slider/participants')\n",
    "\n",
    "participant_mles = mles_from_participant_gridsearch(\"exp2\")\n",
    "participant_mles.utilityWeight.hist()\n",
    "\n",
    "participant_mles.to_json(\"experiment/webppl-exp2/participant_mles_via_gridsearch.json\", orient='records')"
   ]
  },
  {
   "cell_type": "markdown",
   "id": "dadafc28-6b5b-4d02-9694-6de3c2c331b3",
   "metadata": {},
   "source": [
    "# Power Analysis by Simulation"
   ]
  },
  {
   "cell_type": "code",
   "execution_count": null,
   "id": "62b3b22f-685a-4e66-af36-ade43e5dc59b",
   "metadata": {},
   "outputs": [],
   "source": [
    "def pvals_from_file(file):\n",
    "    \n",
    "    df = pd.DataFrame(json.load(open(f)))\n",
    "    df[\"utilityWeight\"] = df.utilityWeight.round(2)\n",
    "    mle_likelihoods = model_likelihoods_from_gridsearch(df)\n",
    "    \n",
    "    belief_pval = likelihood_ratio(mle_likelihoods[\"combined\"], mle_likelihoods[\"belief\"], 2)\n",
    "    utility_pval = likelihood_ratio(mle_likelihoods[\"combined\"], mle_likelihoods[\"utility\"], 1)\n",
    "\n",
    "    return {\"belief\": belief_pval, \"utility\": utility_pval}"
   ]
  },
  {
   "cell_type": "markdown",
   "id": "ab484ba1-22df-486c-8b06-9f94c62ae2a7",
   "metadata": {},
   "source": [
    "## Bootstrapping on Participants"
   ]
  },
  {
   "cell_type": "code",
   "execution_count": null,
   "id": "4b6542f0-9fca-4baf-9561-a61f80810eda",
   "metadata": {},
   "outputs": [],
   "source": [
    "input_dir = data_path + \"select/ambiguous-participants/\"\n",
    "input_files = os.listdir(input_dir)\n",
    "participants = [p for p in input_files if p[0] == \"W\"]"
   ]
  },
  {
   "cell_type": "code",
   "execution_count": null,
   "id": "6c022322-9e38-4228-98f1-210b0a467471",
   "metadata": {},
   "outputs": [],
   "source": [
    "output_dir = \"webppl-exp1/power-analysis-bootstrap/\"\n",
    "grid_search_likelihoods(output_dir, participants, input_type='select/ambiguous-participants', verbose=False)"
   ]
  },
  {
   "cell_type": "code",
   "execution_count": null,
   "id": "95d6a385-58d9-4e6a-a88f-702330cd9fc1",
   "metadata": {},
   "outputs": [],
   "source": [
    "output_files = [output_dir + \"gridsearch-LH-original-\" + f for f in participants]\n",
    "\n",
    "results = []\n",
    "for f in output_files:\n",
    "    results.append(pvals_from_file(f))\n",
    "        \n",
    "pvals = pd.DataFrame(results)"
   ]
  },
  {
   "cell_type": "code",
   "execution_count": null,
   "id": "3b37027a-fc28-4d98-8c6b-99ffde8932d0",
   "metadata": {},
   "outputs": [],
   "source": [
    "pvals[pvals > .05]"
   ]
  },
  {
   "cell_type": "markdown",
   "id": "58e5c45a-da9c-44c8-b6b6-3fc8430a1ac1",
   "metadata": {
    "tags": []
   },
   "source": [
    "# Debug"
   ]
  },
  {
   "cell_type": "code",
   "execution_count": null,
   "id": "06a5325f-5f02-4788-b6b7-05a735c36077",
   "metadata": {},
   "outputs": [],
   "source": [
    "script = '{} --require actions --require webppl-json -- --debug'.format(script_path)\n",
    "\n",
    "!webppl {script}"
   ]
  }
 ],
 "metadata": {
  "kernelspec": {
   "display_name": "Python 3 (ipykernel)",
   "language": "python",
   "name": "python3"
  },
  "language_info": {
   "codemirror_mode": {
    "name": "ipython",
    "version": 3
   },
   "file_extension": ".py",
   "mimetype": "text/x-python",
   "name": "python",
   "nbconvert_exporter": "python",
   "pygments_lexer": "ipython3",
   "version": "3.9.12"
  }
 },
 "nbformat": 4,
 "nbformat_minor": 5
}
