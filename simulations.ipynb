{
 "cells": [
  {
   "cell_type": "code",
   "execution_count": 1,
   "metadata": {},
   "outputs": [],
   "source": [
    "import itertools\n",
    "import random\n",
    "import json\n",
    "\n",
    "import numpy as np\n",
    "import pandas as pd\n",
    "import matplotlib.pylab as plt\n",
    "import seaborn as sns\n",
    "from scipy.special import softmax"
   ]
  },
  {
   "cell_type": "code",
   "execution_count": 2,
   "metadata": {},
   "outputs": [],
   "source": [
    "%load_ext autoreload\n",
    "%autoreload 2"
   ]
  },
  {
   "cell_type": "code",
   "execution_count": 3,
   "metadata": {},
   "outputs": [],
   "source": [
    "import simulations\n",
    "import visualizations"
   ]
  },
  {
   "cell_type": "markdown",
   "metadata": {},
   "source": [
    "# Defining Worlds and Actions "
   ]
  },
  {
   "cell_type": "code",
   "execution_count": 4,
   "metadata": {},
   "outputs": [],
   "source": [
    "test_colors = ['blue', 'green']\n",
    "test_shapes = ['circle', 'square']\n",
    "test_features = test_colors + test_shapes\n",
    "test_values = [-1, 1]\n",
    "\n",
    "test_action_context = simulations.generate_context_from_actions([(\"green\", \"circle\"), (\"blue\", \"circle\"), (\"green\", \"square\")])\n",
    "\n",
    "test_worlds = simulations.generate_worlds_from_feature_values(test_features, test_values)"
   ]
  },
  {
   "cell_type": "markdown",
   "metadata": {},
   "source": [
    "# Literal Listener: Beliefs and Actions"
   ]
  },
  {
   "cell_type": "markdown",
   "metadata": {},
   "source": [
    "### Belief Updates\n",
    "Given a message $u$ which consists of a feature-value tuple $(\\phi, \\mathbb{R})$, condition worlds $w$ and return only those with are literally consistent with that utterance. This implements Eq. 3 / 11 from the paper:\n",
    "\n",
    "\n",
    "\\begin{equation}\n",
    "    P_L(w \\mid u) \\propto \\delta_{[ u ] (w)} P(w)\n",
    "\\end{equation} \n",
    "\n",
    "$$\n",
    "p_L(w_L \\mid u) = p_L(w_L \\mid u_{\\mathbb{1}_K} =  u_{\\mathbb{R}})\n",
    "$$"
   ]
  },
  {
   "cell_type": "code",
   "execution_count": 5,
   "metadata": {},
   "outputs": [
    {
     "name": "stdout",
     "output_type": "stream",
     "text": [
      "Before conditioning, 16 possible worlds.\n",
      "After conditioning, 8 possible worlds.\n"
     ]
    },
    {
     "data": {
      "text/html": [
       "<div>\n",
       "<style scoped>\n",
       "    .dataframe tbody tr th:only-of-type {\n",
       "        vertical-align: middle;\n",
       "    }\n",
       "\n",
       "    .dataframe tbody tr th {\n",
       "        vertical-align: top;\n",
       "    }\n",
       "\n",
       "    .dataframe thead th {\n",
       "        text-align: right;\n",
       "    }\n",
       "</style>\n",
       "<table border=\"1\" class=\"dataframe\">\n",
       "  <thead>\n",
       "    <tr style=\"text-align: right;\">\n",
       "      <th></th>\n",
       "      <th>blue</th>\n",
       "      <th>green</th>\n",
       "      <th>circle</th>\n",
       "      <th>square</th>\n",
       "      <th>probability</th>\n",
       "    </tr>\n",
       "  </thead>\n",
       "  <tbody>\n",
       "    <tr>\n",
       "      <th>4</th>\n",
       "      <td>-1</td>\n",
       "      <td>1</td>\n",
       "      <td>-1</td>\n",
       "      <td>-1</td>\n",
       "      <td>0.125</td>\n",
       "    </tr>\n",
       "    <tr>\n",
       "      <th>5</th>\n",
       "      <td>-1</td>\n",
       "      <td>1</td>\n",
       "      <td>-1</td>\n",
       "      <td>1</td>\n",
       "      <td>0.125</td>\n",
       "    </tr>\n",
       "    <tr>\n",
       "      <th>6</th>\n",
       "      <td>-1</td>\n",
       "      <td>1</td>\n",
       "      <td>1</td>\n",
       "      <td>-1</td>\n",
       "      <td>0.125</td>\n",
       "    </tr>\n",
       "    <tr>\n",
       "      <th>7</th>\n",
       "      <td>-1</td>\n",
       "      <td>1</td>\n",
       "      <td>1</td>\n",
       "      <td>1</td>\n",
       "      <td>0.125</td>\n",
       "    </tr>\n",
       "    <tr>\n",
       "      <th>12</th>\n",
       "      <td>1</td>\n",
       "      <td>1</td>\n",
       "      <td>-1</td>\n",
       "      <td>-1</td>\n",
       "      <td>0.125</td>\n",
       "    </tr>\n",
       "  </tbody>\n",
       "</table>\n",
       "</div>"
      ],
      "text/plain": [
       "    blue  green  circle  square  probability\n",
       "4     -1      1      -1      -1        0.125\n",
       "5     -1      1      -1       1        0.125\n",
       "6     -1      1       1      -1        0.125\n",
       "7     -1      1       1       1        0.125\n",
       "12     1      1      -1      -1        0.125"
      ]
     },
     "execution_count": 5,
     "metadata": {},
     "output_type": "execute_result"
    }
   ],
   "source": [
    "from listeners import StatelessLiteralListener\n",
    "\n",
    "# Condition on a message\n",
    "test_message = ('green', 1)\n",
    "test_beliefs = StatelessLiteralListener.condition_worlds_on_message(test_worlds, test_message)\n",
    "\n",
    "print(\"Before conditioning, {} possible worlds.\".format(len(test_worlds)))\n",
    "print(\"After conditioning, {} possible worlds.\".format(len(test_beliefs)))\n",
    "test_beliefs.head()"
   ]
  },
  {
   "cell_type": "markdown",
   "metadata": {},
   "source": [
    "### Listener Rewards\n",
    "\n",
    "Given an action dataframe $A$ and beliefs about rewards $w$, assign rewards to all actions. \n",
    "\n",
    "This implements Eq. 11 from the paper:\n",
    "\n",
    "$$\n",
    "R(a, w) = w^\\top\\phi(a)\n",
    "$$\n",
    "\n",
    "It can be called with either a Pandas `Series` or `DataFrame`. If `DataFrame`, will marginalize over beliefs and return expected rewards."
   ]
  },
  {
   "cell_type": "code",
   "execution_count": 6,
   "metadata": {},
   "outputs": [
    {
     "name": "stdout",
     "output_type": "stream",
     "text": [
      "Index(['green circle', 'blue circle', 'green square'], dtype='object')\n"
     ]
    },
    {
     "data": {
      "text/plain": [
       "array([2., 0., 0.])"
      ]
     },
     "execution_count": 6,
     "metadata": {},
     "output_type": "execute_result"
    }
   ],
   "source": [
    "rewards = pd.Series({\"blue\": -1, \"green\": 1, \"circle\": 1, \"square\": -1})\n",
    "print(test_action_context.index)\n",
    "StatelessLiteralListener.estimate_rewards(rewards, test_action_context)"
   ]
  },
  {
   "cell_type": "code",
   "execution_count": 7,
   "metadata": {},
   "outputs": [
    {
     "name": "stdout",
     "output_type": "stream",
     "text": [
      "Index(['green circle', 'blue circle', 'green square'], dtype='object')\n"
     ]
    },
    {
     "data": {
      "text/plain": [
       "array([1., 0., 1.])"
      ]
     },
     "execution_count": 7,
     "metadata": {},
     "output_type": "execute_result"
    }
   ],
   "source": [
    "# With a belief dataframe from before:\n",
    "print(test_action_context.index)\n",
    "StatelessLiteralListener.estimate_rewards(test_beliefs, test_action_context)"
   ]
  },
  {
   "cell_type": "markdown",
   "metadata": {},
   "source": [
    "### Listener Policy\n",
    "Given the listener's belief distribution and available actions, calculate their distribution over possible actions.\n",
    "\n",
    "This implements Eq. 4 and 5 from the paper, \n",
    "\n",
    "\n",
    "\\begin{equation}\n",
    "    R_L(a, u) = \\sum_{W}  R(a, w) P_L(w \\mid u)\n",
    "\\end{equation}\n",
    "\n",
    "$$\n",
    "    \\pi_L(a \\mid u, A) = \\frac{\n",
    "    \\exp\\{\\beta_L \\cdot R_L(a, u)\\}\n",
    "}{\n",
    "\\sum_{a' \\in A} \\exp\\{\\beta_L \\cdot R_L(a', u) \\}\n",
    "}\n",
    "$$"
   ]
  },
  {
   "cell_type": "code",
   "execution_count": 8,
   "metadata": {},
   "outputs": [
    {
     "data": {
      "text/html": [
       "<div>\n",
       "<style scoped>\n",
       "    .dataframe tbody tr th:only-of-type {\n",
       "        vertical-align: middle;\n",
       "    }\n",
       "\n",
       "    .dataframe tbody tr th {\n",
       "        vertical-align: top;\n",
       "    }\n",
       "\n",
       "    .dataframe thead th {\n",
       "        text-align: right;\n",
       "    }\n",
       "</style>\n",
       "<table border=\"1\" class=\"dataframe\">\n",
       "  <thead>\n",
       "    <tr style=\"text-align: right;\">\n",
       "      <th></th>\n",
       "      <th>green</th>\n",
       "      <th>circle</th>\n",
       "      <th>blue</th>\n",
       "      <th>square</th>\n",
       "      <th>listener_reward</th>\n",
       "      <th>listener_choice_prob</th>\n",
       "    </tr>\n",
       "  </thead>\n",
       "  <tbody>\n",
       "    <tr>\n",
       "      <th>green circle</th>\n",
       "      <td>1.0</td>\n",
       "      <td>1.0</td>\n",
       "      <td>0.0</td>\n",
       "      <td>0.0</td>\n",
       "      <td>1.0</td>\n",
       "      <td>0.487856</td>\n",
       "    </tr>\n",
       "    <tr>\n",
       "      <th>blue circle</th>\n",
       "      <td>0.0</td>\n",
       "      <td>1.0</td>\n",
       "      <td>1.0</td>\n",
       "      <td>0.0</td>\n",
       "      <td>0.0</td>\n",
       "      <td>0.024289</td>\n",
       "    </tr>\n",
       "    <tr>\n",
       "      <th>green square</th>\n",
       "      <td>1.0</td>\n",
       "      <td>0.0</td>\n",
       "      <td>0.0</td>\n",
       "      <td>1.0</td>\n",
       "      <td>1.0</td>\n",
       "      <td>0.487856</td>\n",
       "    </tr>\n",
       "  </tbody>\n",
       "</table>\n",
       "</div>"
      ],
      "text/plain": [
       "              green  circle  blue  square  listener_reward  \\\n",
       "green circle    1.0     1.0   0.0     0.0              1.0   \n",
       "blue circle     0.0     1.0   1.0     0.0              0.0   \n",
       "green square    1.0     0.0   0.0     1.0              1.0   \n",
       "\n",
       "              listener_choice_prob  \n",
       "green circle              0.487856  \n",
       "blue circle               0.024289  \n",
       "green square              0.487856  "
      ]
     },
     "execution_count": 8,
     "metadata": {},
     "output_type": "execute_result"
    }
   ],
   "source": [
    "literal_listener = StatelessLiteralListener(3, test_features, test_worlds)\n",
    "\n",
    "test_message = ('green', 1)\n",
    "literal_listener.action_policy(test_message, test_action_context)"
   ]
  },
  {
   "cell_type": "code",
   "execution_count": 9,
   "metadata": {},
   "outputs": [
    {
     "data": {
      "text/html": [
       "<div>\n",
       "<style scoped>\n",
       "    .dataframe tbody tr th:only-of-type {\n",
       "        vertical-align: middle;\n",
       "    }\n",
       "\n",
       "    .dataframe tbody tr th {\n",
       "        vertical-align: top;\n",
       "    }\n",
       "\n",
       "    .dataframe thead th {\n",
       "        text-align: right;\n",
       "    }\n",
       "</style>\n",
       "<table border=\"1\" class=\"dataframe\">\n",
       "  <thead>\n",
       "    <tr style=\"text-align: right;\">\n",
       "      <th></th>\n",
       "      <th>green</th>\n",
       "      <th>circle</th>\n",
       "      <th>blue</th>\n",
       "      <th>square</th>\n",
       "      <th>listener_reward</th>\n",
       "      <th>listener_choice_prob</th>\n",
       "    </tr>\n",
       "  </thead>\n",
       "  <tbody>\n",
       "    <tr>\n",
       "      <th>green circle</th>\n",
       "      <td>1.0</td>\n",
       "      <td>1.0</td>\n",
       "      <td>0.0</td>\n",
       "      <td>0.0</td>\n",
       "      <td>0.0</td>\n",
       "      <td>0.045279</td>\n",
       "    </tr>\n",
       "    <tr>\n",
       "      <th>blue circle</th>\n",
       "      <td>0.0</td>\n",
       "      <td>1.0</td>\n",
       "      <td>1.0</td>\n",
       "      <td>0.0</td>\n",
       "      <td>1.0</td>\n",
       "      <td>0.909443</td>\n",
       "    </tr>\n",
       "    <tr>\n",
       "      <th>green square</th>\n",
       "      <td>1.0</td>\n",
       "      <td>0.0</td>\n",
       "      <td>0.0</td>\n",
       "      <td>1.0</td>\n",
       "      <td>0.0</td>\n",
       "      <td>0.045279</td>\n",
       "    </tr>\n",
       "  </tbody>\n",
       "</table>\n",
       "</div>"
      ],
      "text/plain": [
       "              green  circle  blue  square  listener_reward  \\\n",
       "green circle    1.0     1.0   0.0     0.0              0.0   \n",
       "blue circle     0.0     1.0   1.0     0.0              1.0   \n",
       "green square    1.0     0.0   0.0     1.0              0.0   \n",
       "\n",
       "              listener_choice_prob  \n",
       "green circle              0.045279  \n",
       "blue circle               0.909443  \n",
       "green square              0.045279  "
      ]
     },
     "execution_count": 9,
     "metadata": {},
     "output_type": "execute_result"
    }
   ],
   "source": [
    "test_message = ('blue', 1)\n",
    "literal_listener.action_policy(test_message, test_action_context)"
   ]
  },
  {
   "cell_type": "markdown",
   "metadata": {},
   "source": [
    "# Speaker Models\n",
    "\n",
    "All of the speaker models implement `BaseSpeaker`, and take an utterance and action context to calculate a utility for that utterance.\n",
    "\n",
    "These utilities are used to choose utterances."
   ]
  },
  {
   "cell_type": "markdown",
   "metadata": {},
   "source": [
    "### Belief-Oriented Speaker\n",
    "The belief-oriented speaker optimizes the probability of a literal listener inferring the true world state.\n",
    "\n",
    "From the paper, this is Eqs. 2 and 3:  \n",
    "\n",
    "\\begin{equation}\n",
    "    U_\\text{Belief}(u \\mid w) = \\log P_L(w \\mid u)\n",
    "\\end{equation}"
   ]
  },
  {
   "cell_type": "code",
   "execution_count": 10,
   "metadata": {},
   "outputs": [],
   "source": [
    "from speakers import BeliefSpeaker, QUDBeliefSpeaker, CombinedSpeaker, ActionSpeaker, JointSpeaker"
   ]
  },
  {
   "cell_type": "code",
   "execution_count": 11,
   "metadata": {},
   "outputs": [
    {
     "name": "stdout",
     "output_type": "stream",
     "text": [
      "Belief speaker utility:\n",
      "\t('green', 1): -2.0794415416798357\n",
      "\t('blue', 1): -23.025850929940457\n"
     ]
    }
   ],
   "source": [
    "test_rewards = pd.Series({\"green\": 1, \"blue\": -1, \"circle\": 1, \"square\": -1})\n",
    "bad_message = (\"blue\", 1)\n",
    "good_message = (\"green\", 1)\n",
    "\n",
    "test_belief_speaker = BeliefSpeaker(literal_listener, beta=3, w=test_rewards, name=\"Belief\")\n",
    "\n",
    "good_utility = test_belief_speaker.utility(good_message, test_action_context)\n",
    "bad_utility = test_belief_speaker.utility(bad_message, test_action_context)\n",
    "\n",
    "print(\"Belief speaker utility:\")\n",
    "print(\"\\t{}: {}\".format(good_message, good_utility))\n",
    "print(\"\\t{}: {}\".format(bad_message, bad_utility))"
   ]
  },
  {
   "cell_type": "markdown",
   "metadata": {},
   "source": [
    "### Action Speaker\n",
    "Will choose based on expected utility of actions. This implements Eq. 8 and 9 from the paper:\n",
    "\n",
    "\\begin{equation}\n",
    "    R_S(u, w, A) = \\sum_{a \\in A} \\pi_L(a \\mid u, A) R(a, w)\n",
    "\\end{equation}\n",
    "\n",
    "\\begin{equation}\n",
    "U_\\text{Utility}(u \\mid A, w) = R_S(u,w, A)\n",
    "\\end{equation}  "
   ]
  },
  {
   "cell_type": "code",
   "execution_count": 12,
   "metadata": {},
   "outputs": [
    {
     "name": "stdout",
     "output_type": "stream",
     "text": [
      "Utility speaker utility:\n",
      "\t('green', 1): 0.9757111023207369\n",
      "\t('blue', 1): 0.09055700148725816\n"
     ]
    }
   ],
   "source": [
    "test_combined_speaker = CombinedSpeaker(literal_listener, beta=3, w=test_rewards, name=\"Utility\")\n",
    "\n",
    "good_utility = test_combined_speaker.utility(good_message, test_action_context)\n",
    "bad_utility = test_combined_speaker.utility(bad_message, test_action_context)\n",
    "\n",
    "print(\"Utility speaker utility:\")\n",
    "print(\"\\t{}: {}\".format(good_message, good_utility))\n",
    "print(\"\\t{}: {}\".format(bad_message, bad_utility))"
   ]
  },
  {
   "cell_type": "markdown",
   "metadata": {},
   "source": [
    "## Combined Speaker\n",
    "\n",
    "Will choose as a weighted sum of the previous two objectives."
   ]
  },
  {
   "cell_type": "code",
   "execution_count": 13,
   "metadata": {},
   "outputs": [
    {
     "name": "stdout",
     "output_type": "stream",
     "text": [
      "Joint speaker utility:\n",
      "\t('green', 1): 0.9878555511603684\n",
      "\t('blue', 1): -0.4547214992563709\n"
     ]
    }
   ],
   "source": [
    "joint_speaker = JointSpeaker(literal_listener, beta=3, w=test_rewards, name=\"Joint\", utilityWeight=.5)\n",
    "\n",
    "good_utility = joint_speaker.utility(good_message, test_action_context)\n",
    "bad_utility = joint_speaker.utility(bad_message, test_action_context)\n",
    "\n",
    "print(\"Joint speaker utility:\")\n",
    "print(\"\\t{}: {}\".format(good_message, good_utility))\n",
    "print(\"\\t{}: {}\".format(bad_message, bad_utility))\n"
   ]
  },
  {
   "cell_type": "markdown",
   "metadata": {},
   "source": [
    "# Experiment 1: Single-Shot Bandits, Full Context"
   ]
  },
  {
   "cell_type": "code",
   "execution_count": 14,
   "metadata": {},
   "outputs": [
    {
     "name": "stdout",
     "output_type": "stream",
     "text": [
      "ls: webppl-exp1: No such file or directory\n"
     ]
    }
   ],
   "source": [
    "!ls webppl-exp1"
   ]
  },
  {
   "cell_type": "code",
   "execution_count": 62,
   "metadata": {},
   "outputs": [],
   "source": [
    "# Define our set of shapes / colors\n",
    "sb_colors = ['blue', 'green', 'red']\n",
    "sb_shapes = ['circle', 'square', 'triangle']\n",
    "sb_all_features = sb_colors + sb_shapes\n",
    "\n",
    "# Generate action contexts\n",
    "sb_all_actions = simulations.generate_actions_from_features(sb_colors, sb_shapes)\n",
    "sb_all_action_contexts = list(itertools.combinations(sb_all_actions, 3))\n",
    "\n",
    "# Define and our reward vector\n",
    "sb_rewards = pd.Series({\"green\": 2, \"red\": 0,  \"blue\": -2, \"circle\": 1, \"triangle\": 0, \"square\": -1})\n",
    "\n",
    "\n",
    "###################### UNIFORM PRIOR VS VALUE-WITH-REPLACEMENT ######################\n",
    "\n",
    "uniform_prior_over_values = simulations.generate_worlds_from_feature_values(sb_all_features, sb_rewards.unique())\n",
    "sb_worlds = uniform_prior_over_values\n",
    "\n",
    "######################################################################################\n",
    "\n",
    "# Define a listener\n",
    "sb_listener = StatelessLiteralListener(beta=3, features=sb_all_features, possible_worlds=sb_worlds)\n",
    "\n",
    "belief_speaker = BeliefSpeaker(sb_listener, beta=3, w=sb_rewards, name=\"Belief Only\")\n",
    "relevance_speaker = CombinedSpeaker(sb_listener, beta=3, w=sb_rewards, name=\"Action Only\")\n",
    "combined_speaker = JointSpeaker(sb_listener, beta=3, w=sb_rewards, name=\"Combined\", utilityWeight=0.5)\n",
    "\n",
    "###### EXPERIMENTAL MLES ###########\n",
    "ambiguous_listener = StatelessLiteralListener(beta=3, features=sb_all_features, possible_worlds=sb_worlds)\n",
    "unbiased_mle = JointSpeaker(ambiguous_listener, beta=3, w=sb_rewards, name=\"MLE-unbiased-combined\", utilityWeight=0.55)\n",
    "\n",
    "ambiguous_valence_listener = StatelessLiteralListener(beta=2, features=sb_all_features, possible_worlds=sb_worlds)\n",
    "unbiased_mle_valence = JointSpeaker(ambiguous_listener, beta=3, w=sb_rewards, name=\"MLE-unbiased-combined-valence\", utilityWeight=0.55, valenceWeight=.25)\n",
    "\n",
    "utility_listener = StatelessLiteralListener(beta=2, features=sb_all_features, possible_worlds=sb_worlds)\n",
    "unbiased_action_mle = CombinedSpeaker(utility_listener, beta=2, w=sb_rewards, name=\"MLE-unbiased-action-only\")\n",
    "\n",
    "belief_listener = StatelessLiteralListener(beta=1, features=sb_all_features, possible_worlds=sb_worlds)\n",
    "unbiased_belief_mle = BeliefSpeaker(belief_listener, beta=2, w=sb_rewards, name=\"MLE-unbiased-belief-only\")\n",
    "\n",
    "action_biased_listener = StatelessLiteralListener(beta=2, features=sb_all_features, possible_worlds=sb_worlds)\n",
    "action_biased_mle = JointSpeaker(action_biased_listener, beta=4, w=sb_rewards, name=\"MLE-action-bias-combined\", utilityWeight=0.85)\n",
    "\n",
    "belief_biased_listener = StatelessLiteralListener(beta=1, features=sb_all_features, possible_worlds=sb_worlds)\n",
    "belief_biased_mle = JointSpeaker(belief_biased_listener, beta=2, w=sb_rewards, name=\"MLE-belief-bias-combined\", utilityWeight=0.35)\n",
    "\n",
    "\n",
    "speaker_list = [belief_speaker, relevance_speaker, combined_speaker,\n",
    "                unbiased_mle, unbiased_action_mle, unbiased_belief_mle,\n",
    "                action_biased_mle, belief_biased_mle, unbiased_mle_valence]\n",
    "\n",
    "# Define allowable utterances as all valid feature / value tuples\n",
    "exp_1_utterances = list(itertools.product(sb_all_features, sb_rewards.unique()))\n",
    "exp_1_speakers = speaker_list"
   ]
  },
  {
   "cell_type": "code",
   "execution_count": 71,
   "metadata": {},
   "outputs": [],
   "source": [
    "SB_DEFAULT_REWARDS = {\"green\": 2, \"red\": 0,  \"blue\": -2, \"circle\": 1, \"triangle\": 0, \"square\": -1}\n",
    "\n",
    "def heatmap_speaker_action_dataframe(full_utterance_probabilities_df, prob_col, vmax=None, vmin=None, cmap=\"Grays\", ax=None, cbar=True):\n",
    "    \"\"\"Visualize the probability of a speaker choosing an utterance.\"\"\"\n",
    "\n",
    "    collapsed_df = full_utterance_probabilities_df.groupby([\"value\", \"feature\"]).agg(np.mean).reset_index()\n",
    "    collapsed_df[\"label\"] = collapsed_df.truthful.apply(lambda x: \"X\" if x else \"\")\n",
    "\n",
    "    utterance_selection = collapsed_df.pivot(\"value\", \"feature\", prob_col)\n",
    "    labels = collapsed_df.pivot(\"value\", \"feature\", \"label\")\n",
    "\n",
    "    # Sort columns in descending order of features\n",
    "    features_in_descending_order = sb_rewards[utterance_selection.columns].sort_values(ascending=False).index\n",
    "    utterance_selection = utterance_selection.reindex(features_in_descending_order, axis=1)\n",
    "    labels = labels.reindex(features_in_descending_order, axis=1)\n",
    "\n",
    "    if vmax is None:\n",
    "        vmax = collapsed_df[prob_col].max()\n",
    "    if vmin is None:\n",
    "        vmin = collapsed_df[prob_col].min()\n",
    "\n",
    "    ax = sns.heatmap(utterance_selection, annot=labels, fmt='', annot_kws={\"fontsize\":30}, linewidths=1, cmap=cmap, vmin=vmin, vmax=vmax,\n",
    "                     linecolor='lightgray', ax=ax, cbar=cbar)\n",
    "    \n",
    "    ax.set_xticks([])\n",
    "    ax.set_xlabel(\"\")\n",
    "    \n",
    "    ax.set_yticks([])\n",
    "    ax.set_ylabel(\"\")\n",
    "\n",
    "    ax.invert_yaxis()"
   ]
  },
  {
   "cell_type": "code",
   "execution_count": 72,
   "metadata": {},
   "outputs": [
    {
     "data": {
      "image/png": "[encoded data removed]",
      "text/plain": [
       "<Figure size 1440x432 with 3 Axes>"
      ]
     },
     "metadata": {},
     "output_type": "display_data"
    }
   ],
   "source": [
    "demo_bandit = (('red', 'circle'), ('red', 'triangle'), ('blue', 'square') )\n",
    "demo_action_context = simulations.generate_context_from_actions(demo_bandit)\n",
    "\n",
    "df = simulations.speakers_utterance_probabilities_single_action_context(demo_action_context, exp_1_speakers, exp_1_utterances, sb_rewards)\n",
    "\n",
    "speakers = [belief_speaker.name + \"_prob\", combined_speaker.name + \"_prob\", relevance_speaker.name + \"_prob\"]\n",
    "                                                               \n",
    "fig, axs = plt.subplots(1, 3, figsize=(20, 6), sharey=True)\n",
    "\n",
    "for i, ax in enumerate(axs.flat): \n",
    "\n",
    "    cbar = (i == 2)\n",
    "    heatmap_speaker_action_dataframe(df, speakers[i], vmax=.36, cmap='Greys', ax=ax, cbar=False)\n",
    "\n",
    "plt.tight_layout()\n",
    "plt.savefig('theoretical_heatmaps.pdf')"
   ]
  },
  {
   "cell_type": "code",
   "execution_count": 18,
   "metadata": {},
   "outputs": [
    {
     "data": {
      "text/plain": [
       "[]"
      ]
     },
     "execution_count": 18,
     "metadata": {},
     "output_type": "execute_result"
    },
    {
     "data": {
      "image/png": "[encoded data removed]",
      "text/plain": [
       "<Figure size 720x288 with 1 Axes>"
      ]
     },
     "metadata": {},
     "output_type": "display_data"
    }
   ],
   "source": [
    "demo_listener = StatelessLiteralListener(beta=2, features=sb_all_features, possible_worlds=sb_worlds)\n",
    "test_message = ('circle', 2)\n",
    "policy = demo_listener.action_policy(test_message, demo_action_context).reset_index().listener_choice_prob\n",
    "\n",
    "plt.figure(figsize=(10, 4))\n",
    "plt.bar(x=policy.index, height=policy.values, color='gray')\n",
    "plt.ylim(0, 1)\n",
    "ax = plt.gca()\n",
    "ax.spines['top'].set_linewidth(0)\n",
    "ax.spines['right'].set_linewidth(0)\n",
    "ax.spines['left'].set_linewidth(0)\n",
    "ax.spines['bottom'].set_linewidth(5)\n",
    "\n",
    "\n",
    "ax.set_xticks([])\n",
    "ax.set_yticks([])\n",
    "# ax.set_yticks([0, .5, 1])\n",
    "\n",
    "# sns.barplot(x=policy.index, y=policy.values, c='k', alpha=.5)"
   ]
  },
  {
   "cell_type": "code",
   "execution_count": 19,
   "metadata": {},
   "outputs": [],
   "source": [
    "## Plot MLEs from experimental data"
   ]
  },
  {
   "cell_type": "code",
   "execution_count": 20,
   "metadata": {},
   "outputs": [
    {
     "data": {
      "image/png": "[encoded data removed]",
      "text/plain": [
       "<Figure size 1440x432 with 3 Axes>"
      ]
     },
     "metadata": {
      "needs_background": "light"
     },
     "output_type": "display_data"
    }
   ],
   "source": [
    "speakers = [unbiased_belief_mle.name + \"_prob\", unbiased_mle.name + \"_prob\", unbiased_action_mle.name + \"_prob\"]\n",
    "                                                               \n",
    "fig, axs = plt.subplots(1, 3, figsize=(20, 6), sharey=True)\n",
    "\n",
    "for i, ax in enumerate(axs.flat): \n",
    "\n",
    "    cbar = (i == 2)\n",
    "    heatmap_speaker_action_dataframe(df, speakers[i], vmax=.36, cmap='Greys', ax=ax, cbar=False)\n",
    "\n",
    "plt.tight_layout()\n",
    "plt.savefig('mle_heatmaps.pdf')"
   ]
  },
  {
   "cell_type": "markdown",
   "metadata": {
    "tags": []
   },
   "source": [
    "### Average over all possible bandit configurations"
   ]
  },
  {
   "cell_type": "code",
   "execution_count": 21,
   "metadata": {},
   "outputs": [
    {
     "name": "stdout",
     "output_type": "stream",
     "text": [
      "Evaluated over 84 bandit configurations.\n"
     ]
    }
   ],
   "source": [
    "exp_one_full_df = simulations.speaker_utterance_probabilities_multiple_action_contexts(sb_all_action_contexts, exp_1_speakers, exp_1_utterances, sb_rewards)\n",
    "\n",
    "print(\"Evaluated over {} bandit configurations.\".format(exp_one_full_df.action_context.nunique()))"
   ]
  },
  {
   "cell_type": "code",
   "execution_count": 22,
   "metadata": {},
   "outputs": [
    {
     "data": {
      "text/html": [
       "<div>\n",
       "<style scoped>\n",
       "    .dataframe tbody tr th:only-of-type {\n",
       "        vertical-align: middle;\n",
       "    }\n",
       "\n",
       "    .dataframe tbody tr th {\n",
       "        vertical-align: top;\n",
       "    }\n",
       "\n",
       "    .dataframe thead th {\n",
       "        text-align: right;\n",
       "    }\n",
       "</style>\n",
       "<table border=\"1\" class=\"dataframe\">\n",
       "  <thead>\n",
       "    <tr style=\"text-align: right;\">\n",
       "      <th></th>\n",
       "      <th>prob_truthful</th>\n",
       "      <th>expected_rewards</th>\n",
       "    </tr>\n",
       "    <tr>\n",
       "      <th>speaker</th>\n",
       "      <th></th>\n",
       "      <th></th>\n",
       "    </tr>\n",
       "  </thead>\n",
       "  <tbody>\n",
       "    <tr>\n",
       "      <th>Action Only</th>\n",
       "      <td>0.392679</td>\n",
       "      <td>1.450152</td>\n",
       "    </tr>\n",
       "    <tr>\n",
       "      <th>Belief Only</th>\n",
       "      <td>1.000000</td>\n",
       "      <td>0.538652</td>\n",
       "    </tr>\n",
       "    <tr>\n",
       "      <th>Combined</th>\n",
       "      <td>0.899500</td>\n",
       "      <td>1.240921</td>\n",
       "    </tr>\n",
       "    <tr>\n",
       "      <th>MLE-action-bias-combined</th>\n",
       "      <td>0.662087</td>\n",
       "      <td>1.503027</td>\n",
       "    </tr>\n",
       "    <tr>\n",
       "      <th>MLE-belief-bias-combined</th>\n",
       "      <td>0.815614</td>\n",
       "      <td>0.715483</td>\n",
       "    </tr>\n",
       "    <tr>\n",
       "      <th>MLE-unbiased-action-only</th>\n",
       "      <td>0.374516</td>\n",
       "      <td>1.240033</td>\n",
       "    </tr>\n",
       "    <tr>\n",
       "      <th>MLE-unbiased-belief-only</th>\n",
       "      <td>1.000000</td>\n",
       "      <td>0.538652</td>\n",
       "    </tr>\n",
       "    <tr>\n",
       "      <th>MLE-unbiased-combined</th>\n",
       "      <td>0.872489</td>\n",
       "      <td>1.277911</td>\n",
       "    </tr>\n",
       "    <tr>\n",
       "      <th>MLE-unbiased-combined-valence</th>\n",
       "      <td>0.868196</td>\n",
       "      <td>1.336896</td>\n",
       "    </tr>\n",
       "  </tbody>\n",
       "</table>\n",
       "</div>"
      ],
      "text/plain": [
       "                               prob_truthful  expected_rewards\n",
       "speaker                                                       \n",
       "Action Only                         0.392679          1.450152\n",
       "Belief Only                         1.000000          0.538652\n",
       "Combined                            0.899500          1.240921\n",
       "MLE-action-bias-combined            0.662087          1.503027\n",
       "MLE-belief-bias-combined            0.815614          0.715483\n",
       "MLE-unbiased-action-only            0.374516          1.240033\n",
       "MLE-unbiased-belief-only            1.000000          0.538652\n",
       "MLE-unbiased-combined               0.872489          1.277911\n",
       "MLE-unbiased-combined-valence       0.868196          1.336896"
      ]
     },
     "execution_count": 22,
     "metadata": {},
     "output_type": "execute_result"
    }
   ],
   "source": [
    "exp_one_local = simulations.summarize_speakers_performance(exp_one_full_df, speaker_list=exp_1_speakers)\n",
    "\n",
    "exp_one_local[[\"speaker\", \"prob_truthful\", \"expected_rewards\"]].groupby(\"speaker\").mean()"
   ]
  },
  {
   "cell_type": "code",
   "execution_count": 23,
   "metadata": {},
   "outputs": [
    {
     "data": {
      "image/png": "[encoded data removed]",
      "text/plain": [
       "<Figure size 432x288 with 2 Axes>"
      ]
     },
     "metadata": {
      "needs_background": "light"
     },
     "output_type": "display_data"
    },
    {
     "data": {
      "image/png": "[encoded data removed]",
      "text/plain": [
       "<Figure size 432x288 with 2 Axes>"
      ]
     },
     "metadata": {
      "needs_background": "light"
     },
     "output_type": "display_data"
    },
    {
     "data": {
      "image/png": "[encoded data removed]",
      "text/plain": [
       "<Figure size 432x288 with 2 Axes>"
      ]
     },
     "metadata": {
      "needs_background": "light"
     },
     "output_type": "display_data"
    },
    {
     "data": {
      "image/png": "[encoded data removed]",
      "text/plain": [
       "<Figure size 432x288 with 2 Axes>"
      ]
     },
     "metadata": {
      "needs_background": "light"
     },
     "output_type": "display_data"
    },
    {
     "data": {
      "image/png": "[encoded data removed]",
      "text/plain": [
       "<Figure size 432x288 with 2 Axes>"
      ]
     },
     "metadata": {
      "needs_background": "light"
     },
     "output_type": "display_data"
    },
    {
     "data": {
      "image/png": "[encoded data removed]",
      "text/plain": [
       "<Figure size 432x288 with 2 Axes>"
      ]
     },
     "metadata": {
      "needs_background": "light"
     },
     "output_type": "display_data"
    },
    {
     "data": {
      "image/png": "[encoded data removed]",
      "text/plain": [
       "<Figure size 432x288 with 2 Axes>"
      ]
     },
     "metadata": {
      "needs_background": "light"
     },
     "output_type": "display_data"
    },
    {
     "data": {
      "image/png": "[encoded data removed]",
      "text/plain": [
       "<Figure size 432x288 with 2 Axes>"
      ]
     },
     "metadata": {
      "needs_background": "light"
     },
     "output_type": "display_data"
    },
    {
     "data": {
      "image/png": "[encoded data removed]",
      "text/plain": [
       "<Figure size 432x288 with 2 Axes>"
      ]
     },
     "metadata": {
      "needs_background": "light"
     },
     "output_type": "display_data"
    }
   ],
   "source": [
    "for s in exp_1_speakers:\n",
    "    visualizations.heatmap_speaker_action_dataframe(exp_one_full_df, s, sb_rewards, cmap='Oranges')"
   ]
  },
  {
   "cell_type": "markdown",
   "metadata": {},
   "source": [
    "## Generate Trials for Experiment"
   ]
  },
  {
   "cell_type": "code",
   "execution_count": 24,
   "metadata": {},
   "outputs": [
    {
     "name": "stdout",
     "output_type": "stream",
     "text": [
      "Split trials into sequences length 28, 28, 28.\n"
     ]
    }
   ],
   "source": [
    "unique_contexts = exp_one_full_df.action_context.unique()\n",
    "contexts = map(simulations.to_experiment_action_context_format, unique_contexts)\n",
    "\n",
    "for_experiment = []\n",
    "for c in contexts:\n",
    "    for_experiment.append({\n",
    "        \"action_context\":[c],\n",
    "        \"trial_type\": \"select\"\n",
    "    })\n",
    "\n",
    "import random\n",
    "random.shuffle(for_experiment)\n",
    "\n",
    "split_one = for_experiment[:28]\n",
    "split_two = for_experiment[28:56]\n",
    "split_three = for_experiment[56:]\n",
    "\n",
    "print(\"Split trials into sequences length {}, {}, {}.\".format(len(split_one), len(split_two), len(split_three)))\n",
    "\n",
    "# with open(\"../signaling-bandits-exp/static/json/exp1_split1.json\", 'w') as outfile:\n",
    "#     json.dump(split_one, outfile)\n",
    "    \n",
    "# with open(\"../signaling-bandits-exp/static/json/exp1_split2.json\", 'w') as outfile:\n",
    "#     json.dump(split_two, outfile)\n",
    "    \n",
    "# with open(\"../signaling-bandits-exp/static/json/exp1_split3.json\", 'w') as outfile:\n",
    "#     json.dump(split_three, outfile)"
   ]
  },
  {
   "cell_type": "markdown",
   "metadata": {},
   "source": [
    "## Export posterior predictives"
   ]
  },
  {
   "cell_type": "code",
   "execution_count": 25,
   "metadata": {},
   "outputs": [
    {
     "data": {
      "text/plain": [
       "Index(['utterance', 'feature', 'value', 'truthful', 'expected_rewards',\n",
       "       'prob_optimal_action', 'Belief Only', 'Action Only', 'Combined',\n",
       "       'MLE-unbiased-combined', 'MLE-unbiased-action-only',\n",
       "       'MLE-unbiased-belief-only', 'MLE-action-bias-combined',\n",
       "       'MLE-belief-bias-combined', 'MLE-unbiased-combined-valence',\n",
       "       'Belief Only_prob', 'Action Only_prob', 'Combined_prob',\n",
       "       'MLE-unbiased-combined_prob', 'MLE-unbiased-action-only_prob',\n",
       "       'MLE-unbiased-belief-only_prob', 'MLE-action-bias-combined_prob',\n",
       "       'MLE-belief-bias-combined_prob', 'MLE-unbiased-combined-valence_prob',\n",
       "       'action_context', 'no_utterance_rewards'],\n",
       "      dtype='object')"
      ]
     },
     "execution_count": 25,
     "metadata": {},
     "output_type": "execute_result"
    }
   ],
   "source": [
    "exp_one_full_df.columns"
   ]
  },
  {
   "cell_type": "code",
   "execution_count": 26,
   "metadata": {},
   "outputs": [],
   "source": [
    "models = [s.name for s in speaker_list]\n",
    "\n",
    "models_to_export = [p + \"_prob\" for p in models]"
   ]
  },
  {
   "cell_type": "code",
   "execution_count": 27,
   "metadata": {},
   "outputs": [
    {
     "name": "stderr",
     "output_type": "stream",
     "text": [
      "/var/folders/gv/42lb0z1j4dxf3wsk74nrxwx80000gn/T/ipykernel_42687/1728293801.py:2: SettingWithCopyWarning: \n",
      "A value is trying to be set on a copy of a slice from a DataFrame.\n",
      "Try using .loc[row_indexer,col_indexer] = value instead\n",
      "\n",
      "See the caveats in the documentation: https://pandas.pydata.org/pandas-docs/stable/user_guide/indexing.html#returning-a-view-versus-a-copy\n",
      "  posterior_predictive_df[\"action_context\"] = posterior_predictive_df.action_context.apply(lambda x: json.dumps(simulations.to_experiment_action_context_format(x)))\n",
      "/var/folders/gv/42lb0z1j4dxf3wsk74nrxwx80000gn/T/ipykernel_42687/1728293801.py:3: SettingWithCopyWarning: \n",
      "A value is trying to be set on a copy of a slice from a DataFrame.\n",
      "Try using .loc[row_indexer,col_indexer] = value instead\n",
      "\n",
      "See the caveats in the documentation: https://pandas.pydata.org/pandas-docs/stable/user_guide/indexing.html#returning-a-view-versus-a-copy\n",
      "  posterior_predictive_df[\"feature\"] = posterior_predictive_df.feature.apply(lambda x: simulations.sim_to_exp_stimulus[x])\n"
     ]
    }
   ],
   "source": [
    "posterior_predictive_df = exp_one_full_df[models_to_export + [\"action_context\", \"feature\", \"value\"]]\n",
    "posterior_predictive_df[\"action_context\"] = posterior_predictive_df.action_context.apply(lambda x: json.dumps(simulations.to_experiment_action_context_format(x)))\n",
    "posterior_predictive_df[\"feature\"] = posterior_predictive_df.feature.apply(lambda x: simulations.sim_to_exp_stimulus[x])\n",
    "\n",
    "posterior_predictive_df.head()\n",
    "\n",
    "posterior_predictive_df.to_json(\"exp1_posterior_predictive_mle.json\", orient='records')"
   ]
  },
  {
   "cell_type": "code",
   "execution_count": 28,
   "metadata": {},
   "outputs": [],
   "source": [
    "import re\n",
    "\n",
    "def string_to_context_df(context_string):\n",
    "    \n",
    "    f = re.findall(\"|\".join(sb_all_features), context_string)\n",
    "    context_tuple = [(f[0], f[1]), (f[2], f[3]), (f[4], f[5])]\n",
    "\n",
    "    return simulations.generate_context_from_actions(context_tuple)\n",
    "\n",
    "def string_to_context_json(context_string):\n",
    "    \n",
    "    return string_to_context_df(context_string).to_json(orient='records')"
   ]
  },
  {
   "cell_type": "markdown",
   "metadata": {},
   "source": [
    "# Experiment 2: \"Loose Talk\"\n",
    "\n",
    "Here, we want to show that people follow **relevance** rather than **truthfulness**: they will lie in order to optimize decision making.\n",
    "\n",
    "There are two possible varieties of this: using zero-value features (red/triangle) and seeing if people are willing to send non-zero messages; or (2) looking at low-magnitude features (square/circle) and seeing if they are willing to exaggerate.\n",
    "\n",
    "1. Fix *feature* (e.g. red / triangle / square / circle)\n",
    "2. Fix *value* (e.g. 2) and see if they'd rather be relevant (send \"circle\") or truthful (send \"green\") "
   ]
  },
  {
   "cell_type": "code",
   "execution_count": 29,
   "metadata": {},
   "outputs": [],
   "source": [
    "def generate_and_analyze_trials(feature, values, filter_relevant=True, listener_beta=3):\n",
    "    \n",
    "    exp_2_utterances = list(itertools.product([feature], values))\n",
    "        \n",
    "    listener_agent = StatelessLiteralListener(beta=listener_beta, features=sb_all_features, possible_worlds=sb_worlds)\n",
    "    speaker_agent = CombinedSpeaker(listener=listener_agent, beta=0, w=sb_rewards, name=\"\")\n",
    "    exp2 = simulations.speaker_utterance_probabilities_multiple_action_contexts(sb_all_action_contexts, [speaker_agent], exp_2_utterances, sb_rewards)\n",
    "\n",
    "    # Filter down to contexts which contain the target feature\n",
    "    exp2[\"feature_occurence\"] = exp2.action_context.apply(lambda x: len(re.findall(feature, x)))\n",
    "\n",
    "    if filter_relevant:\n",
    "        exp2 = exp2[exp2.feature_occurence > 0]\n",
    "    \n",
    "    # Round the reward differential so we only consider meaningful differences\n",
    "    exp2[\"reward_diff\"] = round(exp2.expected_rewards - exp2.no_utterance_rewards, 2)\n",
    "\n",
    "    exp2[\"truthful_negative\"] = ((exp2.truthful) & (exp2.reward_diff < 0))\n",
    "    exp2[\"false_positive\"] = ((~exp2.truthful) & (exp2.reward_diff > 0))\n",
    "\n",
    "    exp2[\"objective_conflict\"] = (exp2.truthful_negative | exp2.false_positive)\n",
    "    exp2[\"rounded_reward_diff\"] = myround(exp2.reward_diff)\n",
    "\n",
    "    return exp2\n",
    "\n",
    "def myround(x, prec=2, base=.25):\n",
    "    \n",
    "    return (base * (np.array(x) / base).round()).round(prec)\n",
    "         \n",
    "def generate_endorsement_trial(df_row):\n",
    "    \n",
    "    output = simulations.to_experiment_trial([df_row[\"action_context\"]], \n",
    "                                             features=[df_row[\"feature\"]], \n",
    "                                             values=[df_row[\"value\"]],\n",
    "                                             trial_type=\"slider\")\n",
    "    \n",
    "    output[\"reward_diff\"] = df_row[\"reward_diff\"]\n",
    "    output[\"expected_rewards\"] = df_row[\"expected_rewards\"]\n",
    "    output[\"truthful\"] = df_row[\"truthful\"]\n",
    "    output[\"no_utterance_rewards\"] = df_row[\"no_utterance_rewards\"]\n",
    "    output[\"original_action_context\"] = df_row[\"action_context\"]\n",
    "    \n",
    "    return output\n",
    " \n",
    "square_trials = generate_and_analyze_trials(\"square\", [-1, +1])\n",
    "circle_trials = generate_and_analyze_trials(\"circle\", [-1, +1])\n",
    "\n",
    "exp2_weak_features = pd.concat([square_trials, circle_trials])\n",
    "\n",
    "triangle_trials = generate_and_analyze_trials(\"triangle\", [-1, 0, +1])\n",
    "red_trials = generate_and_analyze_trials(\"red\", [-1, 0, +1])\n",
    "\n",
    "exp2_neutral_features = pd.concat([triangle_trials, red_trials])"
   ]
  },
  {
   "cell_type": "code",
   "execution_count": 30,
   "metadata": {},
   "outputs": [
    {
     "data": {
      "image/png": "[encoded data removed]",
      "text/plain": [
       "<Figure size 432x288 with 1 Axes>"
      ]
     },
     "metadata": {
      "needs_background": "light"
     },
     "output_type": "display_data"
    }
   ],
   "source": [
    "# multi_occurence = conflicted[conflicted.feature_occurence > 1]\n",
    "# sns.histplot(multi_occurence, x='reward_diff', hue='truthful', multiple='dodge', bins=30)\n",
    "# print(len(multi_occurence))\n",
    "\n",
    "conflicted_weak = exp2_weak_features[exp2_weak_features.objective_conflict]\n",
    "\n",
    "# TODO: DE-stratify here and use every utterance\n",
    "sns.histplot(conflicted_weak, x='reward_diff', hue='truthful', multiple='dodge', bins=30, alpha=.5)\n",
    "\n",
    "stratified_conflicted_weak = conflicted_weak.groupby([\"feature\", \"reward_diff\"]).sample(1)\n",
    "sns.histplot(stratified_conflicted_weak, x='reward_diff', hue='truthful', multiple='dodge', bins=30)\n",
    "\n",
    "plt.title(\"{} Conflicting: {} total, {} stratified\".format(\n",
    "    stratified_conflicted_weak.feature.unique(), \n",
    "    len(conflicted_weak), \n",
    "    len(stratified_conflicted_weak)));"
   ]
  },
  {
   "cell_type": "code",
   "execution_count": 31,
   "metadata": {},
   "outputs": [
    {
     "data": {
      "text/plain": [
       "red         28\n",
       "triangle    16\n",
       "Name: feature, dtype: int64"
      ]
     },
     "execution_count": 31,
     "metadata": {},
     "output_type": "execute_result"
    },
    {
     "data": {
      "image/png": "[encoded data removed]",
      "text/plain": [
       "<Figure size 432x288 with 1 Axes>"
      ]
     },
     "metadata": {
      "needs_background": "light"
     },
     "output_type": "display_data"
    }
   ],
   "source": [
    "conflicted_neutral = exp2_neutral_features[exp2_neutral_features.objective_conflict]\n",
    "\n",
    "stratified_conflicted_neutral = conflicted_neutral.groupby([\"feature\", \"reward_diff\", \"value\"]).sample(1)\n",
    "\n",
    "sns.histplot(conflicted_neutral, x='reward_diff', multiple='dodge', bins=30, alpha=.5)\n",
    "sns.histplot(stratified_conflicted_neutral, x='reward_diff',  multiple='dodge', bins=30)\n",
    "\n",
    "plt.title(\"{} Conflicting: {} total, {} stratified\".format(\n",
    "    conflicted_neutral.feature.unique(), \n",
    "    len(conflicted_neutral),\n",
    "    len(stratified_conflicted_neutral)));\n",
    "\n",
    "stratified_conflicted_neutral.feature.value_counts()\n",
    "# for i, r in conflicted_neutral.sample(3).iterrows():\n",
    "#     visualizations.plot_color_string(r[\"action_context\"], title=\"{}: {} --> {}\".format(r[\"feature\"], r[\"value\"], r[\"reward_diff\"]))"
   ]
  },
  {
   "cell_type": "code",
   "execution_count": 32,
   "metadata": {},
   "outputs": [
    {
     "name": "stdout",
     "output_type": "stream",
     "text": [
      "Example conflicted context / utterance pairs\n"
     ]
    },
    {
     "data": {
      "image/png": "[encoded data removed]",
      "text/plain": [
       "<Figure size 144x144 with 1 Axes>"
      ]
     },
     "metadata": {
      "needs_background": "light"
     },
     "output_type": "display_data"
    },
    {
     "data": {
      "image/png": "[encoded data removed]",
      "text/plain": [
       "<Figure size 144x144 with 1 Axes>"
      ]
     },
     "metadata": {
      "needs_background": "light"
     },
     "output_type": "display_data"
    },
    {
     "data": {
      "image/png": "[encoded data removed]",
      "text/plain": [
       "<Figure size 144x144 with 1 Axes>"
      ]
     },
     "metadata": {
      "needs_background": "light"
     },
     "output_type": "display_data"
    }
   ],
   "source": [
    "print(\"Example conflicted context / utterance pairs\")\n",
    "for i, r in stratified_conflicted_weak.sample(3).iterrows():\n",
    "    visualizations.plot_color_string(r[\"action_context\"], title=\"{}: {} --> {}\".format(r[\"feature\"], r[\"value\"], r[\"reward_diff\"]))"
   ]
  },
  {
   "cell_type": "code",
   "execution_count": 33,
   "metadata": {},
   "outputs": [
    {
     "data": {
      "image/png": "[encoded data removed]",
      "text/plain": [
       "<Figure size 432x288 with 1 Axes>"
      ]
     },
     "metadata": {
      "needs_background": "light"
     },
     "output_type": "display_data"
    }
   ],
   "source": [
    "aligned_weak = exp2_weak_features[~exp2_weak_features.objective_conflict]\n",
    "\n",
    "# TODO: allow these to range UP TO 2.2, DOWN TO -1.5 so that we have same range as \"conflicting\"\n",
    "aligned_weak = aligned_weak[(aligned_weak.reward_diff <= 2.3) & (aligned_weak.reward_diff >= -1.44)]\n",
    "\n",
    "stratified_aligned_weak = aligned_weak.groupby([\"feature\", \"value\", \"reward_diff\"]).sample(1)\n",
    "\n",
    "sns.histplot(stratified_aligned_weak, x=\"reward_diff\", hue=\"truthful\", multiple='dodge', bins=30, alpha=.5)\n",
    "sns.histplot(aligned_weak, x=\"reward_diff\", hue=\"truthful\", multiple='dodge', bins=30, alpha=.5)\n",
    "\n",
    "plt.title(\"{} Aligned: {} total, {} stratified\".format(\n",
    "    aligned_weak.feature.unique(), \n",
    "    len(aligned_weak),\n",
    "    len(stratified_aligned_weak)));\n",
    "\n",
    "plt.show()"
   ]
  },
  {
   "cell_type": "code",
   "execution_count": 34,
   "metadata": {},
   "outputs": [
    {
     "data": {
      "image/png": "[encoded data removed]",
      "text/plain": [
       "<Figure size 432x288 with 1 Axes>"
      ]
     },
     "metadata": {
      "needs_background": "light"
     },
     "output_type": "display_data"
    }
   ],
   "source": [
    "aligned_neutral = exp2_neutral_features[~exp2_neutral_features.objective_conflict]\n",
    "aligned_neutral = aligned_neutral[~aligned_neutral.truthful]\n",
    "\n",
    "aligned_neutral = aligned_neutral[aligned_neutral.reward_diff >= -1.44]\n",
    "stratified_aligned_neutral = aligned_neutral.groupby([\"feature\", \"reward_diff\", \"value\"]).sample(1)\n",
    "\n",
    "sns.histplot(stratified_aligned_neutral, x=\"reward_diff\", hue=\"truthful\", multiple='dodge', bins=30)\n",
    "plt.title(\"{}: {} Aligned Context-Utterance Pairs\".format(stratified_aligned_neutral.feature.unique(), len(stratified_aligned_neutral)));\n",
    "\n",
    "plt.show()"
   ]
  },
  {
   "cell_type": "code",
   "execution_count": 35,
   "metadata": {},
   "outputs": [
    {
     "data": {
      "text/plain": [
       "<AxesSubplot:xlabel='reward_diff', ylabel='Count'>"
      ]
     },
     "execution_count": 35,
     "metadata": {},
     "output_type": "execute_result"
    },
    {
     "data": {
      "image/png": "[encoded data removed]",
      "text/plain": [
       "<Figure size 432x288 with 1 Axes>"
      ]
     },
     "metadata": {
      "needs_background": "light"
     },
     "output_type": "display_data"
    }
   ],
   "source": [
    "aligned = pd.concat([stratified_aligned_weak, stratified_aligned_neutral])\n",
    "sns.histplot(aligned, x=\"reward_diff\", hue=\"truthful\", multiple='dodge', bins=30)"
   ]
  },
  {
   "cell_type": "code",
   "execution_count": 36,
   "metadata": {},
   "outputs": [
    {
     "name": "stdout",
     "output_type": "stream",
     "text": [
      "28\n",
      "44\n",
      "92\n"
     ]
    }
   ],
   "source": [
    "print(len(stratified_conflicted_weak))\n",
    "print(len(stratified_conflicted_neutral))\n",
    "print(len(aligned))"
   ]
  },
  {
   "cell_type": "code",
   "execution_count": 37,
   "metadata": {},
   "outputs": [
    {
     "name": "stdout",
     "output_type": "stream",
     "text": [
      "41\n",
      "red         49\n",
      "square      37\n",
      "circle      34\n",
      "triangle    24\n",
      "Name: feature, dtype: int64\n"
     ]
    }
   ],
   "source": [
    "# 28 conflicting \"weak\"\n",
    "# 44 conflicting \"neutral\"\n",
    "# = 72\n",
    "\n",
    "# 52 aligned \"weak\"\n",
    "# 48 aligned \"neutral\"\n",
    "# = 92 total --> sample to 72\n",
    "\n",
    "conflicted_for_pilot = pd.concat([stratified_conflicted_weak.sort_values([\"feature\", \"truthful\", \"reward_diff\"]),\n",
    "                                  stratified_conflicted_neutral.sort_values([\"feature\", \"truthful\", \"reward_diff\"])])\n",
    "\n",
    "aligned_for_pilot = aligned.sample(len(conflicted_for_pilot)).sort_values([\"feature\", \"truthful\", \"reward_diff\"])\n",
    "\n",
    "sample_for_pilot = pd.concat([aligned_for_pilot, conflicted_for_pilot])\n",
    "\n",
    "print(len(sample_for_pilot[sample_for_pilot.truthful]))\n",
    "print(sample_for_pilot.feature.value_counts())"
   ]
  },
  {
   "cell_type": "code",
   "execution_count": 38,
   "metadata": {},
   "outputs": [
    {
     "data": {
      "text/plain": [
       "truth  utility\n",
       "false  neg        42\n",
       "       pos        61\n",
       "true   neg        14\n",
       "       pos        27\n",
       "dtype: int64"
      ]
     },
     "execution_count": 38,
     "metadata": {},
     "output_type": "execute_result"
    }
   ],
   "source": [
    "sample_for_pilot[\"utility\"] = sample_for_pilot.reward_diff.apply(lambda x: \"pos\" if x >= 0 else \"neg\")\n",
    "sample_for_pilot[\"truth\"] = sample_for_pilot.truthful.apply(lambda x: \"true\" if x else \"false\")\n",
    "\n",
    "sample_for_pilot.groupby([\"truth\", \"utility\"]).size()"
   ]
  },
  {
   "cell_type": "code",
   "execution_count": 39,
   "metadata": {},
   "outputs": [
    {
     "data": {
      "text/plain": [
       "(-2.5, 2.5)"
      ]
     },
     "execution_count": 39,
     "metadata": {},
     "output_type": "execute_result"
    },
    {
     "data": {
      "image/png": "[encoded data removed]",
      "text/plain": [
       "<Figure size 432x288 with 1 Axes>"
      ]
     },
     "metadata": {
      "needs_background": "light"
     },
     "output_type": "display_data"
    }
   ],
   "source": [
    "sns.histplot(sample_for_pilot, x='reward_diff', hue='truthful', multiple='dodge', bins=30)\n",
    "\n",
    "for x in [-2, -1, 0, 1, 2]:\n",
    "    plt.axvline(x, c='k', linewidth=1, linestyle='--', zorder=0)\n",
    "plt.xlim(-2.5, 2.5)"
   ]
  },
  {
   "cell_type": "code",
   "execution_count": 40,
   "metadata": {},
   "outputs": [
    {
     "data": {
      "text/plain": [
       "objective_conflict\n",
       "False    72\n",
       "True     72\n",
       "dtype: int64"
      ]
     },
     "execution_count": 40,
     "metadata": {},
     "output_type": "execute_result"
    }
   ],
   "source": [
    "sample_for_pilot.groupby(\"objective_conflict\").size()"
   ]
  },
  {
   "cell_type": "code",
   "execution_count": 41,
   "metadata": {},
   "outputs": [
    {
     "data": {
      "image/png": "[encoded data removed]",
      "text/plain": [
       "<Figure size 432x288 with 1 Axes>"
      ]
     },
     "metadata": {
      "needs_background": "light"
     },
     "output_type": "display_data"
    }
   ],
   "source": [
    "reindexed = sample_for_pilot.reset_index()\n",
    "reindexed.reward_diff.plot()\n",
    "\n",
    "n_splits = 4\n",
    "\n",
    "# Generate three splits\n",
    "splits = [[],[], [], []]\n",
    "validation = [[],[],[], []]\n",
    "\n",
    "for i, row in reindexed.iterrows():\n",
    "    \n",
    "    splits[i%n_splits].append(generate_endorsement_trial(row))\n",
    "    validation[i%n_splits].append(row)"
   ]
  },
  {
   "cell_type": "code",
   "execution_count": 42,
   "metadata": {},
   "outputs": [
    {
     "data": {
      "text/plain": [
       "Text(0.5, 0, 'index')"
      ]
     },
     "execution_count": 42,
     "metadata": {},
     "output_type": "execute_result"
    },
    {
     "data": {
      "image/png": "[encoded data removed]",
      "text/plain": [
       "<Figure size 432x288 with 1 Axes>"
      ]
     },
     "metadata": {
      "needs_background": "light"
     },
     "output_type": "display_data"
    }
   ],
   "source": [
    "for v in validation:\n",
    "    pd.DataFrame(v).reward_diff.plot(alpha=.8, linewidth=5)\n",
    "\n",
    "plt.title(\"Ensuring equal reward spread in splits\")\n",
    "plt.ylabel(\"Reward diff from utterance\")\n",
    "plt.xlabel(\"index\")"
   ]
  },
  {
   "cell_type": "code",
   "execution_count": 43,
   "metadata": {},
   "outputs": [
    {
     "data": {
      "text/plain": [
       "Red        13\n",
       "Spotted     9\n",
       "Striped     8\n",
       "Solid       6\n",
       "Name: features, dtype: int64"
      ]
     },
     "execution_count": 43,
     "metadata": {},
     "output_type": "execute_result"
    }
   ],
   "source": [
    "pd.DataFrame.from_dict(splits[0]).features.apply(lambda x: x[0]).value_counts()"
   ]
  },
  {
   "cell_type": "code",
   "execution_count": 44,
   "metadata": {},
   "outputs": [
    {
     "data": {
      "text/plain": [
       "Red        12\n",
       "Spotted     9\n",
       "Striped     9\n",
       "Solid       6\n",
       "Name: features, dtype: int64"
      ]
     },
     "execution_count": 44,
     "metadata": {},
     "output_type": "execute_result"
    }
   ],
   "source": [
    "pd.DataFrame.from_dict(splits[1]).features.apply(lambda x: x[0]).value_counts()"
   ]
  },
  {
   "cell_type": "code",
   "execution_count": 45,
   "metadata": {},
   "outputs": [
    {
     "data": {
      "text/plain": [
       "Red        12\n",
       "Striped    10\n",
       "Spotted     8\n",
       "Solid       6\n",
       "Name: features, dtype: int64"
      ]
     },
     "execution_count": 45,
     "metadata": {},
     "output_type": "execute_result"
    }
   ],
   "source": [
    "pd.DataFrame.from_dict(splits[2]).features.apply(lambda x: x[0]).value_counts()"
   ]
  },
  {
   "cell_type": "code",
   "execution_count": 46,
   "metadata": {},
   "outputs": [
    {
     "name": "stdout",
     "output_type": "stream",
     "text": [
      "Split 0: 36 trials.\n",
      "Split 1: 36 trials.\n",
      "Split 2: 36 trials.\n",
      "Split 3: 36 trials.\n"
     ]
    }
   ],
   "source": [
    "for i, split in enumerate(splits):\n",
    "\n",
    "    print(\"Split {}: {} trials.\".format(i, len(split)))\n",
    "\n",
    "#     with open(\"../signaling-bandits-exp/static/json/exp2_split{}.json\".format(i+1), 'w') as outfile:\n",
    "#         json.dump(split, outfile)"
   ]
  },
  {
   "cell_type": "markdown",
   "metadata": {},
   "source": [
    "### Generate list of all possible Exp2+ trials\n",
    "Used in experiment analysis."
   ]
  },
  {
   "cell_type": "code",
   "execution_count": 47,
   "metadata": {},
   "outputs": [],
   "source": [
    "all_exp2_trials = pd.concat([exp2_weak_features,exp2_neutral_features]).reset_index()\n",
    "\n",
    "exp2_trials = all_exp2_trials.apply(lambda x: generate_endorsement_trial(x), axis=1)\n",
    "exp2_trials = pd.DataFrame(list(exp2_trials))\n",
    "exp2_trials.to_json(\"exp2_all_trials.json\")"
   ]
  },
  {
   "cell_type": "code",
   "execution_count": 48,
   "metadata": {},
   "outputs": [],
   "source": [
    "square_trials = generate_and_analyze_trials(\"square\", [-1, +1], listener_beta=1)\n",
    "circle_trials = generate_and_analyze_trials(\"circle\", [-1, +1], listener_beta=1)\n",
    "triangle_trials = generate_and_analyze_trials(\"triangle\", [-1, 0, +1], listener_beta=1)\n",
    "red_trials = generate_and_analyze_trials(\"red\", [-1, 0, +1], listener_beta=1)\n",
    "\n",
    "exp2_weak_listener = pd.concat([square_trials, circle_trials, triangle_trials, red_trials])\n",
    "\n",
    "exp2_trials = exp2_weak_listener.apply(lambda x: generate_endorsement_trial(x), axis=1)\n",
    "exp2_trials = pd.DataFrame(list(exp2_trials))\n",
    "\n",
    "exp2_trials.to_json(\"exp2_all_trials_beta_one.json\")"
   ]
  },
  {
   "cell_type": "markdown",
   "metadata": {},
   "source": [
    "# Experiment 3: \"Truthfulness Follows Relevance\"\n",
    "\n",
    "Here, we want to show that **truthfulness** follows **relevance**: uncertainty over decision context prevents people from simplifying.    "
   ]
  },
  {
   "cell_type": "markdown",
   "metadata": {},
   "source": [
    "## Long-horizon cost of false utterances"
   ]
  },
  {
   "cell_type": "code",
   "execution_count": 49,
   "metadata": {},
   "outputs": [],
   "source": [
    "square_exp3 = generate_and_analyze_trials(\"square\", [-1, +1], filter_relevant=False)\n",
    "circle_exp3 = generate_and_analyze_trials(\"circle\", [-1, +1], filter_relevant=False)\n",
    "red_exp3 = generate_and_analyze_trials(\"red\", [-1, +1], filter_relevant=False)\n",
    "triangle_exp3 = generate_and_analyze_trials(\"triangle\", [-1, +1], filter_relevant=False)\n",
    "\n",
    "exp3_all_features = pd.concat([square_exp3, circle_exp3, red_exp3, triangle_exp3])"
   ]
  },
  {
   "cell_type": "code",
   "execution_count": 50,
   "metadata": {},
   "outputs": [
    {
     "data": {
      "text/plain": [
       "feature   value\n",
       "circle    -1      -0.43345\n",
       "           1       0.56250\n",
       "red       -1       0.00000\n",
       "           1      -0.00000\n",
       "square    -1       0.43345\n",
       "           1      -0.56250\n",
       "triangle  -1       0.00000\n",
       "           1      -0.00000\n",
       "Name: reward_diff, dtype: float64"
      ]
     },
     "execution_count": 50,
     "metadata": {},
     "output_type": "execute_result"
    }
   ],
   "source": [
    "exp3_all_features.groupby([\"feature\", \"value\"]).reward_diff.mean().round(5)"
   ]
  },
  {
   "cell_type": "code",
   "execution_count": 51,
   "metadata": {},
   "outputs": [
    {
     "data": {
      "text/plain": [
       "84"
      ]
     },
     "execution_count": 51,
     "metadata": {},
     "output_type": "execute_result"
    }
   ],
   "source": [
    "exp3_all_features.action_context.nunique()"
   ]
  },
  {
   "cell_type": "markdown",
   "metadata": {},
   "source": [
    "# Miscellaneous"
   ]
  },
  {
   "cell_type": "markdown",
   "metadata": {},
   "source": [
    "### Catch Trials"
   ]
  },
  {
   "cell_type": "code",
   "execution_count": 52,
   "metadata": {},
   "outputs": [],
   "source": [
    "strong_true_pos_circle = [\n",
    "    \"['blue triangle' 'green circle' 'red square']\",\n",
    "    \"['blue square' 'blue triangle' 'red circle']\",\n",
    "    \"['blue triangle' 'green circle' 'green square']\",\n",
    "    \"['blue square' 'green circle' 'red triangle']\"]\n",
    "\n",
    "strong_true_pos_square = [\n",
    "    \"['blue square' 'green circle' 'red square']\",\n",
    "    \"['blue square' 'green square' 'green triangle']\",\n",
    "    \"['blue square' 'red circle' 'red square']\",\n",
    "    \"['blue square' 'green triangle' 'red circle']\"]"
   ]
  },
  {
   "cell_type": "markdown",
   "metadata": {},
   "source": [
    "### Validating WebPPL Models"
   ]
  },
  {
   "cell_type": "code",
   "execution_count": 53,
   "metadata": {},
   "outputs": [
    {
     "data": {
      "text/html": [
       "<div>\n",
       "<style scoped>\n",
       "    .dataframe tbody tr th:only-of-type {\n",
       "        vertical-align: middle;\n",
       "    }\n",
       "\n",
       "    .dataframe tbody tr th {\n",
       "        vertical-align: top;\n",
       "    }\n",
       "\n",
       "    .dataframe thead th {\n",
       "        text-align: right;\n",
       "    }\n",
       "</style>\n",
       "<table border=\"1\" class=\"dataframe\">\n",
       "  <thead>\n",
       "    <tr style=\"text-align: right;\">\n",
       "      <th></th>\n",
       "      <th>speaker</th>\n",
       "      <th>expected_rewards</th>\n",
       "    </tr>\n",
       "  </thead>\n",
       "  <tbody>\n",
       "    <tr>\n",
       "      <th>0</th>\n",
       "      <td>Utility</td>\n",
       "      <td>0.968478</td>\n",
       "    </tr>\n",
       "  </tbody>\n",
       "</table>\n",
       "</div>"
      ],
      "text/plain": [
       "   speaker  expected_rewards\n",
       "0  Utility          0.968478"
      ]
     },
     "execution_count": 53,
     "metadata": {},
     "output_type": "execute_result"
    },
    {
     "data": {
      "image/png": "[encoded data removed]",
      "text/plain": [
       "<Figure size 216x216 with 1 Axes>"
      ]
     },
     "metadata": {
      "needs_background": "light"
     },
     "output_type": "display_data"
    },
    {
     "data": {
      "image/png": "[encoded data removed]",
      "text/plain": [
       "<Figure size 432x288 with 2 Axes>"
      ]
     },
     "metadata": {
      "needs_background": "light"
     },
     "output_type": "display_data"
    }
   ],
   "source": [
    "demo_bandit = (('red', 'circle'), ('blue', 'triangle'), ('blue', 'square'))\n",
    "demo_action_context = simulations.generate_context_from_actions(demo_bandit)\n",
    "\n",
    "# Define a listener\n",
    "sb_listener = StatelessLiteralListener(beta=3, features=sb_all_features, possible_worlds=sb_worlds)\n",
    "combined_speaker = CombinedSpeaker(sb_listener, beta=10, w=sb_rewards, name=\"Utility\")\n",
    "\n",
    "df = simulations.speakers_utterance_probabilities_single_action_context(demo_action_context, [combined_speaker], exp_1_utterances, sb_rewards)\n",
    "\n",
    "visualizations.plot_action_df(demo_action_context)\n",
    "visualizations.heatmap_speaker_action_dataframe(df, combined_speaker, sb_rewards, vmax=.25, cmap='Oranges')\n",
    "\n",
    "simulations.summarize_speakers_performance(df, [combined_speaker])[[\"speaker\", \"expected_rewards\"]]"
   ]
  },
  {
   "cell_type": "code",
   "execution_count": 54,
   "metadata": {},
   "outputs": [
    {
     "data": {
      "text/html": [
       "<div>\n",
       "<style scoped>\n",
       "    .dataframe tbody tr th:only-of-type {\n",
       "        vertical-align: middle;\n",
       "    }\n",
       "\n",
       "    .dataframe tbody tr th {\n",
       "        vertical-align: top;\n",
       "    }\n",
       "\n",
       "    .dataframe thead th {\n",
       "        text-align: right;\n",
       "    }\n",
       "</style>\n",
       "<table border=\"1\" class=\"dataframe\">\n",
       "  <thead>\n",
       "    <tr style=\"text-align: right;\">\n",
       "      <th></th>\n",
       "      <th>utterance</th>\n",
       "      <th>Utility_prob</th>\n",
       "    </tr>\n",
       "  </thead>\n",
       "  <tbody>\n",
       "    <tr>\n",
       "      <th>2</th>\n",
       "      <td>(blue, -2)</td>\n",
       "      <td>3.174770e-01</td>\n",
       "    </tr>\n",
       "    <tr>\n",
       "      <th>15</th>\n",
       "      <td>(circle, 2)</td>\n",
       "      <td>3.174770e-01</td>\n",
       "    </tr>\n",
       "    <tr>\n",
       "      <th>10</th>\n",
       "      <td>(red, 2)</td>\n",
       "      <td>3.174770e-01</td>\n",
       "    </tr>\n",
       "    <tr>\n",
       "      <th>18</th>\n",
       "      <td>(circle, 1)</td>\n",
       "      <td>1.585630e-02</td>\n",
       "    </tr>\n",
       "    <tr>\n",
       "      <th>13</th>\n",
       "      <td>(red, 1)</td>\n",
       "      <td>1.585630e-02</td>\n",
       "    </tr>\n",
       "    <tr>\n",
       "      <th>4</th>\n",
       "      <td>(blue, -1)</td>\n",
       "      <td>1.585630e-02</td>\n",
       "    </tr>\n",
       "    <tr>\n",
       "      <th>22</th>\n",
       "      <td>(square, -2)</td>\n",
       "      <td>1.119023e-07</td>\n",
       "    </tr>\n",
       "    <tr>\n",
       "      <th>24</th>\n",
       "      <td>(square, -1)</td>\n",
       "      <td>6.288767e-08</td>\n",
       "    </tr>\n",
       "    <tr>\n",
       "      <th>27</th>\n",
       "      <td>(triangle, -2)</td>\n",
       "      <td>7.681226e-10</td>\n",
       "    </tr>\n",
       "    <tr>\n",
       "      <th>29</th>\n",
       "      <td>(triangle, -1)</td>\n",
       "      <td>6.099877e-10</td>\n",
       "    </tr>\n",
       "    <tr>\n",
       "      <th>9</th>\n",
       "      <td>(green, -1)</td>\n",
       "      <td>2.774330e-11</td>\n",
       "    </tr>\n",
       "    <tr>\n",
       "      <th>8</th>\n",
       "      <td>(green, 1)</td>\n",
       "      <td>2.774330e-11</td>\n",
       "    </tr>\n",
       "    <tr>\n",
       "      <th>1</th>\n",
       "      <td>(blue, 0)</td>\n",
       "      <td>2.774330e-11</td>\n",
       "    </tr>\n",
       "    <tr>\n",
       "      <th>16</th>\n",
       "      <td>(circle, 0)</td>\n",
       "      <td>2.774330e-11</td>\n",
       "    </tr>\n",
       "    <tr>\n",
       "      <th>7</th>\n",
       "      <td>(green, -2)</td>\n",
       "      <td>2.774330e-11</td>\n",
       "    </tr>\n",
       "    <tr>\n",
       "      <th>11</th>\n",
       "      <td>(red, 0)</td>\n",
       "      <td>2.774330e-11</td>\n",
       "    </tr>\n",
       "    <tr>\n",
       "      <th>21</th>\n",
       "      <td>(square, 0)</td>\n",
       "      <td>2.774330e-11</td>\n",
       "    </tr>\n",
       "    <tr>\n",
       "      <th>6</th>\n",
       "      <td>(green, 0)</td>\n",
       "      <td>2.774330e-11</td>\n",
       "    </tr>\n",
       "    <tr>\n",
       "      <th>26</th>\n",
       "      <td>(triangle, 0)</td>\n",
       "      <td>2.774330e-11</td>\n",
       "    </tr>\n",
       "    <tr>\n",
       "      <th>5</th>\n",
       "      <td>(green, 2)</td>\n",
       "      <td>2.774330e-11</td>\n",
       "    </tr>\n",
       "    <tr>\n",
       "      <th>28</th>\n",
       "      <td>(triangle, 1)</td>\n",
       "      <td>8.732643e-14</td>\n",
       "    </tr>\n",
       "    <tr>\n",
       "      <th>25</th>\n",
       "      <td>(triangle, 2)</td>\n",
       "      <td>3.709246e-14</td>\n",
       "    </tr>\n",
       "    <tr>\n",
       "      <th>14</th>\n",
       "      <td>(red, -1)</td>\n",
       "      <td>5.566573e-16</td>\n",
       "    </tr>\n",
       "    <tr>\n",
       "      <th>3</th>\n",
       "      <td>(blue, 1)</td>\n",
       "      <td>5.566573e-16</td>\n",
       "    </tr>\n",
       "    <tr>\n",
       "      <th>19</th>\n",
       "      <td>(circle, -1)</td>\n",
       "      <td>5.566573e-16</td>\n",
       "    </tr>\n",
       "    <tr>\n",
       "      <th>0</th>\n",
       "      <td>(blue, 2)</td>\n",
       "      <td>2.484304e-16</td>\n",
       "    </tr>\n",
       "    <tr>\n",
       "      <th>17</th>\n",
       "      <td>(circle, -2)</td>\n",
       "      <td>2.484304e-16</td>\n",
       "    </tr>\n",
       "    <tr>\n",
       "      <th>12</th>\n",
       "      <td>(red, -2)</td>\n",
       "      <td>2.484304e-16</td>\n",
       "    </tr>\n",
       "    <tr>\n",
       "      <th>23</th>\n",
       "      <td>(square, 1)</td>\n",
       "      <td>1.542151e-17</td>\n",
       "    </tr>\n",
       "    <tr>\n",
       "      <th>20</th>\n",
       "      <td>(square, 2)</td>\n",
       "      <td>1.813329e-18</td>\n",
       "    </tr>\n",
       "  </tbody>\n",
       "</table>\n",
       "</div>"
      ],
      "text/plain": [
       "         utterance  Utility_prob\n",
       "2       (blue, -2)  3.174770e-01\n",
       "15     (circle, 2)  3.174770e-01\n",
       "10        (red, 2)  3.174770e-01\n",
       "18     (circle, 1)  1.585630e-02\n",
       "13        (red, 1)  1.585630e-02\n",
       "4       (blue, -1)  1.585630e-02\n",
       "22    (square, -2)  1.119023e-07\n",
       "24    (square, -1)  6.288767e-08\n",
       "27  (triangle, -2)  7.681226e-10\n",
       "29  (triangle, -1)  6.099877e-10\n",
       "9      (green, -1)  2.774330e-11\n",
       "8       (green, 1)  2.774330e-11\n",
       "1        (blue, 0)  2.774330e-11\n",
       "16     (circle, 0)  2.774330e-11\n",
       "7      (green, -2)  2.774330e-11\n",
       "11        (red, 0)  2.774330e-11\n",
       "21     (square, 0)  2.774330e-11\n",
       "6       (green, 0)  2.774330e-11\n",
       "26   (triangle, 0)  2.774330e-11\n",
       "5       (green, 2)  2.774330e-11\n",
       "28   (triangle, 1)  8.732643e-14\n",
       "25   (triangle, 2)  3.709246e-14\n",
       "14       (red, -1)  5.566573e-16\n",
       "3        (blue, 1)  5.566573e-16\n",
       "19    (circle, -1)  5.566573e-16\n",
       "0        (blue, 2)  2.484304e-16\n",
       "17    (circle, -2)  2.484304e-16\n",
       "12       (red, -2)  2.484304e-16\n",
       "23     (square, 1)  1.542151e-17\n",
       "20     (square, 2)  1.813329e-18"
      ]
     },
     "execution_count": 54,
     "metadata": {},
     "output_type": "execute_result"
    }
   ],
   "source": [
    "df[[\"utterance\", \"Utility_prob\"]].sort_values(\"Utility_prob\", ascending=False)"
   ]
  },
  {
   "cell_type": "markdown",
   "metadata": {},
   "source": [
    "## Simulation-Based Power Analysis"
   ]
  },
  {
   "cell_type": "code",
   "execution_count": 55,
   "metadata": {},
   "outputs": [],
   "source": [
    "def simulation_row_to_webppl_input(row):\n",
    "    \n",
    "    action_context = simulations.to_experiment_action_context_format(row[\"action_context\"])\n",
    "\n",
    "    return {\"action_context\": action_context,\n",
    "            \"workerid\": \"simulated\",\n",
    "            \"objective\": \"simulated-ambiguous-MLE\",\n",
    "            \"response\": {\"feature\": simulations.sim_to_exp_stimulus[row[\"feature\"]], \n",
    "                         \"feature_value\": row[\"value\"]}}"
   ]
  },
  {
   "cell_type": "code",
   "execution_count": 56,
   "metadata": {},
   "outputs": [
    {
     "name": "stdout",
     "output_type": "stream",
     "text": [
      "ls: ../signaling-bandits-exp/data/webppl-input/power-analysis: No such file or directory\n"
     ]
    }
   ],
   "source": [
    "!ls \"../signaling-bandits-exp/data/webppl-input/power-analysis\""
   ]
  },
  {
   "cell_type": "code",
   "execution_count": 57,
   "metadata": {},
   "outputs": [
    {
     "data": {
      "text/html": [
       "<div>\n",
       "<style scoped>\n",
       "    .dataframe tbody tr th:only-of-type {\n",
       "        vertical-align: middle;\n",
       "    }\n",
       "\n",
       "    .dataframe tbody tr th {\n",
       "        vertical-align: top;\n",
       "    }\n",
       "\n",
       "    .dataframe thead th {\n",
       "        text-align: right;\n",
       "    }\n",
       "</style>\n",
       "<table border=\"1\" class=\"dataframe\">\n",
       "  <thead>\n",
       "    <tr style=\"text-align: right;\">\n",
       "      <th></th>\n",
       "      <th>utterance</th>\n",
       "      <th>feature</th>\n",
       "      <th>value</th>\n",
       "      <th>truthful</th>\n",
       "      <th>expected_rewards</th>\n",
       "      <th>prob_optimal_action</th>\n",
       "      <th>Belief Only</th>\n",
       "      <th>Action Only</th>\n",
       "      <th>Combined</th>\n",
       "      <th>MLE-unbiased-combined</th>\n",
       "      <th>...</th>\n",
       "      <th>Action Only_prob</th>\n",
       "      <th>Combined_prob</th>\n",
       "      <th>MLE-unbiased-combined_prob</th>\n",
       "      <th>MLE-unbiased-action-only_prob</th>\n",
       "      <th>MLE-unbiased-belief-only_prob</th>\n",
       "      <th>MLE-action-bias-combined_prob</th>\n",
       "      <th>MLE-belief-bias-combined_prob</th>\n",
       "      <th>MLE-unbiased-combined-valence_prob</th>\n",
       "      <th>action_context</th>\n",
       "      <th>no_utterance_rewards</th>\n",
       "    </tr>\n",
       "  </thead>\n",
       "  <tbody>\n",
       "    <tr>\n",
       "      <th>0</th>\n",
       "      <td>(blue, 2)</td>\n",
       "      <td>blue</td>\n",
       "      <td>2</td>\n",
       "      <td>False</td>\n",
       "      <td>-2.0</td>\n",
       "      <td>0.333333</td>\n",
       "      <td>-23.025851</td>\n",
       "      <td>-2.0</td>\n",
       "      <td>-1.5</td>\n",
       "      <td>-1.55</td>\n",
       "      <td>...</td>\n",
       "      <td>0.015605</td>\n",
       "      <td>0.004545</td>\n",
       "      <td>0.005550</td>\n",
       "      <td>0.025861</td>\n",
       "      <td>1.627604e-14</td>\n",
       "      <td>0.009188</td>\n",
       "      <td>0.008979</td>\n",
       "      <td>0.008471</td>\n",
       "      <td>['blue circle' 'blue square' 'blue triangle']</td>\n",
       "      <td>-2.0</td>\n",
       "    </tr>\n",
       "    <tr>\n",
       "      <th>1</th>\n",
       "      <td>(blue, 0)</td>\n",
       "      <td>blue</td>\n",
       "      <td>0</td>\n",
       "      <td>False</td>\n",
       "      <td>-2.0</td>\n",
       "      <td>0.333333</td>\n",
       "      <td>-23.025851</td>\n",
       "      <td>-2.0</td>\n",
       "      <td>-1.5</td>\n",
       "      <td>-1.55</td>\n",
       "      <td>...</td>\n",
       "      <td>0.015605</td>\n",
       "      <td>0.004545</td>\n",
       "      <td>0.005550</td>\n",
       "      <td>0.025861</td>\n",
       "      <td>1.627604e-14</td>\n",
       "      <td>0.009188</td>\n",
       "      <td>0.008979</td>\n",
       "      <td>0.004001</td>\n",
       "      <td>['blue circle' 'blue square' 'blue triangle']</td>\n",
       "      <td>-2.0</td>\n",
       "    </tr>\n",
       "    <tr>\n",
       "      <th>2</th>\n",
       "      <td>(blue, -2)</td>\n",
       "      <td>blue</td>\n",
       "      <td>-2</td>\n",
       "      <td>True</td>\n",
       "      <td>-2.0</td>\n",
       "      <td>0.333333</td>\n",
       "      <td>-8.047190</td>\n",
       "      <td>-2.0</td>\n",
       "      <td>-0.5</td>\n",
       "      <td>-0.65</td>\n",
       "      <td>...</td>\n",
       "      <td>0.015605</td>\n",
       "      <td>0.091281</td>\n",
       "      <td>0.082586</td>\n",
       "      <td>0.025861</td>\n",
       "      <td>1.666667e-01</td>\n",
       "      <td>0.030506</td>\n",
       "      <td>0.120887</td>\n",
       "      <td>0.028124</td>\n",
       "      <td>['blue circle' 'blue square' 'blue triangle']</td>\n",
       "      <td>-2.0</td>\n",
       "    </tr>\n",
       "    <tr>\n",
       "      <th>3</th>\n",
       "      <td>(blue, 1)</td>\n",
       "      <td>blue</td>\n",
       "      <td>1</td>\n",
       "      <td>False</td>\n",
       "      <td>-2.0</td>\n",
       "      <td>0.333333</td>\n",
       "      <td>-23.025851</td>\n",
       "      <td>-2.0</td>\n",
       "      <td>-1.5</td>\n",
       "      <td>-1.55</td>\n",
       "      <td>...</td>\n",
       "      <td>0.015605</td>\n",
       "      <td>0.004545</td>\n",
       "      <td>0.005550</td>\n",
       "      <td>0.025861</td>\n",
       "      <td>1.627604e-14</td>\n",
       "      <td>0.009188</td>\n",
       "      <td>0.008979</td>\n",
       "      <td>0.008471</td>\n",
       "      <td>['blue circle' 'blue square' 'blue triangle']</td>\n",
       "      <td>-2.0</td>\n",
       "    </tr>\n",
       "    <tr>\n",
       "      <th>4</th>\n",
       "      <td>(blue, -1)</td>\n",
       "      <td>blue</td>\n",
       "      <td>-1</td>\n",
       "      <td>False</td>\n",
       "      <td>-2.0</td>\n",
       "      <td>0.333333</td>\n",
       "      <td>-23.025851</td>\n",
       "      <td>-2.0</td>\n",
       "      <td>-1.5</td>\n",
       "      <td>-1.55</td>\n",
       "      <td>...</td>\n",
       "      <td>0.015605</td>\n",
       "      <td>0.004545</td>\n",
       "      <td>0.005550</td>\n",
       "      <td>0.025861</td>\n",
       "      <td>1.627604e-14</td>\n",
       "      <td>0.009188</td>\n",
       "      <td>0.008979</td>\n",
       "      <td>0.001890</td>\n",
       "      <td>['blue circle' 'blue square' 'blue triangle']</td>\n",
       "      <td>-2.0</td>\n",
       "    </tr>\n",
       "  </tbody>\n",
       "</table>\n",
       "<p>5 rows × 26 columns</p>\n",
       "</div>"
      ],
      "text/plain": [
       "    utterance feature  value  truthful  expected_rewards  prob_optimal_action  \\\n",
       "0   (blue, 2)    blue      2     False              -2.0             0.333333   \n",
       "1   (blue, 0)    blue      0     False              -2.0             0.333333   \n",
       "2  (blue, -2)    blue     -2      True              -2.0             0.333333   \n",
       "3   (blue, 1)    blue      1     False              -2.0             0.333333   \n",
       "4  (blue, -1)    blue     -1     False              -2.0             0.333333   \n",
       "\n",
       "   Belief Only  Action Only  Combined  MLE-unbiased-combined  ...  \\\n",
       "0   -23.025851         -2.0      -1.5                  -1.55  ...   \n",
       "1   -23.025851         -2.0      -1.5                  -1.55  ...   \n",
       "2    -8.047190         -2.0      -0.5                  -0.65  ...   \n",
       "3   -23.025851         -2.0      -1.5                  -1.55  ...   \n",
       "4   -23.025851         -2.0      -1.5                  -1.55  ...   \n",
       "\n",
       "   Action Only_prob  Combined_prob  MLE-unbiased-combined_prob  \\\n",
       "0          0.015605       0.004545                    0.005550   \n",
       "1          0.015605       0.004545                    0.005550   \n",
       "2          0.015605       0.091281                    0.082586   \n",
       "3          0.015605       0.004545                    0.005550   \n",
       "4          0.015605       0.004545                    0.005550   \n",
       "\n",
       "   MLE-unbiased-action-only_prob  MLE-unbiased-belief-only_prob  \\\n",
       "0                       0.025861                   1.627604e-14   \n",
       "1                       0.025861                   1.627604e-14   \n",
       "2                       0.025861                   1.666667e-01   \n",
       "3                       0.025861                   1.627604e-14   \n",
       "4                       0.025861                   1.627604e-14   \n",
       "\n",
       "   MLE-action-bias-combined_prob  MLE-belief-bias-combined_prob  \\\n",
       "0                       0.009188                       0.008979   \n",
       "1                       0.009188                       0.008979   \n",
       "2                       0.030506                       0.120887   \n",
       "3                       0.009188                       0.008979   \n",
       "4                       0.009188                       0.008979   \n",
       "\n",
       "   MLE-unbiased-combined-valence_prob  \\\n",
       "0                            0.008471   \n",
       "1                            0.004001   \n",
       "2                            0.028124   \n",
       "3                            0.008471   \n",
       "4                            0.001890   \n",
       "\n",
       "                                  action_context  no_utterance_rewards  \n",
       "0  ['blue circle' 'blue square' 'blue triangle']                  -2.0  \n",
       "1  ['blue circle' 'blue square' 'blue triangle']                  -2.0  \n",
       "2  ['blue circle' 'blue square' 'blue triangle']                  -2.0  \n",
       "3  ['blue circle' 'blue square' 'blue triangle']                  -2.0  \n",
       "4  ['blue circle' 'blue square' 'blue triangle']                  -2.0  \n",
       "\n",
       "[5 rows x 26 columns]"
      ]
     },
     "execution_count": 57,
     "metadata": {},
     "output_type": "execute_result"
    }
   ],
   "source": [
    "exp_one_full_df.head()"
   ]
  },
  {
   "cell_type": "code",
   "execution_count": 58,
   "metadata": {
    "tags": []
   },
   "outputs": [
    {
     "ename": "KeyError",
     "evalue": "'String passed to weights not a valid column'",
     "output_type": "error",
     "traceback": [
      "\u001b[0;31m---------------------------------------------------------------------------\u001b[0m",
      "\u001b[0;31mKeyError\u001b[0m                                  Traceback (most recent call last)",
      "File \u001b[0;32m~/opt/anaconda3/envs/jupyter/lib/python3.9/site-packages/pandas/core/indexes/base.py:3621\u001b[0m, in \u001b[0;36mIndex.get_loc\u001b[0;34m(self, key, method, tolerance)\u001b[0m\n\u001b[1;32m   3620\u001b[0m \u001b[38;5;28;01mtry\u001b[39;00m:\n\u001b[0;32m-> 3621\u001b[0m     \u001b[38;5;28;01mreturn\u001b[39;00m \u001b[38;5;28;43mself\u001b[39;49m\u001b[38;5;241;43m.\u001b[39;49m\u001b[43m_engine\u001b[49m\u001b[38;5;241;43m.\u001b[39;49m\u001b[43mget_loc\u001b[49m\u001b[43m(\u001b[49m\u001b[43mcasted_key\u001b[49m\u001b[43m)\u001b[49m\n\u001b[1;32m   3622\u001b[0m \u001b[38;5;28;01mexcept\u001b[39;00m \u001b[38;5;167;01mKeyError\u001b[39;00m \u001b[38;5;28;01mas\u001b[39;00m err:\n",
      "File \u001b[0;32m~/opt/anaconda3/envs/jupyter/lib/python3.9/site-packages/pandas/_libs/index.pyx:136\u001b[0m, in \u001b[0;36mpandas._libs.index.IndexEngine.get_loc\u001b[0;34m()\u001b[0m\n",
      "File \u001b[0;32m~/opt/anaconda3/envs/jupyter/lib/python3.9/site-packages/pandas/_libs/index.pyx:163\u001b[0m, in \u001b[0;36mpandas._libs.index.IndexEngine.get_loc\u001b[0;34m()\u001b[0m\n",
      "File \u001b[0;32mpandas/_libs/hashtable_class_helper.pxi:5198\u001b[0m, in \u001b[0;36mpandas._libs.hashtable.PyObjectHashTable.get_item\u001b[0;34m()\u001b[0m\n",
      "File \u001b[0;32mpandas/_libs/hashtable_class_helper.pxi:5206\u001b[0m, in \u001b[0;36mpandas._libs.hashtable.PyObjectHashTable.get_item\u001b[0;34m()\u001b[0m\n",
      "\u001b[0;31mKeyError\u001b[0m: 'MLE-Ambiguous_prob'",
      "\nThe above exception was the direct cause of the following exception:\n",
      "\u001b[0;31mKeyError\u001b[0m                                  Traceback (most recent call last)",
      "File \u001b[0;32m~/opt/anaconda3/envs/jupyter/lib/python3.9/site-packages/pandas/core/sample.py:38\u001b[0m, in \u001b[0;36mpreprocess_weights\u001b[0;34m(obj, weights, axis)\u001b[0m\n\u001b[1;32m     37\u001b[0m \u001b[38;5;28;01mtry\u001b[39;00m:\n\u001b[0;32m---> 38\u001b[0m     weights \u001b[38;5;241m=\u001b[39m \u001b[43mobj\u001b[49m\u001b[43m[\u001b[49m\u001b[43mweights\u001b[49m\u001b[43m]\u001b[49m\n\u001b[1;32m     39\u001b[0m \u001b[38;5;28;01mexcept\u001b[39;00m \u001b[38;5;167;01mKeyError\u001b[39;00m \u001b[38;5;28;01mas\u001b[39;00m err:\n",
      "File \u001b[0;32m~/opt/anaconda3/envs/jupyter/lib/python3.9/site-packages/pandas/core/frame.py:3505\u001b[0m, in \u001b[0;36mDataFrame.__getitem__\u001b[0;34m(self, key)\u001b[0m\n\u001b[1;32m   3504\u001b[0m     \u001b[38;5;28;01mreturn\u001b[39;00m \u001b[38;5;28mself\u001b[39m\u001b[38;5;241m.\u001b[39m_getitem_multilevel(key)\n\u001b[0;32m-> 3505\u001b[0m indexer \u001b[38;5;241m=\u001b[39m \u001b[38;5;28;43mself\u001b[39;49m\u001b[38;5;241;43m.\u001b[39;49m\u001b[43mcolumns\u001b[49m\u001b[38;5;241;43m.\u001b[39;49m\u001b[43mget_loc\u001b[49m\u001b[43m(\u001b[49m\u001b[43mkey\u001b[49m\u001b[43m)\u001b[49m\n\u001b[1;32m   3506\u001b[0m \u001b[38;5;28;01mif\u001b[39;00m is_integer(indexer):\n",
      "File \u001b[0;32m~/opt/anaconda3/envs/jupyter/lib/python3.9/site-packages/pandas/core/indexes/base.py:3623\u001b[0m, in \u001b[0;36mIndex.get_loc\u001b[0;34m(self, key, method, tolerance)\u001b[0m\n\u001b[1;32m   3622\u001b[0m \u001b[38;5;28;01mexcept\u001b[39;00m \u001b[38;5;167;01mKeyError\u001b[39;00m \u001b[38;5;28;01mas\u001b[39;00m err:\n\u001b[0;32m-> 3623\u001b[0m     \u001b[38;5;28;01mraise\u001b[39;00m \u001b[38;5;167;01mKeyError\u001b[39;00m(key) \u001b[38;5;28;01mfrom\u001b[39;00m \u001b[38;5;21;01merr\u001b[39;00m\n\u001b[1;32m   3624\u001b[0m \u001b[38;5;28;01mexcept\u001b[39;00m \u001b[38;5;167;01mTypeError\u001b[39;00m:\n\u001b[1;32m   3625\u001b[0m     \u001b[38;5;66;03m# If we have a listlike key, _check_indexing_error will raise\u001b[39;00m\n\u001b[1;32m   3626\u001b[0m     \u001b[38;5;66;03m#  InvalidIndexError. Otherwise we fall through and re-raise\u001b[39;00m\n\u001b[1;32m   3627\u001b[0m     \u001b[38;5;66;03m#  the TypeError.\u001b[39;00m\n",
      "\u001b[0;31mKeyError\u001b[0m: 'MLE-Ambiguous_prob'",
      "\nThe above exception was the direct cause of the following exception:\n",
      "\u001b[0;31mKeyError\u001b[0m                                  Traceback (most recent call last)",
      "Input \u001b[0;32mIn [58]\u001b[0m, in \u001b[0;36m<cell line: 4>\u001b[0;34m()\u001b[0m\n\u001b[1;32m      5\u001b[0m all_dfs \u001b[38;5;241m=\u001b[39m []\n\u001b[1;32m      7\u001b[0m \u001b[38;5;28;01mfor\u001b[39;00m context, utterances \u001b[38;5;129;01min\u001b[39;00m exp_one_full_df\u001b[38;5;241m.\u001b[39mgroupby(\u001b[38;5;124m\"\u001b[39m\u001b[38;5;124maction_context\u001b[39m\u001b[38;5;124m\"\u001b[39m):\n\u001b[1;32m      8\u001b[0m             \n\u001b[1;32m      9\u001b[0m     \u001b[38;5;66;03m# sample extra utterances to be safe MLE-Utility_prob\u001b[39;00m\n\u001b[0;32m---> 10\u001b[0m     simulated_utterances \u001b[38;5;241m=\u001b[39m \u001b[43mutterances\u001b[49m\u001b[38;5;241;43m.\u001b[39;49m\u001b[43msample\u001b[49m\u001b[43m(\u001b[49m\u001b[43mn\u001b[49m\u001b[38;5;241;43m=\u001b[39;49m\u001b[43mN_PARTICIPANTS\u001b[49m\u001b[43m,\u001b[49m\u001b[43m \u001b[49m\u001b[43mreplace\u001b[49m\u001b[38;5;241;43m=\u001b[39;49m\u001b[38;5;28;43;01mTrue\u001b[39;49;00m\u001b[43m,\u001b[49m\u001b[43m \u001b[49m\u001b[43mweights\u001b[49m\u001b[38;5;241;43m=\u001b[39;49m\u001b[38;5;124;43m\"\u001b[39;49m\u001b[38;5;124;43mMLE-Ambiguous_prob\u001b[39;49m\u001b[38;5;124;43m\"\u001b[39;49m\u001b[43m)\u001b[49m\n\u001b[1;32m     11\u001b[0m     all_dfs\u001b[38;5;241m.\u001b[39mappend(simulated_utterances)\n\u001b[1;32m     13\u001b[0m sampled_utterances \u001b[38;5;241m=\u001b[39m pd\u001b[38;5;241m.\u001b[39mconcat(all_dfs)\n",
      "File \u001b[0;32m~/opt/anaconda3/envs/jupyter/lib/python3.9/site-packages/pandas/core/generic.py:5452\u001b[0m, in \u001b[0;36mNDFrame.sample\u001b[0;34m(self, n, frac, replace, weights, random_state, axis, ignore_index)\u001b[0m\n\u001b[1;32m   5449\u001b[0m     size \u001b[38;5;241m=\u001b[39m \u001b[38;5;28mround\u001b[39m(frac \u001b[38;5;241m*\u001b[39m obj_len)\n\u001b[1;32m   5451\u001b[0m \u001b[38;5;28;01mif\u001b[39;00m weights \u001b[38;5;129;01mis\u001b[39;00m \u001b[38;5;129;01mnot\u001b[39;00m \u001b[38;5;28;01mNone\u001b[39;00m:\n\u001b[0;32m-> 5452\u001b[0m     weights \u001b[38;5;241m=\u001b[39m \u001b[43msample\u001b[49m\u001b[38;5;241;43m.\u001b[39;49m\u001b[43mpreprocess_weights\u001b[49m\u001b[43m(\u001b[49m\u001b[38;5;28;43mself\u001b[39;49m\u001b[43m,\u001b[49m\u001b[43m \u001b[49m\u001b[43mweights\u001b[49m\u001b[43m,\u001b[49m\u001b[43m \u001b[49m\u001b[43maxis\u001b[49m\u001b[43m)\u001b[49m\n\u001b[1;32m   5454\u001b[0m sampled_indices \u001b[38;5;241m=\u001b[39m sample\u001b[38;5;241m.\u001b[39msample(obj_len, size, replace, weights, rs)\n\u001b[1;32m   5455\u001b[0m result \u001b[38;5;241m=\u001b[39m \u001b[38;5;28mself\u001b[39m\u001b[38;5;241m.\u001b[39mtake(sampled_indices, axis\u001b[38;5;241m=\u001b[39maxis)\n",
      "File \u001b[0;32m~/opt/anaconda3/envs/jupyter/lib/python3.9/site-packages/pandas/core/sample.py:40\u001b[0m, in \u001b[0;36mpreprocess_weights\u001b[0;34m(obj, weights, axis)\u001b[0m\n\u001b[1;32m     38\u001b[0m         weights \u001b[38;5;241m=\u001b[39m obj[weights]\n\u001b[1;32m     39\u001b[0m     \u001b[38;5;28;01mexcept\u001b[39;00m \u001b[38;5;167;01mKeyError\u001b[39;00m \u001b[38;5;28;01mas\u001b[39;00m err:\n\u001b[0;32m---> 40\u001b[0m         \u001b[38;5;28;01mraise\u001b[39;00m \u001b[38;5;167;01mKeyError\u001b[39;00m(\n\u001b[1;32m     41\u001b[0m             \u001b[38;5;124m\"\u001b[39m\u001b[38;5;124mString passed to weights not a valid column\u001b[39m\u001b[38;5;124m\"\u001b[39m\n\u001b[1;32m     42\u001b[0m         ) \u001b[38;5;28;01mfrom\u001b[39;00m \u001b[38;5;21;01merr\u001b[39;00m\n\u001b[1;32m     43\u001b[0m \u001b[38;5;28;01melse\u001b[39;00m:\n\u001b[1;32m     44\u001b[0m     \u001b[38;5;28;01mraise\u001b[39;00m \u001b[38;5;167;01mValueError\u001b[39;00m(\n\u001b[1;32m     45\u001b[0m         \u001b[38;5;124m\"\u001b[39m\u001b[38;5;124mStrings can only be passed to \u001b[39m\u001b[38;5;124m\"\u001b[39m\n\u001b[1;32m     46\u001b[0m         \u001b[38;5;124m\"\u001b[39m\u001b[38;5;124mweights when sampling from rows on \u001b[39m\u001b[38;5;124m\"\u001b[39m\n\u001b[1;32m     47\u001b[0m         \u001b[38;5;124m\"\u001b[39m\u001b[38;5;124ma DataFrame\u001b[39m\u001b[38;5;124m\"\u001b[39m\n\u001b[1;32m     48\u001b[0m     )\n",
      "\u001b[0;31mKeyError\u001b[0m: 'String passed to weights not a valid column'"
     ]
    }
   ],
   "source": [
    "N_PARTICIPANTS = 1\n",
    "N_REPEATS = 1000\n",
    "\n",
    "for i in range(0, N_REPEATS):\n",
    "    all_dfs = []\n",
    "\n",
    "    for context, utterances in exp_one_full_df.groupby(\"action_context\"):\n",
    "                \n",
    "        # sample extra utterances to be safe MLE-Utility_prob\n",
    "        simulated_utterances = utterances.sample(n=N_PARTICIPANTS, replace=True, weights=\"MLE-Ambiguous_prob\")\n",
    "        all_dfs.append(simulated_utterances)\n",
    "    \n",
    "    sampled_utterances = pd.concat(all_dfs)\n",
    "    sampled_utterances = sampled_utterances.sample(N_PARTICIPANTS*36)\n",
    "    \n",
    "    if i % 100 == 0:\n",
    "        print(\"Rep {}: {} utterances.\".format(i, len(sampled_utterances)))\n",
    "    \n",
    "    formatted_for_webppl = list(sampled_utterances.apply(lambda x: simulation_row_to_webppl_input(x), axis=1))\n",
    "    output_file = \"../signaling-bandits-exp/data/webppl-input/power-analysis/{}-participants-run-{}.json\".format(N_PARTICIPANTS, i)\n",
    "    json.dump(formatted_for_webppl, open(output_file, 'w'))\n",
    "    \n",
    "sampled_utterances.head()"
   ]
  },
  {
   "cell_type": "code",
   "execution_count": null,
   "metadata": {
    "tags": []
   },
   "outputs": [],
   "source": [
    "sampled_utterances[\"truthful\"].value_counts()"
   ]
  },
  {
   "cell_type": "code",
   "execution_count": null,
   "metadata": {},
   "outputs": [],
   "source": [
    "percent_of_messages = (sampled_utterances.groupby([\"feature\", \"value\"]).size() / len(sampled_utterances)).reset_index()\n",
    "\n",
    "message_table = percent_of_messages.pivot(\"value\", \"feature\", 0)\n",
    "\n",
    "features_in_descending_order = [\"green\", \"circle\", \"triangle\", \"red\", \"square\", \"blue\"]\n",
    "message_table = message_table.reindex(features_in_descending_order, axis=1).fillna(0)\n",
    "\n",
    "plt.figure()\n",
    "ax = sns.heatmap(message_table, cmap=\"Oranges\")#, annot=labels)\n",
    "ax.invert_yaxis()\n"
   ]
  },
  {
   "cell_type": "code",
   "execution_count": null,
   "metadata": {},
   "outputs": [],
   "source": [
    "print([{\"action_context\": [{\"color\": \"Blue\", \"texture\": \"Striped\"}, {\"color\": \"Green\", \"texture\": \"Solid\"}, {\"color\": \"Red\", \"texture\": \"Solid\"}], \"workerid\": \"W00fd8c9c73\", \"objective\": \"ambiguous\", \"response\": {\"feature\": \"Green\", \"feature_value\": 2}}])"
   ]
  },
  {
   "cell_type": "code",
   "execution_count": null,
   "metadata": {},
   "outputs": [],
   "source": []
  }
 ],
 "metadata": {
  "kernelspec": {
   "display_name": "Python 3 (ipykernel)",
   "language": "python",
   "name": "python3"
  },
  "language_info": {
   "codemirror_mode": {
    "name": "ipython",
    "version": 3
   },
   "file_extension": ".py",
   "mimetype": "text/x-python",
   "name": "python",
   "nbconvert_exporter": "python",
   "pygments_lexer": "ipython3",
   "version": "3.9.12"
  }
 },
 "nbformat": 4,
 "nbformat_minor": 4
}
